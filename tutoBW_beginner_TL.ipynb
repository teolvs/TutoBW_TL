{
 "cells": [
  {
   "cell_type": "markdown",
   "metadata": {},
   "source": [
    "# Introductory note\n",
    "<a id='section0'></a>\n",
    "This is a [Jupyter Notebook](https://jupyter-notebook-beginner-guide.readthedocs.io/en/latest/what_is_jupyter.html) with the purpose of making you familiar with the basic Python-based [Brightway2 LCA framework](https://docs.brightway.dev/en/latest/#) and its various functionalities, all developed by Chris Mutel and colleagues from the Paul Sherrer Institute (PSI).\n",
    "\n",
    "This tutorial is made for the old version of bw2, and is not meant to handle the new version bw25 (even if the framework remains quite similar). More informations can be found in the [documentation](https://docs.brightway.dev/en/latest/#)\n",
    "\n",
    "<div class=\"alert alert-block alert-info\">\n",
    "This notebook is designed to get you started with creating your own project, setting up your database(s) (used as background systems) and simple foreground systems, performing your first impact assessments, analysing your results, and running Monte Carlo simulations in calculation setups.\n",
    "</div>\n",
    "\n",
    "\n",
    "<br>\n",
    "\n",
    "---\n",
    "\n",
    "The notebook is structured as follows:  \n",
    "\n",
    "1. [Setup of a project](#section1): *How to set up a project to work in* <br><br>\n",
    "2. [Database import/setup](#section2): *How to import a database and get it ready for use*<br><br>\n",
    "3. [My First LCA](#section3): *How to do an LCA on Brightway2*<br><br> \n",
    "4. [My second LCA : comparative LCA](#section4): *How to LCA scores*<br><br>\n",
    "5. [My third LCA : mutliple impact categories](#section5): *LCIA with several impact categories*<br><br>\n",
    "6. [Basic contribution analysis](#section6): *How to examine the LCA results*<br><br>  \n",
    "---\n",
    "\n",
    "**Outcomes - what are we going to learn?**\n",
    "\n",
    "By completing this notebook (run it locally on your machine and don't just read the code), we will:\n",
    "- have understood the basics of the Brightway2 LCA framework\n",
    "- know how to import/generate/handle datasets in Brightway2\n",
    "- be able to run simple LCAs (both linearly and in parallel)\n",
    "- be able to analyse a product system and the results of an LCA\n",
    "- be able to visualise data in form of tables and figures\n",
    "\n",
    "<br>\n",
    "\n",
    "---\n",
    "Just for clarification, abbreviations used in the markdown cells of this notebook are:\n",
    "\n",
    "| Abbreviation(s) | Written out |\n",
    "| --- | --- |\n",
    "| bw, BW2 | Brightway2 |\n",
    "| FU | Functional unit |\n",
    "| LCA | Life cycle assessment |\n",
    "| LCI | Life cycle inventory |\n",
    "| LCIA | Life cycle impact assessment |\n",
    "\n",
    "---\n",
    "\n",
    "**Recap on LCA**\n",
    "\n",
    "To make sure we are on the same page, let's recapitulate the basics of LCA, expressed in a single formula (the notation may differ to the one that you are familiar with):\n",
    "\n",
    "$$h = CBA^{-1}f$$\n",
    "\n",
    "where:\n",
    "- $A$... technosphere matrix (dimensions *p x q*)\n",
    "- $B$... biosphere matrix (dimensions *r x q*)\n",
    "- $C$... characterisation matrix (dimensions *p x q*)\n",
    "- $f$... final demand vector (dimensions *p x 1*)\n",
    "- $h$... characterised inventory matrix (dimensions *1 x 1*)\n",
    "\n",
    "with the dimensions being:\n",
    "- *p*... number of products\n",
    "- *q*... number of activities/processes\n",
    "- *r*... number of elementary flows\n",
    "\n",
    "Specific parts of the above formula have distinct names. Since these names are also used in the Brightway2-framework, we will note them down here:\n",
    "- $f$... demand array\n",
    "- $A{^-1}f$... supply array\n",
    "- $BA{^-1}f$... inventory referred sometimes as b\n",
    "- $CBA{^-1}f$... characterised inventory\n",
    "\n",
    "<br>\n"
   ]
  },
  {
   "cell_type": "markdown",
   "metadata": {
    "tags": []
   },
   "source": [
    "<a id='section1'></a>\n",
    "# 1. Setup of a project\n",
    "\n",
    "A project gets instantiated and relevant libraries/modules imported."
   ]
  },
  {
   "cell_type": "markdown",
   "metadata": {
    "tags": []
   },
   "source": [
    "## 1.1. Creation of the project and the biosphere database"
   ]
  },
  {
   "cell_type": "markdown",
   "metadata": {},
   "source": [
    "Import some useful libraries for data vizualisation, scientific computation "
   ]
  },
  {
   "cell_type": "code",
   "execution_count": null,
   "metadata": {},
   "outputs": [],
   "source": [
    "import os\n",
    "import matplotlib.pyplot as plt\n",
    "import numpy as np\n",
    "import pandas as pd"
   ]
  },
  {
   "cell_type": "markdown",
   "metadata": {},
   "source": [
    "Import now brightway libraries that are split into sublibraries :\n",
    "- ``Brightway2-data`` handles storing and searching all data sources (databases, LCIA methods, etc.).\n",
    "- ``Brightway2-calc`` does LCA calculations.\n",
    "- ``Brightway2-io`` tools for the import, export, and management of inventory databases and impact assessment methods. LCA calculations.\n",
    "- ``Brightway2-analyzer`` analyzes input data like databases and methods, as well as the result of LCA calculations.\n",
    "- ``Brightway2-parameters`` Library for storing, validating, and calculating with parameters.\n",
    "\n",
    "> it is better to import these libraries separately rather than a brutal ``from brightway2 import *`` since with the upcoming update bw25, this will not work anymore.- "
   ]
  },
  {
   "cell_type": "code",
   "execution_count": 1,
   "metadata": {},
   "outputs": [],
   "source": [
    "import bw2data as bd\n",
    "import bw2io as bi\n",
    "import bw2calc as bc"
   ]
  },
  {
   "cell_type": "markdown",
   "metadata": {},
   "source": [
    "Useful tips : one can be interested to check the version of the library imported since there can be some incompatibilities between libraries and databases version.  \n",
    "Sumup of the compatibility of versions of Ecoinvent and Brightway2:   "
   ]
  },
  {
   "cell_type": "code",
   "execution_count": 2,
   "metadata": {},
   "outputs": [],
   "source": [
    "# | Ecoinvent version \t| Brightway Version \t| bw2io Version   \t|\n",
    "# |-------------------\t|-------------------\t|-----------------\t|\n",
    "# | ecoinvent 3.8     \t| bw2               \t| bw2io 0.8.7     \t|\n",
    "# | ecoinvent 3.9     \t| bw2               \t| bw2io 0.8.8     \t|\n",
    "# | ecoinvent 3.8     \t| bw2.5             \t| bw2io 0.9.dev11 \t|\n",
    "# | ecoinvent 3.9     \t| bw2.5             \t| bw2io 0.9.dev10 \t|"
   ]
  },
  {
   "cell_type": "markdown",
   "metadata": {},
   "source": [
    "The command to show the version of one library is :"
   ]
  },
  {
   "cell_type": "code",
   "execution_count": 3,
   "metadata": {},
   "outputs": [
    {
     "name": "stdout",
     "output_type": "stream",
     "text": [
      "(0, 8, 12)\n"
     ]
    }
   ],
   "source": [
    "print(bi.__version__)"
   ]
  },
  {
   "cell_type": "markdown",
   "metadata": {},
   "source": [
    "Let's list the available projects. This project is at the top level of the BW hierarchy. A project is self-contained, with its own copy of data, LCIA methods, calculations, assumptions, and any other data you need. Each project is completely independent of other projects.Projects are saved as subdirectories in the file system.\n",
    "\n",
    "<img src=\"images/project.webp\"  width=\"500\" style=\"display: block; margin: 0 auto\">"
   ]
  },
  {
   "cell_type": "code",
   "execution_count": 4,
   "metadata": {},
   "outputs": [
    {
     "data": {
      "text/plain": [
       "Brightway2 projects manager with 4 objects:\n",
       "\tPB\n",
       "\tTUTO\n",
       "\tdefault\n",
       "\tmodel\n",
       "Use `projects.report()` to get a report on all projects."
      ]
     },
     "execution_count": 4,
     "metadata": {},
     "output_type": "execute_result"
    }
   ],
   "source": [
    "bd.projects"
   ]
  },
  {
   "cell_type": "code",
   "execution_count": 5,
   "metadata": {},
   "outputs": [],
   "source": [
    "# how to remove a project\n",
    "# bd.projects.delete_project('TUTO')"
   ]
  },
  {
   "cell_type": "markdown",
   "metadata": {},
   "source": [
    "We can get more information (installed databases and file sizes) on the individual projects... and also see where they are stored with the following command. (you might need to dig into this folder if any persisting troubles)"
   ]
  },
  {
   "cell_type": "code",
   "execution_count": 6,
   "metadata": {},
   "outputs": [
    {
     "data": {
      "text/plain": [
       "'C:\\\\Users\\\\TL268686\\\\AppData\\\\Local\\\\pylca\\\\Brightway3\\\\default.c21f969b5f03d33d43e04f8f136e7682'"
      ]
     },
     "execution_count": 6,
     "metadata": {},
     "output_type": "execute_result"
    }
   ],
   "source": [
    "bd.projects.dir"
   ]
  },
  {
   "cell_type": "markdown",
   "metadata": {},
   "source": [
    "To create a new project or to access an existing one, we type in:"
   ]
  },
  {
   "cell_type": "code",
   "execution_count": 7,
   "metadata": {},
   "outputs": [],
   "source": [
    "bd.projects.set_current(\"TUTO\") #Creating/accessing the project"
   ]
  },
  {
   "cell_type": "markdown",
   "metadata": {},
   "source": [
    "Check if our new project is well created:"
   ]
  },
  {
   "cell_type": "code",
   "execution_count": 8,
   "metadata": {},
   "outputs": [
    {
     "data": {
      "text/plain": [
       "Brightway2 projects manager with 4 objects:\n",
       "\tPB\n",
       "\tTUTO\n",
       "\tdefault\n",
       "\tmodel\n",
       "Use `projects.report()` to get a report on all projects."
      ]
     },
     "execution_count": 8,
     "metadata": {},
     "output_type": "execute_result"
    }
   ],
   "source": [
    "bd.projects"
   ]
  },
  {
   "cell_type": "markdown",
   "metadata": {},
   "source": [
    "Look inside the project to know what datases are already imported:"
   ]
  },
  {
   "cell_type": "code",
   "execution_count": 9,
   "metadata": {},
   "outputs": [
    {
     "data": {
      "text/plain": [
       "Databases dictionary with 0 objects"
      ]
     },
     "execution_count": 9,
     "metadata": {},
     "output_type": "execute_result"
    }
   ],
   "source": [
    "bd.databases"
   ]
  },
  {
   "cell_type": "markdown",
   "metadata": {},
   "source": [
    "**Continue, or back to [table of contents](#section0)?**\n",
    "***"
   ]
  },
  {
   "cell_type": "markdown",
   "metadata": {
    "tags": []
   },
   "source": [
    "## 1.2 Biosphere3 database and LCIA methods"
   ]
  },
  {
   "cell_type": "markdown",
   "metadata": {},
   "source": [
    "Let's import the biosphere database (B matrix) which imports also the LCIA methods (C methods)"
   ]
  },
  {
   "cell_type": "code",
   "execution_count": 10,
   "metadata": {},
   "outputs": [
    {
     "name": "stdout",
     "output_type": "stream",
     "text": [
      "Creating default biosphere\n",
      "\n"
     ]
    },
    {
     "name": "stderr",
     "output_type": "stream",
     "text": [
      "Writing activities to SQLite3 database:\n"
     ]
    },
    {
     "name": "stdout",
     "output_type": "stream",
     "text": [
      "Applying strategy: normalize_units\n",
      "Applying strategy: drop_unspecified_subcategories\n",
      "Applying strategy: ensure_categories_are_tuples\n",
      "Applied 3 strategies in 0.03 seconds\n"
     ]
    },
    {
     "name": "stderr",
     "output_type": "stream",
     "text": [
      "0% [##############################] 100% | ETA: 00:00:00\n",
      "Total time elapsed: 00:00:01\n"
     ]
    },
    {
     "name": "stdout",
     "output_type": "stream",
     "text": [
      "Title: Writing activities to SQLite3 database:\n",
      "  Started: 09/30/2024 11:15:29\n",
      "  Finished: 09/30/2024 11:15:30\n",
      "  Total time elapsed: 00:00:01\n",
      "  CPU %: 89.10\n",
      "  Memory %: 1.27\n",
      "Created database: biosphere3\n",
      "Creating default LCIA methods\n",
      "\n",
      "Wrote 762 LCIA methods with 227223 characterization factors\n",
      "Creating core data migrations\n",
      "\n"
     ]
    }
   ],
   "source": [
    "bi.bw2setup() #Importing elementary flows, LCIA methods and some other data"
   ]
  },
  {
   "cell_type": "markdown",
   "metadata": {},
   "source": [
    "The output tells us that bw2_setup created some very useful things:  \n",
    "  - Created a database called \"biosphere3\": this database contains elementary flows (called biosphere exchanges in Brightway2)  \n",
    "  - **762** impact assessment methods  (with bw2data version 3.8.8)\n",
    "  \n",
    "It also created some a `mapping` between the imported exchanges and some integer: more on this later.  "
   ]
  },
  {
   "cell_type": "code",
   "execution_count": 11,
   "metadata": {
    "collapsed": false,
    "jupyter": {
     "outputs_hidden": false
    }
   },
   "outputs": [
    {
     "data": {
      "text/plain": [
       "Databases dictionary with 1 object(s):\n",
       "\tbiosphere3"
      ]
     },
     "execution_count": 11,
     "metadata": {},
     "output_type": "execute_result"
    }
   ],
   "source": [
    "bd.databases"
   ]
  },
  {
   "cell_type": "markdown",
   "metadata": {},
   "source": [
    "To access a database in Brightway, you use the `Database` initialization method (again, you can type `Database?` for more information - this is the last time I'll mention this.)"
   ]
  },
  {
   "cell_type": "code",
   "execution_count": 12,
   "metadata": {
    "collapsed": false,
    "jupyter": {
     "outputs_hidden": false
    }
   },
   "outputs": [
    {
     "data": {
      "text/plain": [
       "Brightway2 SQLiteBackend: biosphere3"
      ]
     },
     "execution_count": 12,
     "metadata": {},
     "output_type": "execute_result"
    }
   ],
   "source": [
    "bd.Database('biosphere3')"
   ]
  },
  {
   "cell_type": "markdown",
   "metadata": {},
   "source": [
    "It doesn't actually return anything other than information about the Backend.  \n",
    "However, there are many properties and functions associated with this database object.\n",
    "\n",
    "Let's assign the database to a variable:"
   ]
  },
  {
   "cell_type": "code",
   "execution_count": 13,
   "metadata": {
    "tags": []
   },
   "outputs": [],
   "source": [
    "my_bio = bd.Database('biosphere3')"
   ]
  },
  {
   "cell_type": "markdown",
   "metadata": {},
   "source": [
    "Let's check the my_bio `type`:"
   ]
  },
  {
   "cell_type": "code",
   "execution_count": 14,
   "metadata": {
    "collapsed": false,
    "jupyter": {
     "outputs_hidden": false
    }
   },
   "outputs": [
    {
     "data": {
      "text/plain": [
       "bw2data.backends.peewee.database.SQLiteBackend"
      ]
     },
     "execution_count": 14,
     "metadata": {},
     "output_type": "execute_result"
    }
   ],
   "source": [
    "type(my_bio)"
   ]
  },
  {
   "cell_type": "markdown",
   "metadata": {},
   "source": [
    "Let's check its length:"
   ]
  },
  {
   "cell_type": "code",
   "execution_count": 15,
   "metadata": {
    "collapsed": false,
    "jupyter": {
     "outputs_hidden": false
    }
   },
   "outputs": [
    {
     "data": {
      "text/plain": [
       "4709"
      ]
     },
     "execution_count": 15,
     "metadata": {},
     "output_type": "execute_result"
    }
   ],
   "source": [
    "len(my_bio)"
   ]
  },
  {
   "cell_type": "markdown",
   "metadata": {},
   "source": [
    "If you type `my_bio.` and click on tab, you should get a list of properties and methods associated with database objects. Try this now:"
   ]
  },
  {
   "cell_type": "code",
   "execution_count": 16,
   "metadata": {
    "tags": []
   },
   "outputs": [
    {
     "ename": "SyntaxError",
     "evalue": "invalid syntax (547212749.py, line 1)",
     "output_type": "error",
     "traceback": [
      "\u001b[1;36m  Cell \u001b[1;32mIn[16], line 1\u001b[1;36m\u001b[0m\n\u001b[1;33m    my_bio.       # Type my_bio. and click tab. Have a look at the different properties and objects\u001b[0m\n\u001b[1;37m                  ^\u001b[0m\n\u001b[1;31mSyntaxError\u001b[0m\u001b[1;31m:\u001b[0m invalid syntax\n"
     ]
    }
   ],
   "source": [
    "my_bio.       # Type my_bio. and click tab. Have a look at the different properties and objects"
   ]
  },
  {
   "cell_type": "markdown",
   "metadata": {},
   "source": [
    "Some of the more basic ones we will be using now are :  \n",
    "  - `random()` - returns a random activity in the database\n",
    "  - `get(*valid_exchange_tuple*)` - returns an activity, but you must know the activity key\n",
    "  - `load()` - loads the whole database as a dictionary.\n",
    "  - `make_searchable` - allows searching of the database (by default, it is already searchable)\n",
    "  - `search` - search the database  \n",
    "  \n",
    "Lets start with `random`:"
   ]
  },
  {
   "cell_type": "code",
   "execution_count": 17,
   "metadata": {
    "collapsed": false,
    "jupyter": {
     "outputs_hidden": false
    }
   },
   "outputs": [
    {
     "data": {
      "text/plain": [
       "'Beryllium II' (kilogram, None, ('air', 'lower stratosphere + upper troposphere'))"
      ]
     },
     "execution_count": 17,
     "metadata": {},
     "output_type": "execute_result"
    }
   ],
   "source": [
    "my_bio.random()"
   ]
  },
  {
   "cell_type": "markdown",
   "metadata": {},
   "source": [
    "This returns a biosphere activity, but without assigning it to a variable, there is not much we can do with it directly.  "
   ]
  },
  {
   "cell_type": "markdown",
   "metadata": {},
   "source": [
    "*Note: It may seem counter-intuitive for elementary *flows* to be considered *activities* in Brightway, but it is no mistake.*"
   ]
  },
  {
   "cell_type": "markdown",
   "metadata": {},
   "source": [
    "<div class=\"alert alert-block alert-info\">\n",
    "LCA models are made up of <strong><span style=\"color:blue\">nodes = activities</span></strong> that are linked by <strong><span style=\"color:blue\">edges = exchanges</span></strong>.   \n",
    "\n",
    "The biosphere activities are the nodes outside the technosphere. Emissions and resource extractions are modelled as exchanges between activities in the technosphere (part of the product system) and these biosphere activities.  \n",
    "More on this later. \n",
    "\n",
    "<img src=\"images/activity_schema.png\"  width=\"600\" style=\"display: block; margin: 0 auto\">"
   ]
  },
  {
   "cell_type": "markdown",
   "metadata": {},
   "source": [
    "For now, let's assign another random activity to a variable:"
   ]
  },
  {
   "cell_type": "code",
   "execution_count": 18,
   "metadata": {
    "collapsed": false,
    "jupyter": {
     "outputs_hidden": false
    }
   },
   "outputs": [
    {
     "data": {
      "text/plain": [
       "'Epoxiconazole' (kilogram, None, ('soil', 'agricultural'))"
      ]
     },
     "execution_count": 18,
     "metadata": {},
     "output_type": "execute_result"
    }
   ],
   "source": [
    "random_biosphere = my_bio.random()\n",
    "random_biosphere"
   ]
  },
  {
   "cell_type": "markdown",
   "metadata": {},
   "source": [
    "We can get the type of the object that was returned from the database:"
   ]
  },
  {
   "cell_type": "code",
   "execution_count": 19,
   "metadata": {
    "collapsed": false,
    "jupyter": {
     "outputs_hidden": false
    }
   },
   "outputs": [
    {
     "data": {
      "text/plain": [
       "bw2data.backends.peewee.proxies.Activity"
      ]
     },
     "execution_count": 19,
     "metadata": {},
     "output_type": "execute_result"
    }
   ],
   "source": [
    "type(random_biosphere)"
   ]
  },
  {
   "cell_type": "markdown",
   "metadata": {},
   "source": [
    "The type is an **activity proxy**. Activity proxies allow us to interact with the content of the database. In the journey to and from the database, several translation layers are used:  \n",
    "<img src=\"images/data_transition_layers.png\" width=\"200\" style=\"display: block; margin: 0 auto\">"
   ]
  },
  {
   "cell_type": "markdown",
   "metadata": {},
   "source": [
    "> In Brightway, we *almost* always work with `Activity` or `Exchange` objects. "
   ]
  },
  {
   "cell_type": "markdown",
   "metadata": {
    "tags": []
   },
   "source": [
    "### Searching for activities"
   ]
  },
  {
   "cell_type": "markdown",
   "metadata": {},
   "source": [
    "Let's say we are looking for a specific elementary flow, we can use the `search` method of the database (see [here](https://docs.brightwaylca.org/technical/bw2data.html#default-backend-databases-stored-in-a-sqlite-database) for more details on using search):"
   ]
  },
  {
   "cell_type": "code",
   "execution_count": 20,
   "metadata": {},
   "outputs": [
    {
     "data": {
      "text/plain": [
       "['Gold' (kilogram, None, ('water',)),\n",
       " 'Gold' (kilogram, None, ('water', 'ground-')),\n",
       " 'Gold' (kilogram, None, ('water', 'surface water')),\n",
       " 'Gold' (kilogram, None, ('water', 'ocean')),\n",
       " 'Gold' (kilogram, None, ('natural resource', 'in ground')),\n",
       " 'Gold' (kilogram, None, ('water', 'ground-, long-term')),\n",
       " 'Gold, Au 1.4E-4%, in ore' (kilogram, None, ('natural resource', 'in ground')),\n",
       " 'Gold, Au 4.3E-4%, in ore' (kilogram, None, ('natural resource', 'in ground')),\n",
       " 'Gold, Au 4.9E-5%, in ore' (kilogram, None, ('natural resource', 'in ground')),\n",
       " 'Gold, Au 7.1E-4%, in ore' (kilogram, None, ('natural resource', 'in ground')),\n",
       " 'Gold, Au 6.7E-4%, in ore' (kilogram, None, ('natural resource', 'in ground')),\n",
       " 'Gold, Au 9.7E-4%, in mixed ore' (kilogram, None, ('natural resource', 'in ground')),\n",
       " 'Gold, Au 1.8E-4%, in mixed ore' (kilogram, None, ('natural resource', 'in ground')),\n",
       " 'Gold, Au 1.0E-7%, in mixed ore' (kilogram, None, ('natural resource', 'in ground')),\n",
       " 'Gold, Au 9.7E-5%, Ag 7.6E-5%, in ore' (kilogram, None, ('natural resource', 'in ground')),\n",
       " 'Gold, Au 2.1E-4%, Ag 2.1E-4%, in ore' (kilogram, None, ('natural resource', 'in ground')),\n",
       " 'Gold, Au 6.8E-4%, Ag 1.5E-4%, in ore' (kilogram, None, ('natural resource', 'in ground')),\n",
       " 'Gold, Au 5.4E-4%, Ag 1.5E-5%, in ore' (kilogram, None, ('natural resource', 'in ground')),\n",
       " 'Gold, Au 1.3E-4%, Ag 4.6E-5%, in ore' (kilogram, None, ('natural resource', 'in ground')),\n",
       " 'Gold, Au 1.1E-4%, Ag 4.2E-3%, in ore' (kilogram, None, ('natural resource', 'in ground'))]"
      ]
     },
     "execution_count": 20,
     "metadata": {},
     "output_type": "execute_result"
    }
   ],
   "source": [
    "bd.Database('biosphere3').search('Gold')"
   ]
  },
  {
   "cell_type": "markdown",
   "metadata": {},
   "source": [
    "It is also possible to use \"filters\" to narrow searches, e.g."
   ]
  },
  {
   "cell_type": "code",
   "execution_count": 21,
   "metadata": {
    "collapsed": false,
    "jupyter": {
     "outputs_hidden": false
    }
   },
   "outputs": [
    {
     "name": "stdout",
     "output_type": "stream",
     "text": [
      "Excluding 17 filtered results\n"
     ]
    },
    {
     "data": {
      "text/plain": [
       "['Carbon dioxide, fossil' (kilogram, None, ('air', 'non-urban air or from high stacks')),\n",
       " 'Carbon dioxide, fossil' (kilogram, None, ('air', 'urban air close to ground')),\n",
       " 'Carbon dioxide, non-fossil' (kilogram, None, ('air', 'urban air close to ground')),\n",
       " 'Carbon dioxide, non-fossil' (kilogram, None, ('air', 'non-urban air or from high stacks'))]"
      ]
     },
     "execution_count": 21,
     "metadata": {},
     "output_type": "execute_result"
    }
   ],
   "source": [
    "bd.Database('biosphere3').search('carbon dioxide', filter={'categories':'urban', 'name':'fossil'})"
   ]
  },
  {
   "cell_type": "markdown",
   "metadata": {},
   "source": [
    "The database object is also iterable, allowing \"home-made\" searches through list comprehensions. This approach is better because one can add as many criteria as wanted to ensure the list comprehension only returns one activity, and then choose it without fear of choosing the wrong one.."
   ]
  },
  {
   "cell_type": "code",
   "execution_count": 22,
   "metadata": {
    "collapsed": false,
    "jupyter": {
     "outputs_hidden": false
    }
   },
   "outputs": [
    {
     "data": {
      "text/plain": [
       "['Carbon dioxide, non-fossil' (kilogram, None, ('air', 'non-urban air or from high stacks')),\n",
       " 'Carbon dioxide, fossil' (kilogram, None, ('air', 'low population density, long-term')),\n",
       " 'Carbon dioxide, non-fossil' (kilogram, None, ('air', 'lower stratosphere + upper troposphere')),\n",
       " 'Carbon dioxide, non-fossil' (kilogram, None, ('air', 'urban air close to ground')),\n",
       " 'Carbon dioxide, non-fossil, resource correction' (kilogram, None, ('natural resource', 'in air')),\n",
       " 'Carbon dioxide, fossil' (kilogram, None, ('air',)),\n",
       " 'Carbon dioxide, non-fossil' (kilogram, None, ('air',)),\n",
       " 'Carbon dioxide, fossil' (kilogram, None, ('air', 'non-urban air or from high stacks')),\n",
       " 'Carbon dioxide, non-fossil' (kilogram, None, ('air', 'low population density, long-term')),\n",
       " 'Carbon dioxide, fossil' (kilogram, None, ('air', 'lower stratosphere + upper troposphere')),\n",
       " 'Carbon dioxide, fossil' (kilogram, None, ('air', 'urban air close to ground'))]"
      ]
     },
     "execution_count": 22,
     "metadata": {},
     "output_type": "execute_result"
    }
   ],
   "source": [
    "[act for act in my_bio if 'Carbon dioxide' in act['name'] and 'fossil' in act['name']]"
   ]
  },
  {
   "cell_type": "code",
   "execution_count": 23,
   "metadata": {
    "collapsed": false,
    "jupyter": {
     "outputs_hidden": false
    }
   },
   "outputs": [
    {
     "data": {
      "text/plain": [
       "['Carbon dioxide, fossil' (kilogram, None, ('air', 'urban air close to ground'))]"
      ]
     },
     "execution_count": 23,
     "metadata": {},
     "output_type": "execute_result"
    }
   ],
   "source": [
    "activity_I_want = [act for act in my_bio if 'Carbon dioxide' in act['name'] \n",
    "                                            and 'fossil' in act['name']\n",
    "                                            and 'non' not in act['name']\n",
    "                                            and 'urban air close to ground' in str(act['categories'])\n",
    "                                            ]\n",
    "activity_I_want"
   ]
  },
  {
   "cell_type": "code",
   "execution_count": 24,
   "metadata": {},
   "outputs": [
    {
     "data": {
      "text/plain": [
       "list"
      ]
     },
     "execution_count": 24,
     "metadata": {},
     "output_type": "execute_result"
    }
   ],
   "source": [
    "type(activity_I_want)"
   ]
  },
  {
   "cell_type": "markdown",
   "metadata": {},
   "source": [
    "Be careful this is a list and not the activity. So lets pick the first index of the list"
   ]
  },
  {
   "cell_type": "code",
   "execution_count": 25,
   "metadata": {},
   "outputs": [
    {
     "data": {
      "text/plain": [
       "'Carbon dioxide, fossil' (kilogram, None, ('air', 'urban air close to ground'))"
      ]
     },
     "execution_count": 25,
     "metadata": {},
     "output_type": "execute_result"
    }
   ],
   "source": [
    "activity_I_want = [act for act in my_bio if 'Carbon dioxide' in act['name'] and 'fossil' in act['name'] and 'non' not in act['name'] and 'urban air close to ground' in str(act['categories'])][0]\n",
    "activity_I_want"
   ]
  },
  {
   "cell_type": "code",
   "execution_count": 26,
   "metadata": {},
   "outputs": [
    {
     "data": {
      "text/plain": [
       "bw2data.backends.peewee.proxies.Activity"
      ]
     },
     "execution_count": 26,
     "metadata": {},
     "output_type": "execute_result"
    }
   ],
   "source": [
    "type(activity_I_want)"
   ]
  },
  {
   "cell_type": "markdown",
   "metadata": {},
   "source": [
    "Let's leave the biosphere database here for now."
   ]
  },
  {
   "cell_type": "markdown",
   "metadata": {
    "tags": []
   },
   "source": [
    "### Methods"
   ]
  },
  {
   "cell_type": "markdown",
   "metadata": {},
   "source": [
    "Importation of biosphere also installed LCIA methods. Let's dig into all these impact categories"
   ]
  },
  {
   "cell_type": "code",
   "execution_count": 27,
   "metadata": {
    "collapsed": false,
    "jupyter": {
     "outputs_hidden": false
    }
   },
   "outputs": [
    {
     "data": {
      "text/plain": [
       "Methods dictionary with 762 objects, including:\n",
       "\t('CML v4.8 2016', 'acidification', 'acidification (incl. fate, average Europe total, A&B)')\n",
       "\t('CML v4.8 2016', 'climate change', 'global warming potential (GWP100)')\n",
       "\t('CML v4.8 2016', 'ecotoxicity: freshwater', 'freshwater aquatic ecotoxicity (FAETP inf)')\n",
       "\t('CML v4.8 2016', 'ecotoxicity: marine', 'marine aquatic ecotoxicity (MAETP inf)')\n",
       "\t('CML v4.8 2016', 'ecotoxicity: terrestrial', 'terrestrial ecotoxicity (TETP inf)')\n",
       "\t('CML v4.8 2016', 'energy resources: non-renewable', 'abiotic depletion potential (ADP): fossil fuels')\n",
       "\t('CML v4.8 2016', 'eutrophication', 'eutrophication (fate not incl.)')\n",
       "\t('CML v4.8 2016', 'human toxicity', 'human toxicity (HTP inf)')\n",
       "\t('CML v4.8 2016', 'material resources: metals/minerals', 'abiotic depletion potential (ADP): elements (ultimate reserves)')\n",
       "\t('CML v4.8 2016', 'ozone depletion', 'ozone layer depletion (ODP steady state)')\n",
       "Use `list(this object)` to get the complete list."
      ]
     },
     "execution_count": 27,
     "metadata": {},
     "output_type": "execute_result"
    }
   ],
   "source": [
    "bd.methods"
   ]
  },
  {
   "cell_type": "markdown",
   "metadata": {},
   "source": [
    "One can load a random method:"
   ]
  },
  {
   "cell_type": "code",
   "execution_count": 28,
   "metadata": {
    "collapsed": false,
    "jupyter": {
     "outputs_hidden": false
    }
   },
   "outputs": [
    {
     "data": {
      "text/plain": [
       "('ReCiPe 2016 v1.03, endpoint (H) no LT',\n",
       " 'human health no LT',\n",
       " 'ozone depletion no LT')"
      ]
     },
     "execution_count": 28,
     "metadata": {},
     "output_type": "execute_result"
    }
   ],
   "source": [
    "bd.methods.random()"
   ]
  },
  {
   "cell_type": "code",
   "execution_count": 29,
   "metadata": {
    "collapsed": false,
    "jupyter": {
     "outputs_hidden": false
    }
   },
   "outputs": [
    {
     "data": {
      "text/plain": [
       "tuple"
      ]
     },
     "execution_count": 29,
     "metadata": {},
     "output_type": "execute_result"
    }
   ],
   "source": [
    "type(bd.methods.random())"
   ]
  },
  {
   "cell_type": "markdown",
   "metadata": {},
   "source": [
    "Of course, a random method is probably not useful except to play around. To find an actual method, one can again use list comprehensions. Let's say I am interested in using the IPCC2013 100 years method:"
   ]
  },
  {
   "cell_type": "code",
   "execution_count": 30,
   "metadata": {
    "collapsed": false,
    "jupyter": {
     "outputs_hidden": false
    }
   },
   "outputs": [
    {
     "data": {
      "text/plain": [
       "[('EF v3.0 no LT', 'acidification no LT', 'accumulated exceedance (AE) no LT'),\n",
       " ('EF v3.0 no LT',\n",
       "  'climate change no LT',\n",
       "  'global warming potential (GWP100) no LT'),\n",
       " ('EF v3.0 no LT',\n",
       "  'climate change: biogenic no LT',\n",
       "  'global warming potential (GWP100) no LT'),\n",
       " ('EF v3.0 no LT',\n",
       "  'climate change: fossil no LT',\n",
       "  'global warming potential (GWP100) no LT'),\n",
       " ('EF v3.0 no LT',\n",
       "  'climate change: land use and land use change no LT',\n",
       "  'global warming potential (GWP100) no LT'),\n",
       " ('EF v3.0 no LT',\n",
       "  'ecotoxicity: freshwater no LT',\n",
       "  'comparative toxic unit for ecosystems (CTUe) no LT'),\n",
       " ('EF v3.0 no LT',\n",
       "  'ecotoxicity: freshwater, inorganics no LT',\n",
       "  'comparative toxic unit for ecosystems (CTUe) no LT'),\n",
       " ('EF v3.0 no LT',\n",
       "  'ecotoxicity: freshwater, metals no LT',\n",
       "  'comparative toxic unit for ecosystems (CTUe) no LT'),\n",
       " ('EF v3.0 no LT',\n",
       "  'ecotoxicity: freshwater, organics no LT',\n",
       "  'comparative toxic unit for ecosystems (CTUe) no LT'),\n",
       " ('EF v3.0 no LT',\n",
       "  'energy resources: non-renewable no LT',\n",
       "  'abiotic depletion potential (ADP): fossil fuels no LT'),\n",
       " ('EF v3.0 no LT',\n",
       "  'eutrophication: freshwater no LT',\n",
       "  'fraction of nutrients reaching freshwater end compartment (P) no LT'),\n",
       " ('EF v3.0 no LT',\n",
       "  'eutrophication: marine no LT',\n",
       "  'fraction of nutrients reaching marine end compartment (N) no LT'),\n",
       " ('EF v3.0 no LT',\n",
       "  'eutrophication: terrestrial no LT',\n",
       "  'accumulated exceedance (AE) no LT'),\n",
       " ('EF v3.0 no LT',\n",
       "  'human toxicity: carcinogenic no LT',\n",
       "  'comparative toxic unit for human (CTUh) no LT'),\n",
       " ('EF v3.0 no LT',\n",
       "  'human toxicity: carcinogenic, inorganics no LT',\n",
       "  'comparative toxic unit for human (CTUh) no LT'),\n",
       " ('EF v3.0 no LT',\n",
       "  'human toxicity: carcinogenic, metals no LT',\n",
       "  'comparative toxic unit for human (CTUh) no LT'),\n",
       " ('EF v3.0 no LT',\n",
       "  'human toxicity: carcinogenic, organics no LT',\n",
       "  'comparative toxic unit for human (CTUh) no LT'),\n",
       " ('EF v3.0 no LT',\n",
       "  'human toxicity: non-carcinogenic no LT',\n",
       "  'comparative toxic unit for human (CTUh) no LT'),\n",
       " ('EF v3.0 no LT',\n",
       "  'human toxicity: non-carcinogenic, inorganics no LT',\n",
       "  'comparative toxic unit for human (CTUh) no LT'),\n",
       " ('EF v3.0 no LT',\n",
       "  'human toxicity: non-carcinogenic, metals no LT',\n",
       "  'comparative toxic unit for human (CTUh) no LT'),\n",
       " ('EF v3.0 no LT',\n",
       "  'human toxicity: non-carcinogenic, organics no LT',\n",
       "  'comparative toxic unit for human (CTUh) no LT'),\n",
       " ('EF v3.0 no LT',\n",
       "  'ionising radiation: human health no LT',\n",
       "  'human exposure efficiency relative to u235 no LT'),\n",
       " ('EF v3.0 no LT', 'land use no LT', 'soil quality index no LT'),\n",
       " ('EF v3.0 no LT',\n",
       "  'material resources: metals/minerals no LT',\n",
       "  'abiotic depletion potential (ADP): elements (ultimate reserves) no LT'),\n",
       " ('EF v3.0 no LT',\n",
       "  'ozone depletion no LT',\n",
       "  'ozone depletion potential (ODP) no LT'),\n",
       " ('EF v3.0 no LT',\n",
       "  'particulate matter formation no LT',\n",
       "  'impact on human health no LT'),\n",
       " ('EF v3.0 no LT',\n",
       "  'photochemical oxidant formation: human health no LT',\n",
       "  'tropospheric ozone concentration increase no LT'),\n",
       " ('EF v3.0 no LT',\n",
       "  'water use no LT',\n",
       "  'user deprivation potential (deprivation-weighted water consumption) no LT')]"
      ]
     },
     "execution_count": 30,
     "metadata": {},
     "output_type": "execute_result"
    }
   ],
   "source": [
    "[m for m in bd.methods if 'EF v3.0 no LT' in str(m)]"
   ]
  },
  {
   "cell_type": "markdown",
   "metadata": {},
   "source": [
    "I am interested in the second of these, and will assign it to a variable. I can will refine my search until there is one element in my list and then choose it by subscripting.  \n",
    "> *you might have an error here, since the exact name of the method depends on the version of bw. Just adapt the syntax to get the method GWP100 by IPCC 2013*"
   ]
  },
  {
   "cell_type": "code",
   "execution_count": 31,
   "metadata": {
    "collapsed": false,
    "jupyter": {
     "outputs_hidden": false
    }
   },
   "outputs": [
    {
     "data": {
      "text/plain": [
       "[('IPCC 2013 no LT',\n",
       "  'climate change no LT',\n",
       "  'global warming potential (GWP100) no LT')]"
      ]
     },
     "execution_count": 31,
     "metadata": {},
     "output_type": "execute_result"
    }
   ],
   "source": [
    "[m for m in bd.methods if 'IPCC 2013 no LT' in str(m)\n",
    "                        and 'GWP100' in str(m)]"
   ]
  },
  {
   "cell_type": "markdown",
   "metadata": {},
   "source": [
    "Good, now let's assign it to a variable:"
   ]
  },
  {
   "cell_type": "code",
   "execution_count": 32,
   "metadata": {
    "collapsed": false,
    "jupyter": {
     "outputs_hidden": false
    }
   },
   "outputs": [
    {
     "data": {
      "text/plain": [
       "('IPCC 2013 no LT',\n",
       " 'climate change no LT',\n",
       " 'global warming potential (GWP100) no LT')"
      ]
     },
     "execution_count": 32,
     "metadata": {},
     "output_type": "execute_result"
    }
   ],
   "source": [
    "ipcc2013 = [m for m in bd.methods if 'IPCC 2013 no LT' in str(m)\n",
    "                        and 'GWP100' in str(m)][0]\n",
    "ipcc2013"
   ]
  },
  {
   "cell_type": "markdown",
   "metadata": {},
   "source": [
    "Of course, if I know exactly the method I want, and I know the syntax, I can simply type it out"
   ]
  },
  {
   "cell_type": "markdown",
   "metadata": {},
   "source": [
    "Using ``bd.method()``, we have access to the impact category in BW"
   ]
  },
  {
   "cell_type": "code",
   "execution_count": 33,
   "metadata": {
    "tags": []
   },
   "outputs": [],
   "source": [
    "ipcc_2013_method = bd.Method(ipcc2013)"
   ]
  },
  {
   "cell_type": "code",
   "execution_count": 34,
   "metadata": {
    "collapsed": false,
    "jupyter": {
     "outputs_hidden": false
    }
   },
   "outputs": [
    {
     "data": {
      "text/plain": [
       "bw2data.method.Method"
      ]
     },
     "execution_count": 34,
     "metadata": {},
     "output_type": "execute_result"
    }
   ],
   "source": [
    "type(ipcc_2013_method)"
   ]
  },
  {
   "cell_type": "markdown",
   "metadata": {},
   "source": [
    "Again, there are a bunch of methods associated with a method object. You can access these by typing ipcc_2013_method. and clicking tab.  \n",
    "For example, metadata:"
   ]
  },
  {
   "cell_type": "code",
   "execution_count": 35,
   "metadata": {
    "collapsed": false,
    "jupyter": {
     "outputs_hidden": false
    }
   },
   "outputs": [
    {
     "data": {
      "text/plain": [
       "('IPCC 2013 no LT',\n",
       " 'climate change no LT',\n",
       " 'global warming potential (GWP100) no LT')"
      ]
     },
     "execution_count": 35,
     "metadata": {},
     "output_type": "execute_result"
    }
   ],
   "source": [
    "ipcc_2013_method.name"
   ]
  },
  {
   "cell_type": "code",
   "execution_count": 36,
   "metadata": {
    "collapsed": false,
    "jupyter": {
     "outputs_hidden": false
    }
   },
   "outputs": [
    {
     "data": {
      "text/plain": [
       "{'description': '',\n",
       " 'filename': 'LCIA_Implementation_3.9.xlsx',\n",
       " 'unit': 'kg CO2-Eq',\n",
       " 'abbreviation': 'ipcc-2013-no-ltcg.7962c33963a1191f21e7488df1f998cd',\n",
       " 'num_cfs': 167}"
      ]
     },
     "execution_count": 36,
     "metadata": {},
     "output_type": "execute_result"
    }
   ],
   "source": [
    "ipcc_2013_method.metadata"
   ]
  },
  {
   "cell_type": "code",
   "execution_count": 37,
   "metadata": {
    "collapsed": false,
    "jupyter": {
     "outputs_hidden": false
    }
   },
   "outputs": [
    {
     "data": {
      "text/plain": [
       "'kg CO2-Eq'"
      ]
     },
     "execution_count": 37,
     "metadata": {},
     "output_type": "execute_result"
    }
   ],
   "source": [
    "ipcc_2013_method.metadata['unit']"
   ]
  },
  {
   "cell_type": "markdown",
   "metadata": {},
   "source": [
    "We can also have a look into the characterization factors, elements of the matrix C. \n",
    ">They consist of the key of the *activity = (database name, unique identifier of the activity) and the amount of the CF*"
   ]
  },
  {
   "cell_type": "code",
   "execution_count": 38,
   "metadata": {},
   "outputs": [
    {
     "data": {
      "text/plain": [
       "[(('biosphere3', 'f9749677-9c9f-4678-ab55-c607dfdc2cb9'), 1),\n",
       " (('biosphere3', '6edcc2df-88a3-48e1-83d8-ffc38d31c35b'), 4.0624),\n",
       " (('biosphere3', '9afa0173-ecbd-4f2c-9c5c-b3128a032812'), 2.491),\n",
       " (('biosphere3', '4cadbc9f-0472-4bb9-a942-df5b90e37878'), 16.40180896),\n",
       " (('biosphere3', 'fa0c2bee-8dd9-4f8a-8489-b1f3b43de958'), 1301.27019996),\n",
       " (('biosphere3', '818cee9e-231c-4b53-8ed2-47a0001802d5'), 160.09863099),\n",
       " (('biosphere3', 'f43b2b80-f5a6-4d31-9980-0754305a978d'), 4804.43907777),\n",
       " (('biosphere3', '033d3a16-e1a2-4ce8-8769-f4ea867801ca'), 782.03725986),\n",
       " (('biosphere3', '393d0862-04cc-45ae-8d08-9dc2a4461b35'), 137.56020393),\n",
       " (('biosphere3', '468bebea-17ee-49d3-b11d-c603d91c67c8'), 0.89826217)]"
      ]
     },
     "execution_count": 38,
     "metadata": {},
     "output_type": "execute_result"
    }
   ],
   "source": [
    "cf = ipcc_2013_method.load()\n",
    "\n",
    "cf[:10]"
   ]
  },
  {
   "cell_type": "markdown",
   "metadata": {},
   "source": [
    "**Back to [table of contents](#section0)?**\n",
    "***"
   ]
  },
  {
   "cell_type": "markdown",
   "metadata": {
    "tags": []
   },
   "source": [
    "<a id='section2'></a>\n",
    "# 2. Database import/setup"
   ]
  },
  {
   "cell_type": "markdown",
   "metadata": {
    "tags": []
   },
   "source": [
    "<a id='section21'></a>\n",
    "## 2.1 Importing ecoinvent\n",
    "\n",
    "LCA draws on a lot of background data. Those can be found in numerous databases, for instance ecoinvent. We can check which databases are available in the current project with the following command:"
   ]
  },
  {
   "cell_type": "markdown",
   "metadata": {},
   "source": [
    "To import ecoinvent, you need a license and download the ecoinvent file locally. Then can import it with the following command"
   ]
  },
  {
   "cell_type": "code",
   "execution_count": 39,
   "metadata": {},
   "outputs": [
    {
     "name": "stderr",
     "output_type": "stream",
     "text": [
      "Extracting ecospold2 files:\n",
      "0% [##############################] 100% | ETA: 00:00:00 | Item ID: fffede58-fed2-5\n",
      "Total time elapsed: 00:09:45\n"
     ]
    },
    {
     "name": "stdout",
     "output_type": "stream",
     "text": [
      "Title: Extracting ecospold2 files:\n",
      "  Started: 09/30/2024 11:19:16\n",
      "  Finished: 09/30/2024 11:29:01\n",
      "  Total time elapsed: 00:09:45\n",
      "  CPU %: 45.00\n",
      "  Memory %: 20.72\n",
      "Extracted 21238 datasets in 588.62 seconds\n",
      "Applying strategy: normalize_units\n",
      "Applying strategy: update_ecoinvent_locations\n",
      "Applying strategy: remove_zero_amount_coproducts\n",
      "Applying strategy: remove_zero_amount_inputs_with_no_activity\n",
      "Applying strategy: remove_unnamed_parameters\n",
      "Applying strategy: es2_assign_only_product_with_amount_as_reference_product\n",
      "Applying strategy: assign_single_product_as_activity\n",
      "Applying strategy: create_composite_code\n",
      "Applying strategy: drop_unspecified_subcategories\n",
      "Applying strategy: fix_ecoinvent_flows_pre35\n",
      "Applying strategy: drop_temporary_outdated_biosphere_flows\n",
      "Applying strategy: link_biosphere_by_flow_uuid\n",
      "Applying strategy: link_internal_technosphere_by_composite_code\n",
      "Applying strategy: delete_exchanges_missing_activity\n",
      "Applying strategy: delete_ghost_exchanges\n",
      "Applying strategy: remove_uncertainty_from_negative_loss_exchanges\n",
      "Applying strategy: fix_unreasonably_high_lognormal_uncertainties\n",
      "Applying strategy: convert_activity_parameters_to_list\n",
      "Applying strategy: add_cpc_classification_from_single_reference_product\n",
      "Applying strategy: delete_none_synonyms\n",
      "Applying strategy: update_social_flows_in_older_consequential\n",
      "Applying strategy: set_lognormal_loc_value\n",
      "Applied 22 strategies in 13.28 seconds\n"
     ]
    },
    {
     "name": "stderr",
     "output_type": "stream",
     "text": [
      "Writing activities to SQLite3 database:\n"
     ]
    },
    {
     "name": "stdout",
     "output_type": "stream",
     "text": [
      "21238 datasets\n",
      "674593 exchanges\n",
      "0 unlinked exchanges\n",
      "  \n"
     ]
    },
    {
     "name": "stderr",
     "output_type": "stream",
     "text": [
      "0% [##############################] 100% | ETA: 00:00:00\n",
      "Total time elapsed: 00:01:10\n"
     ]
    },
    {
     "name": "stdout",
     "output_type": "stream",
     "text": [
      "Title: Writing activities to SQLite3 database:\n",
      "  Started: 09/30/2024 11:29:15\n",
      "  Finished: 09/30/2024 11:30:26\n",
      "  Total time elapsed: 00:01:10\n",
      "  CPU %: 94.70\n",
      "  Memory %: 21.64\n",
      "Created database: ecoinvent 3.9.1_cutoff\n"
     ]
    }
   ],
   "source": [
    "if 'ecoinvent 3.9_cutoff' in bd.databases:\n",
    "    print(\"Database has already been imported.\")\n",
    "else:\n",
    "    # mind that the ecoinvent file must be unzipped;\n",
    "    # Update the name and path to the location of the ecoinvent database\n",
    "    fp = r\"C:\\Users\\User\\Documents\\These\\BW2\\Database\\Ecoinvent 3.9\\ecoinvent 3.9.1_cutoff_ecoSpold02\\datasets\" # the \"r\" makes sure that the path is read as a string - especially useful when you have spaces in your string\n",
    "    ei = bi.SingleOutputEcospold2Importer(fp, 'ecoinvent 3.9.1_cutoff') \n",
    "    ei.apply_strategies() #apply functions to normalize the flows, turn into a adequate format and match all the properties of the flows (name, unit, reference product, location...)\n",
    "    ei.statistics() #to check if some flows have no match\n",
    "    ei.write_database() #regestire the database"
   ]
  },
  {
   "cell_type": "code",
   "execution_count": 41,
   "metadata": {},
   "outputs": [
    {
     "name": "stdout",
     "output_type": "stream",
     "text": [
      "Creating project backup archive - this could take a few minutes...\n"
     ]
    },
    {
     "data": {
      "text/plain": [
       "'TUTO'"
      ]
     },
     "execution_count": 41,
     "metadata": {},
     "output_type": "execute_result"
    }
   ],
   "source": [
    "bi.backup.backup_project_directory(\"TUTO\") #Backup project data directory to a ``.tar.gz`` (compressed tar archive) in the user's home directory.\n",
    "#to restore the project:\n",
    "# bi.backup.restore_project_directory()"
   ]
  },
  {
   "cell_type": "code",
   "execution_count": 42,
   "metadata": {},
   "outputs": [
    {
     "data": {
      "text/plain": [
       "Databases dictionary with 2 object(s):\n",
       "\tbiosphere3\n",
       "\tecoinvent 3.9.1_cutoff"
      ]
     },
     "execution_count": 42,
     "metadata": {},
     "output_type": "execute_result"
    }
   ],
   "source": [
    "bd.databases"
   ]
  },
  {
   "cell_type": "code",
   "execution_count": 43,
   "metadata": {},
   "outputs": [
    {
     "data": {
      "text/plain": [
       "21238"
      ]
     },
     "execution_count": 43,
     "metadata": {},
     "output_type": "execute_result"
    }
   ],
   "source": [
    "len(bd.Database(\"ecoinvent 3.9.1_cutoff\"))"
   ]
  },
  {
   "cell_type": "markdown",
   "metadata": {},
   "source": [
    "Let's dig into our new database"
   ]
  },
  {
   "cell_type": "code",
   "execution_count": 44,
   "metadata": {},
   "outputs": [
    {
     "data": {
      "text/plain": [
       "'market for injection moulding' (kilogram, GLO, None)"
      ]
     },
     "execution_count": 44,
     "metadata": {},
     "output_type": "execute_result"
    }
   ],
   "source": [
    "act_random = bd.Database(\"ecoinvent 3.9.1_cutoff\").random()\n",
    "act_random"
   ]
  },
  {
   "cell_type": "markdown",
   "metadata": {},
   "source": [
    "Let's assign this database to one variable"
   ]
  },
  {
   "cell_type": "code",
   "execution_count": 45,
   "metadata": {},
   "outputs": [],
   "source": [
    "db_background = bd.Database(\"ecoinvent 3.9.1_cutoff\")"
   ]
  },
  {
   "cell_type": "markdown",
   "metadata": {},
   "source": [
    "To delete a database, here is the syntax:"
   ]
  },
  {
   "cell_type": "code",
   "execution_count": 46,
   "metadata": {},
   "outputs": [],
   "source": [
    "# del bd.databases['ecoinvent 3.9.1_cutoff']\n",
    "# bd.databases"
   ]
  },
  {
   "cell_type": "markdown",
   "metadata": {},
   "source": [
    "You might also be interesting in importing another free database the US LCI built with Input/Output tables (macroeconomic data), but it requires the last update of BW : brightway25. A installation file plus the data have been given, with all the required libraries, if you want to use it."
   ]
  },
  {
   "cell_type": "markdown",
   "metadata": {
    "tags": []
   },
   "source": [
    "## 2.2 Importing a dataset from Excel\n",
    "\n",
    "In addition to the import of a standard background database and the manual database creation (see below), we can also import data from various file types, one of them being Excel. This works relatively smoothly, provided the Excel workbook is created correctly. In the following, we import a flawless dataset. \n",
    ">**This is the easiest way to create your own foreground data in Brightway**\n",
    "\n",
    "However, if you are interested in debugging common issues that occur during import, have a look [here](https://github.com/PoutineAndRosti/Brightway-Seminar-2017/blob/master/Day%201%20PM/Data%20IO.ipynb). \n",
    "\n",
    "The used Excel file here was adapted from this source, and should work immediately. Another way for importing an, now unknown, Excel file can be found [here](https://nbviewer.jupyter.org/urls/bitbucket.org/cmutel/brightway2/raw/default/notebooks/IO%20-%20importing%20an%20Excel%20file.ipynb). But here we'll stick to the first approach:"
   ]
  },
  {
   "cell_type": "code",
   "execution_count": 48,
   "metadata": {
    "scrolled": true
   },
   "outputs": [
    {
     "name": "stderr",
     "output_type": "stream",
     "text": [
      "c:\\Users\\TL268686\\Miniforge3\\envs\\bw_lca\\lib\\site-packages\\openpyxl\\worksheet\\_reader.py:329: UserWarning: Unknown extension is not supported and will be removed\n",
      "  warn(msg)\n"
     ]
    },
    {
     "name": "stdout",
     "output_type": "stream",
     "text": [
      "Extracted 1 worksheets in 0.11 seconds\n",
      "Applying strategy: csv_restore_tuples\n",
      "Applying strategy: csv_restore_booleans\n",
      "Applying strategy: csv_numerize\n",
      "Applying strategy: csv_drop_unknown\n",
      "Applying strategy: csv_add_missing_exchanges_section\n",
      "Applying strategy: normalize_units\n",
      "Applying strategy: normalize_biosphere_categories\n",
      "Applying strategy: normalize_biosphere_names\n",
      "Applying strategy: strip_biosphere_exc_locations\n",
      "Applying strategy: set_code_by_activity_hash\n",
      "Applying strategy: link_iterable_by_fields\n",
      "Applying strategy: assign_only_product_as_production\n",
      "Applying strategy: link_technosphere_by_activity_hash\n",
      "Applying strategy: drop_falsey_uncertainty_fields_but_keep_zeros\n",
      "Applying strategy: convert_uncertainty_types_to_integers\n",
      "Applying strategy: convert_activity_parameters_to_list\n",
      "Applied 16 strategies in 21.71 seconds\n",
      "Applying strategy: link_iterable_by_fields\n",
      "Applying strategy: link_iterable_by_fields\n",
      "2 datasets\n",
      "7 exchanges\n",
      "0 unlinked exchanges\n",
      "  \n"
     ]
    },
    {
     "data": {
      "text/plain": [
       "(2, 7, 0)"
      ]
     },
     "execution_count": 48,
     "metadata": {},
     "output_type": "execute_result"
    }
   ],
   "source": [
    "imp = bi.ExcelImporter(\"excel_importer_example_EI391.xlsx\")\n",
    "imp.apply_strategies()\n",
    "imp.match_database(fields=('name', 'unit', 'location'))\n",
    "imp.match_database('ecoinvent 3.9.1_cutoff', fields=('name', 'unit', 'location', 'reference product'))\n",
    "imp.statistics()"
   ]
  },
  {
   "cell_type": "markdown",
   "metadata": {},
   "source": [
    "if you have any unlinked exchanges. One way to visualize the mismatching errors is to create an excel:"
   ]
  },
  {
   "cell_type": "code",
   "execution_count": 50,
   "metadata": {},
   "outputs": [],
   "source": [
    "# imp.write_excel()"
   ]
  },
  {
   "cell_type": "markdown",
   "metadata": {},
   "source": [
    "If no unlinked exchanges, we can register the database: Having imported the data, we also need to write it to a database to save it:"
   ]
  },
  {
   "cell_type": "code",
   "execution_count": 51,
   "metadata": {},
   "outputs": [
    {
     "name": "stderr",
     "output_type": "stream",
     "text": [
      "Writing activities to SQLite3 database:\n",
      "0% [##] 100% | ETA: 00:00:00\n",
      "Total time elapsed: 00:00:00\n"
     ]
    },
    {
     "name": "stdout",
     "output_type": "stream",
     "text": [
      "Title: Writing activities to SQLite3 database:\n",
      "  Started: 09/30/2024 13:00:16\n",
      "  Finished: 09/30/2024 13:00:16\n",
      "  Total time elapsed: 00:00:00\n",
      "  CPU %: 195.30\n",
      "  Memory %: 22.84\n",
      "Created database: water_bottle\n"
     ]
    }
   ],
   "source": [
    "imp.write_database()"
   ]
  },
  {
   "cell_type": "code",
   "execution_count": 52,
   "metadata": {},
   "outputs": [
    {
     "data": {
      "text/plain": [
       "Databases dictionary with 3 object(s):\n",
       "\tbiosphere3\n",
       "\tecoinvent 3.9.1_cutoff\n",
       "\twater_bottle"
      ]
     },
     "execution_count": 52,
     "metadata": {},
     "output_type": "execute_result"
    }
   ],
   "source": [
    "bd.databases"
   ]
  },
  {
   "cell_type": "markdown",
   "metadata": {},
   "source": [
    "You can check the content of the database with the following code :"
   ]
  },
  {
   "cell_type": "code",
   "execution_count": 53,
   "metadata": {},
   "outputs": [
    {
     "name": "stdout",
     "output_type": "stream",
     "text": [
      "'water bottle production' (unit, CH, None)\n",
      "'Drinking water from a bottle' (liter, CH, None)\n"
     ]
    }
   ],
   "source": [
    "db_foreground = bd.Database(\"water_bottle\")\n",
    "for act in db_foreground:\n",
    "    print(act)"
   ]
  },
  {
   "cell_type": "markdown",
   "metadata": {},
   "source": [
    "**Continue, or back to [table of contents](#section0)?**\n",
    "***"
   ]
  },
  {
   "cell_type": "markdown",
   "metadata": {},
   "source": [
    "<div class=\"alert alert-block alert-info\">\n",
    "<b>Tip:</b> Another technique would be to create your foreground database on Activity browser, save it in your projects and use it in Brightway2 (or export it as an excel file)\n",
    "</div>"
   ]
  },
  {
   "cell_type": "markdown",
   "metadata": {},
   "source": [
    "Okay, now that we have our background data (be it manually created or imported from an existing database), it's time to model our foreground system!"
   ]
  },
  {
   "cell_type": "markdown",
   "metadata": {},
   "source": [
    "**Continue, or back to [table of contents](#section0)?**\n",
    "***"
   ]
  },
  {
   "cell_type": "markdown",
   "metadata": {
    "tags": []
   },
   "source": [
    "<a id='section22'></a>\n",
    "## 2.3 Database selection and a first look at activities\n",
    "\n",
    "Now we'll explore more what are really activities and what it contains (spoil : exchanges)"
   ]
  },
  {
   "cell_type": "markdown",
   "metadata": {
    "tags": []
   },
   "source": [
    "### LCI activities"
   ]
  },
  {
   "cell_type": "markdown",
   "metadata": {},
   "source": [
    "<div class=\"alert alert-block alert-info\">\n",
    "When dealing with <strong>background or foreground databases</strong>, activities refers to <strong>intermediary flows</strong> and are modelled in BW as nodes \"within the technosphere\" and will be part of the technosphere matrix A. For the <strong>biosphere database</strong>, activities refers to the <strong>elementary flows</strong>, and will be part of the biosphere matrix B.\n",
    "\n",
    "All theses activities are made of exchanges that consists of **inputs and outputs** which could be different type : \n",
    "- biosphere : consumption of resource or emissions,\n",
    "- technosphere process, \n",
    "- production : output amount\n",
    "\n",
    "</div>\n",
    "\n",
    "There are different ways to get access to an activity. Let's use the `random()` method for now to explore a random activity in the forwast database."
   ]
  },
  {
   "cell_type": "code",
   "execution_count": 54,
   "metadata": {
    "tags": []
   },
   "outputs": [
    {
     "data": {
      "text/plain": [
       "'treatment of bottom ash, MSWI[F]-WWT, WW from tube collector production, slag compartment' (kilogram, CH, None)"
      ]
     },
     "execution_count": 54,
     "metadata": {},
     "output_type": "execute_result"
    }
   ],
   "source": [
    "db_background = bd.Database(\"ecoinvent 3.9.1_cutoff\")\n",
    "random_act = db_background.random()\n",
    "random_act"
   ]
  },
  {
   "cell_type": "markdown",
   "metadata": {},
   "source": [
    "To see what is stored in an activity object, let's convert our random act in a dictionary. There are a lot of metadata contained in an activity !"
   ]
  },
  {
   "cell_type": "code",
   "execution_count": 55,
   "metadata": {
    "collapsed": false,
    "jupyter": {
     "outputs_hidden": false
    }
   },
   "outputs": [
    {
     "data": {
      "text/plain": [
       "{'comment': \"The process represents the treatment of a waste (bottom ash) that is exclusively generated from another waste treatment. Bottom ash is generated in the municipal solid waste incineration of sewage sludge (with 70% water) that in turn is generated from wastewater treatment of 'wastewater from tube collector production'. Recommended use of this dataset: to be used within the specific chain of treatments for 'wastewater from tube collector production'. Share of biogenic carbon in the sludge: 0%.\\nGeography:  Modelling parameters affecting the treatment technology are specific to this geography and to the technology mix encountered in Switzerland in 2000.\\nTechnology:  Slag compartment for bottom ashes from incineration with base seal and leachate collection system. Recultivation after closure.\",\n",
       " 'classifications': [('ISIC rev.4 ecoinvent',\n",
       "   '3821:Treatment and disposal of non-hazardous waste'),\n",
       "  ('CPC',\n",
       "   '3932: Ash and residue (except from the manufacture of iron or steel), containing metals or metallic compounds, except[…]')],\n",
       " 'activity type': 'ordinary transforming activity',\n",
       " 'activity': '591f4bc5-983e-5b5c-a644-d2bd33452a61',\n",
       " 'database': 'ecoinvent 3.9.1_cutoff',\n",
       " 'filename': '591f4bc5-983e-5b5c-a644-d2bd33452a61_e7d2b1b9-f4e7-4b77-b778-ada34b4c9640.spold',\n",
       " 'location': 'CH',\n",
       " 'name': 'treatment of bottom ash, MSWI[F]-WWT, WW from tube collector production, slag compartment',\n",
       " 'synonyms': [],\n",
       " 'parameters': [],\n",
       " 'authors': {'data entry': {'name': 'Nikolia Stoikou',\n",
       "   'email': 'stoikou@ecoinvent.org'},\n",
       "  'data generator': {'name': 'Nikolia Stoikou',\n",
       "   'email': 'stoikou@ecoinvent.org'}},\n",
       " 'type': 'process',\n",
       " 'reference product': 'bottom ash, MSWI[F]-WWT, WW from tube collector production',\n",
       " 'flow': 'e7d2b1b9-f4e7-4b77-b778-ada34b4c9640',\n",
       " 'unit': 'kilogram',\n",
       " 'production amount': -1.0,\n",
       " 'code': '18cf0280b860808d6f1b385b83805d2d'}"
      ]
     },
     "execution_count": 55,
     "metadata": {},
     "output_type": "execute_result"
    }
   ],
   "source": [
    "random_act.as_dict()"
   ]
  },
  {
   "cell_type": "markdown",
   "metadata": {},
   "source": [
    "Notice one important thing: **no exchanges**!  \n",
    "Indeed, the exchanges and the activities are stored in two different tables of the `databases.db` database.  \n",
    "It is possible, however, to iterate through the exchanges of the activities."
   ]
  },
  {
   "cell_type": "markdown",
   "metadata": {
    "tags": []
   },
   "source": [
    "### LCI exchanges"
   ]
  },
  {
   "cell_type": "markdown",
   "metadata": {},
   "source": [
    "**`Exchanges`** are the edges between nodes.\n",
    "\n",
    "These can be an edge:  \n",
    "  - between two activities within the technosphere (an element $a_{ij}$ of matrix $A$)  \n",
    "  - between an activity in the technosphere and an activity in the biosphere (an element $b_{kj}$ of the biosphere matrix $B$)."
   ]
  },
  {
   "cell_type": "markdown",
   "metadata": {},
   "source": [
    "One can iterate through **all** exchanges that have a given activity as `output`"
   ]
  },
  {
   "cell_type": "code",
   "execution_count": 56,
   "metadata": {},
   "outputs": [
    {
     "data": {
      "text/plain": [
       "'treatment of bottom ash, MSWI[F]-WWT, WW from tube collector production, slag compartment' (kilogram, CH, None)"
      ]
     },
     "execution_count": 56,
     "metadata": {},
     "output_type": "execute_result"
    }
   ],
   "source": [
    "random_act"
   ]
  },
  {
   "cell_type": "code",
   "execution_count": 57,
   "metadata": {
    "collapsed": false,
    "jupyter": {
     "outputs_hidden": false
    }
   },
   "outputs": [
    {
     "name": "stdout",
     "output_type": "stream",
     "text": [
      "Exchange: -1.0 kilogram 'treatment of bottom ash, MSWI[F]-WWT, WW from tube collector production, slag compartment' (kilogram, CH, None) to 'treatment of bottom ash, MSWI[F]-WWT, WW from tube collector production, slag compartment' (kilogram, CH, None)>\n",
      "Exchange: 1.0 kilogram 'market for process-specific burdens, slag landfill' (kilogram, CH, None) to 'treatment of bottom ash, MSWI[F]-WWT, WW from tube collector production, slag compartment' (kilogram, CH, None)>\n",
      "Exchange: 1.7778e-09 unit 'market for slag landfill' (unit, GLO, None) to 'treatment of bottom ash, MSWI[F]-WWT, WW from tube collector production, slag compartment' (kilogram, CH, None)>\n",
      "Exchange: 1.0 kilogram 'Non-hazardous waste disposed' (kilogram, None, ('inventory indicator', 'waste')) to 'treatment of bottom ash, MSWI[F]-WWT, WW from tube collector production, slag compartment' (kilogram, CH, None)>\n",
      "Exchange: 2.2636e-06 kilogram 'BOD5, Biological Oxygen Demand' (kilogram, None, ('water', 'ground-, long-term')) to 'treatment of bottom ash, MSWI[F]-WWT, WW from tube collector production, slag compartment' (kilogram, CH, None)>\n",
      "Exchange: 8.1707e-09 kilogram 'BOD5, Biological Oxygen Demand' (kilogram, None, ('water', 'surface water')) to 'treatment of bottom ash, MSWI[F]-WWT, WW from tube collector production, slag compartment' (kilogram, CH, None)>\n",
      "Exchange: 6.9204e-06 kilogram 'COD, Chemical Oxygen Demand' (kilogram, None, ('water', 'ground-, long-term')) to 'treatment of bottom ash, MSWI[F]-WWT, WW from tube collector production, slag compartment' (kilogram, CH, None)>\n",
      "Exchange: 2.4979e-08 kilogram 'COD, Chemical Oxygen Demand' (kilogram, None, ('water', 'surface water')) to 'treatment of bottom ash, MSWI[F]-WWT, WW from tube collector production, slag compartment' (kilogram, CH, None)>\n",
      "Exchange: 2.7384e-06 kilogram 'DOC, Dissolved Organic Carbon' (kilogram, None, ('water', 'ground-, long-term')) to 'treatment of bottom ash, MSWI[F]-WWT, WW from tube collector production, slag compartment' (kilogram, CH, None)>\n",
      "Exchange: 9.8844e-09 kilogram 'DOC, Dissolved Organic Carbon' (kilogram, None, ('water', 'surface water')) to 'treatment of bottom ash, MSWI[F]-WWT, WW from tube collector production, slag compartment' (kilogram, CH, None)>\n",
      "Exchange: 1.5803e-05 kilogram 'Nitrate' (kilogram, None, ('water', 'ground-, long-term')) to 'treatment of bottom ash, MSWI[F]-WWT, WW from tube collector production, slag compartment' (kilogram, CH, None)>\n",
      "Exchange: 3.6788e-06 kilogram 'Nitrate' (kilogram, None, ('water', 'surface water')) to 'treatment of bottom ash, MSWI[F]-WWT, WW from tube collector production, slag compartment' (kilogram, CH, None)>\n",
      "Exchange: 0.08596 kilogram 'Silver I' (kilogram, None, ('water', 'ground-, long-term')) to 'treatment of bottom ash, MSWI[F]-WWT, WW from tube collector production, slag compartment' (kilogram, CH, None)>\n",
      "Exchange: 2.9845e-06 kilogram 'Silver I' (kilogram, None, ('water', 'surface water')) to 'treatment of bottom ash, MSWI[F]-WWT, WW from tube collector production, slag compartment' (kilogram, CH, None)>\n",
      "Exchange: 2.7384e-06 kilogram 'TOC, Total Organic Carbon' (kilogram, None, ('water', 'ground-, long-term')) to 'treatment of bottom ash, MSWI[F]-WWT, WW from tube collector production, slag compartment' (kilogram, CH, None)>\n",
      "Exchange: 9.8844e-09 kilogram 'TOC, Total Organic Carbon' (kilogram, None, ('water', 'surface water')) to 'treatment of bottom ash, MSWI[F]-WWT, WW from tube collector production, slag compartment' (kilogram, CH, None)>\n",
      "Exchange: 0.4676 kilogram 'Tin ion' (kilogram, None, ('water', 'ground-, long-term')) to 'treatment of bottom ash, MSWI[F]-WWT, WW from tube collector production, slag compartment' (kilogram, CH, None)>\n",
      "Exchange: 7.5213e-06 kilogram 'Tin ion' (kilogram, None, ('water', 'surface water')) to 'treatment of bottom ash, MSWI[F]-WWT, WW from tube collector production, slag compartment' (kilogram, CH, None)>\n",
      "Exchange: 2.7483e-06 kilogram 'Organic carbon, placed in landfill' (kilogram, None, ('inventory indicator', 'waste')) to 'treatment of bottom ash, MSWI[F]-WWT, WW from tube collector production, slag compartment' (kilogram, CH, None)>\n",
      "Exchange: 1.0 kilogram 'Waste mass, total, placed in landfill' (kilogram, None, ('inventory indicator', 'waste')) to 'treatment of bottom ash, MSWI[F]-WWT, WW from tube collector production, slag compartment' (kilogram, CH, None)>\n"
     ]
    }
   ],
   "source": [
    "for exc in random_act.exchanges():\n",
    "    print(exc)"
   ]
  },
  {
   "cell_type": "markdown",
   "metadata": {},
   "source": [
    "One can also iterate through subsets of the exchanges:  \n",
    "  - **Technosphere** exchanges: exchanges linking to other activities in the technosphere, `activity.technosphere()`  \n",
    "  - **Biosphere** exchanges: AKA elementary flows, linking to activities in the biosphere database `activity.biosphere()`  \n",
    "  - **Production** exchange: the reference flow of the activity `activity.production`  "
   ]
  },
  {
   "cell_type": "markdown",
   "metadata": {},
   "source": [
    "Let's assign a **technosphere exchange** to a variable to learn more about it: \n",
    "\n",
    ":point_right: *you might have an error here, if your random activity has no exchanges that come from the technosphere. Just try with another one*"
   ]
  },
  {
   "cell_type": "code",
   "execution_count": 58,
   "metadata": {
    "collapsed": false,
    "jupyter": {
     "outputs_hidden": false
    }
   },
   "outputs": [
    {
     "data": {
      "text/plain": [
       "Exchange: 1.0 kilogram 'market for process-specific burdens, slag landfill' (kilogram, CH, None) to 'treatment of bottom ash, MSWI[F]-WWT, WW from tube collector production, slag compartment' (kilogram, CH, None)>"
      ]
     },
     "execution_count": 58,
     "metadata": {},
     "output_type": "execute_result"
    }
   ],
   "source": [
    "random_techno_exchange = [exc for exc in random_act.technosphere()][0]\n",
    "random_techno_exchange"
   ]
  },
  {
   "cell_type": "code",
   "execution_count": 59,
   "metadata": {
    "collapsed": false,
    "jupyter": {
     "outputs_hidden": false
    }
   },
   "outputs": [
    {
     "data": {
      "text/plain": [
       "bw2data.backends.peewee.proxies.Exchange"
      ]
     },
     "execution_count": 59,
     "metadata": {},
     "output_type": "execute_result"
    }
   ],
   "source": [
    "type(random_techno_exchange)"
   ]
  },
  {
   "cell_type": "markdown",
   "metadata": {},
   "source": [
    "Again, the type is a proxy (refer to the diagram above about the different translation layers).\n",
    "This type has a few interesting properties"
   ]
  },
  {
   "cell_type": "code",
   "execution_count": 60,
   "metadata": {
    "collapsed": false,
    "jupyter": {
     "outputs_hidden": false
    }
   },
   "outputs": [
    {
     "data": {
      "text/plain": [
       "1.0"
      ]
     },
     "execution_count": 60,
     "metadata": {},
     "output_type": "execute_result"
    }
   ],
   "source": [
    "# Amount, or weight of the edge\n",
    "random_techno_exchange.amount"
   ]
  },
  {
   "cell_type": "code",
   "execution_count": 61,
   "metadata": {
    "collapsed": false,
    "jupyter": {
     "outputs_hidden": false
    }
   },
   "outputs": [
    {
     "data": {
      "text/plain": [
       "'market for process-specific burdens, slag landfill' (kilogram, CH, None)"
      ]
     },
     "execution_count": 61,
     "metadata": {},
     "output_type": "execute_result"
    }
   ],
   "source": [
    "# Activity the exchange stems from\n",
    "random_techno_exchange.input"
   ]
  },
  {
   "cell_type": "code",
   "execution_count": 62,
   "metadata": {
    "collapsed": false,
    "jupyter": {
     "outputs_hidden": false
    }
   },
   "outputs": [
    {
     "data": {
      "text/plain": [
       "'treatment of bottom ash, MSWI[F]-WWT, WW from tube collector production, slag compartment' (kilogram, CH, None)"
      ]
     },
     "execution_count": 62,
     "metadata": {},
     "output_type": "execute_result"
    }
   ],
   "source": [
    "# Activity the exchange terminates in\n",
    "random_techno_exchange.output"
   ]
  },
  {
   "cell_type": "code",
   "execution_count": 63,
   "metadata": {
    "collapsed": false,
    "jupyter": {
     "outputs_hidden": false
    }
   },
   "outputs": [
    {
     "data": {
      "text/plain": [
       "{'flow': '092689fc-3f10-47fe-abbd-9ffaf77f3013',\n",
       " 'type': 'technosphere',\n",
       " 'name': 'process-specific burdens, slag landfill',\n",
       " 'classifications': {'CPC': ['39: Wastes or scraps']},\n",
       " 'production volume': 0.0,\n",
       " 'properties': {'carbon allocation': {'amount': 0.0, 'unit': 'kg'},\n",
       "  'carbon content': {'amount': 0.0, 'unit': 'dimensionless'}},\n",
       " 'activity': 'dd498e8c-3d96-555d-b879-e6966da08bf7',\n",
       " 'unit': 'kilogram',\n",
       " 'comment': 'mass-specific expenditures required for landfilling of bottom ash.',\n",
       " 'amount': 1.0,\n",
       " 'uncertainty type': 0,\n",
       " 'loc': 1.0,\n",
       " 'input': ('ecoinvent 3.9.1_cutoff', '66e53ba59d9609d6fdda1573049a6edf'),\n",
       " 'output': ('ecoinvent 3.9.1_cutoff', '18cf0280b860808d6f1b385b83805d2d')}"
      ]
     },
     "execution_count": 63,
     "metadata": {},
     "output_type": "execute_result"
    }
   ],
   "source": [
    "# Exchange as a dictionary\n",
    "random_techno_exchange.as_dict()"
   ]
  },
  {
   "cell_type": "markdown",
   "metadata": {},
   "source": [
    "<div class=\"alert alert-block alert-danger\">\n",
    "\n",
    ":warning: Sign Convention in BW :warning:\n",
    "- for biosphere flows : a positivive value means emissions to the natural environment for [air], [soil], and [water] categories, and consumtion of resources from their environment for [natural resource] category\n",
    "- for technosphere : negative values represent the consumption of products, while positive values represent the production of products\n",
    "\n",
    "For the specific case of End of Life treatment with wastes, reference product is -1 meaning 1kg is treated (or consumed). Thus, exchanges flows of wastes are also negatives. See this [discussion](https://stackoverflow.com/questions/68133565/negative-production-for-end-of-life-treatment-process)"
   ]
  },
  {
   "cell_type": "markdown",
   "metadata": {
    "tags": []
   },
   "source": [
    "<a id='section3'></a>\n",
    "# 3 My first LCA"
   ]
  },
  {
   "cell_type": "markdown",
   "metadata": {},
   "source": [
    "You have now a sufficient knowledge to perform and understand a LCA in BW.\n",
    "<div class=\"alert alert-block alert-info\">\n",
    "Brightway has a so-called LCA object, instantiated using : \n",
    "\n",
    "*LCA({reference flow : amount}, impact category)*\n",
    "\n",
    "The only required argument is a **functional unit, described by a dictionary with keys = activities and values = amounts**  \n",
    "A second argument that is often passed is an LCIA method, passed using the method tuple. "
   ]
  },
  {
   "cell_type": "markdown",
   "metadata": {
    "tags": []
   },
   "source": [
    "## 3.1. General syntax of LCA calculations"
   ]
  },
  {
   "cell_type": "markdown",
   "metadata": {},
   "source": [
    "Let's create our first LCA object using our random activity"
   ]
  },
  {
   "cell_type": "code",
   "execution_count": 64,
   "metadata": {},
   "outputs": [
    {
     "data": {
      "text/plain": [
       "'electricity production, hydro, reservoir, tropical region' (kilowatt hour, RoW, None)"
      ]
     },
     "execution_count": 64,
     "metadata": {},
     "output_type": "execute_result"
    }
   ],
   "source": [
    "random_act = db_background.random()\n",
    "random_act"
   ]
  },
  {
   "cell_type": "markdown",
   "metadata": {},
   "source": [
    "Get also one impact category. :point_right: *again, depending on the version of your ecoinvent you might need to change the exact name of the method. For instance, IPCC2021 was not already implemented in BW in the 3.8 ecoinvent version*"
   ]
  },
  {
   "cell_type": "code",
   "execution_count": 65,
   "metadata": {},
   "outputs": [
    {
     "data": {
      "text/plain": [
       "('IPCC 2021 no LT',\n",
       " 'climate change no LT',\n",
       " 'global warming potential (GWP100) no LT')"
      ]
     },
     "execution_count": 65,
     "metadata": {},
     "output_type": "execute_result"
    }
   ],
   "source": [
    "ipcc2021 = [m for m in bd.methods if 'GWP100' in str(m) and 'IPCC 2021 no LT' in str(m) and 'climate change no LT' in str(m)][0]\n",
    "ipcc2021"
   ]
  },
  {
   "cell_type": "markdown",
   "metadata": {},
   "source": [
    "The actual LCA class (``bw2calc.LCA``) is more of a coordinator then an accountant, as the matrix builder is doing much of the data manipulation.  \n",
    "\n",
    "The lca class only has to do the following:\n",
    "- Translate the functional unit into a demand array\n",
    "- Find the right parameter arrays, and ask matrix builder for matrces $A$ and $B$\n",
    "- Solve the linear system $Ax = B$ to get the LCI (b matrix)\n",
    "- Multiply the result by the LCIA CFs : $h=Cb$"
   ]
  },
  {
   "cell_type": "code",
   "execution_count": 66,
   "metadata": {
    "tags": []
   },
   "outputs": [],
   "source": [
    "myFirstLCA_quick = bc.LCA({random_act:1}, ipcc2021)"
   ]
  },
  {
   "cell_type": "markdown",
   "metadata": {},
   "source": [
    "We can already get some info. For instance we have acess to the demand array f"
   ]
  },
  {
   "cell_type": "code",
   "execution_count": 67,
   "metadata": {},
   "outputs": [
    {
     "data": {
      "text/plain": [
       "{'electricity production, hydro, reservoir, tropical region' (kilowatt hour, RoW, None): 1}"
      ]
     },
     "execution_count": 67,
     "metadata": {},
     "output_type": "execute_result"
    }
   ],
   "source": [
    "myFirstLCA_quick.demand"
   ]
  },
  {
   "cell_type": "code",
   "execution_count": 68,
   "metadata": {},
   "outputs": [
    {
     "data": {
      "text/plain": [
       "('IPCC 2021 no LT',\n",
       " 'climate change no LT',\n",
       " 'global warming potential (GWP100) no LT')"
      ]
     },
     "execution_count": 68,
     "metadata": {},
     "output_type": "execute_result"
    }
   ],
   "source": [
    "myFirstLCA_quick.method"
   ]
  },
  {
   "cell_type": "code",
   "execution_count": 69,
   "metadata": {
    "collapsed": false,
    "jupyter": {
     "outputs_hidden": false
    }
   },
   "outputs": [
    {
     "data": {
      "text/plain": [
       "0.07170044721946403"
      ]
     },
     "execution_count": 69,
     "metadata": {},
     "output_type": "execute_result"
    }
   ],
   "source": [
    "myFirstLCA_quick.lci()    # Builds matrices, solves the system, generates an LCI matrix.\n",
    "myFirstLCA_quick.lcia()   # Characterization, i.e. the multiplication of the elements \n",
    "                          # of the LCI matrix with characterization factors from the chosen method\n",
    "myFirstLCA_quick.score    # Returns the score, i.e. the sum of the characterized inventory"
   ]
  },
  {
   "cell_type": "code",
   "execution_count": 70,
   "metadata": {},
   "outputs": [
    {
     "data": {
      "text/plain": [
       "'kg CO2-Eq'"
      ]
     },
     "execution_count": 70,
     "metadata": {},
     "output_type": "execute_result"
    }
   ],
   "source": [
    "bd.Method(ipcc2021).metadata['unit']"
   ]
  },
  {
   "cell_type": "markdown",
   "metadata": {},
   "source": [
    "An example on how to print the score"
   ]
  },
  {
   "cell_type": "code",
   "execution_count": 71,
   "metadata": {},
   "outputs": [
    {
     "name": "stdout",
     "output_type": "stream",
     "text": [
      "The score to produce 1kg of electricity production, hydro, reservoir, tropical region is 0.072 kg CO2-Eq\n"
     ]
    }
   ],
   "source": [
    "print(\"The score to produce 1kg of {} is {:.3f} {}\".format(random_act['name'], myFirstLCA_quick.score, bd.Method(ipcc2021).metadata['unit']))"
   ]
  },
  {
   "cell_type": "markdown",
   "metadata": {},
   "source": [
    "**Back to [table of contents](#section0)?**\n",
    "***"
   ]
  },
  {
   "cell_type": "markdown",
   "metadata": {
    "tags": []
   },
   "source": [
    "<a id='section4'></a>\n",
    "# 4. My second LCA: Comparative LCA"
   ]
  },
  {
   "cell_type": "markdown",
   "metadata": {},
   "source": [
    "Now, let's compare the impacts of two activities : the production of 1kWh of wind turbine and hydro in Switzerland  "
   ]
  },
  {
   "cell_type": "code",
   "execution_count": 72,
   "metadata": {
    "collapsed": false,
    "jupyter": {
     "outputs_hidden": false
    },
    "solution2": "shown"
   },
   "outputs": [
    {
     "data": {
      "text/plain": [
       "'electricity production, wind, <1MW turbine, onshore, renewable energy products' (kilowatt hour, CH, None)"
      ]
     },
     "execution_count": 72,
     "metadata": {},
     "output_type": "execute_result"
    }
   ],
   "source": [
    "wind = [act for act in db_background if \"wind\" in act['name']\n",
    "        and \"<1MW\" in act['name'] \n",
    "        and \"kilowatt hour\" in act['unit']\n",
    "        and 'CH' in act['location']][0]\n",
    "wind"
   ]
  },
  {
   "cell_type": "code",
   "execution_count": 73,
   "metadata": {
    "collapsed": false,
    "jupyter": {
     "outputs_hidden": false
    },
    "solution2": "shown"
   },
   "outputs": [
    {
     "data": {
      "text/plain": [
       "['electricity, high voltage, hydro, run-of-river, import from France' (kilowatt hour, CH, None),\n",
       " 'hydropower plant construction, run-of-river' (unit, CH, None),\n",
       " 'electricity, high voltage, hydro, run-of-river, import from France, renewable energy products' (kilowatt hour, CH, None),\n",
       " 'electricity production, hydro, run-of-river, renewable energy products' (kilowatt hour, CH, None),\n",
       " 'electricity production, hydro, run-of-river' (kilowatt hour, CH, None)]"
      ]
     },
     "execution_count": 73,
     "metadata": {},
     "output_type": "execute_result"
    }
   ],
   "source": [
    "[act for act in db_background if \"hydro\" in act['name'] and \"river\" in act['name'] and \"CH\" in act['location']]"
   ]
  },
  {
   "cell_type": "code",
   "execution_count": 74,
   "metadata": {
    "collapsed": false,
    "jupyter": {
     "outputs_hidden": false
    },
    "solution2": "shown"
   },
   "outputs": [
    {
     "data": {
      "text/plain": [
       "'electricity production, hydro, run-of-river, renewable energy products' (kilowatt hour, CH, None)"
      ]
     },
     "execution_count": 74,
     "metadata": {},
     "output_type": "execute_result"
    }
   ],
   "source": [
    "hydro = [act for act in db_background if \"electricity production, hydro, run-of-river\" in act['name'] \n",
    "                     and \"CH\" in act['location']\n",
    "                     and \"kilowatt hour\" in act['unit']\n",
    "                     ][0]\n",
    "hydro"
   ]
  },
  {
   "cell_type": "markdown",
   "metadata": {},
   "source": [
    "Let's also compare these according to their carbon footprint as measured with the IPCC method we already selected above:"
   ]
  },
  {
   "cell_type": "markdown",
   "metadata": {
    "tags": []
   },
   "source": [
    "### One at a time approach:"
   ]
  },
  {
   "cell_type": "code",
   "execution_count": 75,
   "metadata": {},
   "outputs": [
    {
     "data": {
      "text/plain": [
       "0.022166620701935952"
      ]
     },
     "execution_count": 75,
     "metadata": {},
     "output_type": "execute_result"
    }
   ],
   "source": [
    "windLCA = bc.LCA({wind:1}, ipcc2021)\n",
    "windLCA.lci()\n",
    "windLCA.lcia()\n",
    "windLCA.score"
   ]
  },
  {
   "cell_type": "code",
   "execution_count": 76,
   "metadata": {
    "collapsed": false,
    "jupyter": {
     "outputs_hidden": false
    }
   },
   "outputs": [
    {
     "data": {
      "text/plain": [
       "0.003610158962011888"
      ]
     },
     "execution_count": 76,
     "metadata": {},
     "output_type": "execute_result"
    }
   ],
   "source": [
    "hydroLCA = bc.LCA({hydro:1}, ipcc2021)\n",
    "hydroLCA.lci()\n",
    "hydroLCA.lcia()\n",
    "hydroLCA.score"
   ]
  },
  {
   "cell_type": "markdown",
   "metadata": {},
   "source": [
    "Do one \"delta\" LCA:"
   ]
  },
  {
   "cell_type": "code",
   "execution_count": 77,
   "metadata": {
    "collapsed": false,
    "jupyter": {
     "outputs_hidden": false
    }
   },
   "outputs": [
    {
     "data": {
      "text/plain": [
       "0.018556461739924052"
      ]
     },
     "execution_count": 77,
     "metadata": {},
     "output_type": "execute_result"
    }
   ],
   "source": [
    "deltaLCA = bc.LCA({wind:1, hydro:-1}, ipcc2021)\n",
    "deltaLCA.lci()\n",
    "deltaLCA.lcia()\n",
    "deltaLCA.score"
   ]
  },
  {
   "cell_type": "markdown",
   "metadata": {},
   "source": [
    "Simple plot results using ``matplotlib.pyplot`` (if installed have a look at ``seaborn`` library for good-looking display and advanced visualization)"
   ]
  },
  {
   "cell_type": "markdown",
   "metadata": {},
   "source": [
    "First store it in a nice DataFrame using a dictionnary of the results (several ways of defining a dataframe are possible, see [documentation](https://pandas.pydata.org/docs/reference/api/pandas.DataFrame.html))"
   ]
  },
  {
   "cell_type": "code",
   "execution_count": 79,
   "metadata": {},
   "outputs": [
    {
     "data": {
      "text/html": [
       "<div>\n",
       "<style scoped>\n",
       "    .dataframe tbody tr th:only-of-type {\n",
       "        vertical-align: middle;\n",
       "    }\n",
       "\n",
       "    .dataframe tbody tr th {\n",
       "        vertical-align: top;\n",
       "    }\n",
       "\n",
       "    .dataframe thead th {\n",
       "        text-align: right;\n",
       "    }\n",
       "</style>\n",
       "<table border=\"1\" class=\"dataframe\">\n",
       "  <thead>\n",
       "    <tr style=\"text-align: right;\">\n",
       "      <th></th>\n",
       "      <th>wind</th>\n",
       "      <th>hydro</th>\n",
       "    </tr>\n",
       "  </thead>\n",
       "  <tbody>\n",
       "    <tr>\n",
       "      <th>global warming potential (GWP100) no LT</th>\n",
       "      <td>0.022167</td>\n",
       "      <td>0.00361</td>\n",
       "    </tr>\n",
       "  </tbody>\n",
       "</table>\n",
       "</div>"
      ],
      "text/plain": [
       "                                             wind    hydro\n",
       "global warming potential (GWP100) no LT  0.022167  0.00361"
      ]
     },
     "execution_count": 79,
     "metadata": {},
     "output_type": "execute_result"
    }
   ],
   "source": [
    "df_results = pd.DataFrame(index=[bd.Method(ipcc2021).name[2]], data={\"wind\": [windLCA.score], \"hydro\": [hydroLCA.score]})\n",
    "df_results"
   ]
  },
  {
   "cell_type": "markdown",
   "metadata": {},
   "source": [
    "Let's plot these results with a simple histogram diagram"
   ]
  },
  {
   "cell_type": "markdown",
   "metadata": {},
   "source": [
    "The easy and immediate way:"
   ]
  },
  {
   "cell_type": "code",
   "execution_count": 80,
   "metadata": {},
   "outputs": [
    {
     "data": {
      "text/plain": [
       "<Axes: >"
      ]
     },
     "execution_count": 80,
     "metadata": {},
     "output_type": "execute_result"
    },
    {
     "data": {
      "image/png": "[encoded data removed]",
      "text/plain": [
       "<Figure size 640x480 with 1 Axes>"
      ]
     },
     "metadata": {},
     "output_type": "display_data"
    }
   ],
   "source": [
    "df_results.plot(rot=0, kind='bar', fontsize=12) #plot of a bar diagram, with fonsizen rotation and transparency features\n"
   ]
  },
  {
   "cell_type": "markdown",
   "metadata": {},
   "source": [
    "with seaborn library for nice colors (require to have it installed already) + a few useful features"
   ]
  },
  {
   "cell_type": "code",
   "execution_count": 82,
   "metadata": {},
   "outputs": [
    {
     "data": {
      "image/png": "[encoded data removed]",
      "text/plain": [
       "<Figure size 600x500 with 1 Axes>"
      ]
     },
     "metadata": {},
     "output_type": "display_data"
    }
   ],
   "source": [
    "import seaborn as sns\n",
    "sns.set()\n",
    "sns.set_style(\"darkgrid\")\n",
    "colors = sns.color_palette('colorblind')\n",
    "fig, axes = plt.subplots(figsize=(6,5))\n",
    "df_results.plot(ax=axes, rot=0, kind='bar', alpha=0.8, fontsize=12) #plot of a bar diagram, with fonsizen rotation and transparency features\n",
    "plt.ylabel(bd.Method(ipcc2021).metadata['unit'])\n",
    "\n",
    "#add each score of components    \n",
    "for bar in axes.patches:\n",
    "    axes.text(# Put the text in the middle of each bar. get_x returns the start, so we add half the width to get to the middle.\n",
    "            bar.get_x() + bar.get_width() / 2,\n",
    "            bar.get_height() + bar.get_y(),# Vertically, add the height of the bar to the start of the bar, along with the offset.\n",
    "            str('{:.1e}'.format(bar.get_height())),# This is actual value we'll show.\n",
    "            ha='center',# Center the labels and style them a bit.\n",
    "            color='black',\n",
    "            alpha=1,\n",
    "            size=10,\n",
    "        )"
   ]
  },
  {
   "cell_type": "markdown",
   "metadata": {},
   "source": [
    "**Back to [table of contents](#section0)?**\n",
    "***"
   ]
  },
  {
   "cell_type": "markdown",
   "metadata": {
    "tags": []
   },
   "source": [
    "<a id='section5'></a>\n",
    "# 5. My third LCA - Multiple impact categories"
   ]
  },
  {
   "cell_type": "markdown",
   "metadata": {},
   "source": [
    "Say we want to evaluate the indicator results for our randomAct for all EF v3 categories (with long-term emissions)."
   ]
  },
  {
   "cell_type": "code",
   "execution_count": 83,
   "metadata": {
    "collapsed": false,
    "jupyter": {
     "outputs_hidden": false
    }
   },
   "outputs": [
    {
     "data": {
      "text/plain": [
       "[('EF v3.0', 'acidification', 'accumulated exceedance (AE)'),\n",
       " ('EF v3.0', 'climate change', 'global warming potential (GWP100)'),\n",
       " ('EF v3.0', 'climate change: biogenic', 'global warming potential (GWP100)'),\n",
       " ('EF v3.0', 'climate change: fossil', 'global warming potential (GWP100)'),\n",
       " ('EF v3.0',\n",
       "  'climate change: land use and land use change',\n",
       "  'global warming potential (GWP100)'),\n",
       " ('EF v3.0',\n",
       "  'ecotoxicity: freshwater',\n",
       "  'comparative toxic unit for ecosystems (CTUe)'),\n",
       " ('EF v3.0',\n",
       "  'ecotoxicity: freshwater, inorganics',\n",
       "  'comparative toxic unit for ecosystems (CTUe)'),\n",
       " ('EF v3.0',\n",
       "  'ecotoxicity: freshwater, metals',\n",
       "  'comparative toxic unit for ecosystems (CTUe)'),\n",
       " ('EF v3.0',\n",
       "  'ecotoxicity: freshwater, organics',\n",
       "  'comparative toxic unit for ecosystems (CTUe)'),\n",
       " ('EF v3.0',\n",
       "  'energy resources: non-renewable',\n",
       "  'abiotic depletion potential (ADP): fossil fuels'),\n",
       " ('EF v3.0',\n",
       "  'eutrophication: freshwater',\n",
       "  'fraction of nutrients reaching freshwater end compartment (P)'),\n",
       " ('EF v3.0',\n",
       "  'eutrophication: marine',\n",
       "  'fraction of nutrients reaching marine end compartment (N)'),\n",
       " ('EF v3.0', 'eutrophication: terrestrial', 'accumulated exceedance (AE)'),\n",
       " ('EF v3.0',\n",
       "  'human toxicity: carcinogenic',\n",
       "  'comparative toxic unit for human (CTUh)'),\n",
       " ('EF v3.0',\n",
       "  'human toxicity: carcinogenic, inorganics',\n",
       "  'comparative toxic unit for human (CTUh)'),\n",
       " ('EF v3.0',\n",
       "  'human toxicity: carcinogenic, metals',\n",
       "  'comparative toxic unit for human (CTUh)'),\n",
       " ('EF v3.0',\n",
       "  'human toxicity: carcinogenic, organics',\n",
       "  'comparative toxic unit for human (CTUh)'),\n",
       " ('EF v3.0',\n",
       "  'human toxicity: non-carcinogenic',\n",
       "  'comparative toxic unit for human (CTUh)'),\n",
       " ('EF v3.0',\n",
       "  'human toxicity: non-carcinogenic, inorganics',\n",
       "  'comparative toxic unit for human (CTUh)'),\n",
       " ('EF v3.0',\n",
       "  'human toxicity: non-carcinogenic, metals',\n",
       "  'comparative toxic unit for human (CTUh)'),\n",
       " ('EF v3.0',\n",
       "  'human toxicity: non-carcinogenic, organics',\n",
       "  'comparative toxic unit for human (CTUh)'),\n",
       " ('EF v3.0',\n",
       "  'ionising radiation: human health',\n",
       "  'human exposure efficiency relative to u235'),\n",
       " ('EF v3.0', 'land use', 'soil quality index'),\n",
       " ('EF v3.0',\n",
       "  'material resources: metals/minerals',\n",
       "  'abiotic depletion potential (ADP): elements (ultimate reserves)'),\n",
       " ('EF v3.0', 'ozone depletion', 'ozone depletion potential (ODP)'),\n",
       " ('EF v3.0', 'particulate matter formation', 'impact on human health'),\n",
       " ('EF v3.0',\n",
       "  'photochemical oxidant formation: human health',\n",
       "  'tropospheric ozone concentration increase'),\n",
       " ('EF v3.0',\n",
       "  'water use',\n",
       "  'user deprivation potential (deprivation-weighted water consumption)')]"
      ]
     },
     "execution_count": 83,
     "metadata": {},
     "output_type": "execute_result"
    }
   ],
   "source": [
    "# Make a list of all impact method names (tuples):\n",
    "list_methods = [method for method in bd.methods if \"EF v3.0\" in str(method) \n",
    "        and \"no LT\" not in str(method)\n",
    "        and \"EN15804\" not in str(method)]\n",
    "list_methods"
   ]
  },
  {
   "cell_type": "markdown",
   "metadata": {},
   "source": [
    "Simplest way: for loop, using `switch method`"
   ]
  },
  {
   "cell_type": "code",
   "execution_count": 84,
   "metadata": {},
   "outputs": [
    {
     "data": {
      "text/plain": [
       "'mine construction, potash salt' (unit, RoW, None)"
      ]
     },
     "execution_count": 84,
     "metadata": {},
     "output_type": "execute_result"
    }
   ],
   "source": [
    "random_act = db_background.random()\n",
    "random_act"
   ]
  },
  {
   "cell_type": "code",
   "execution_count": 85,
   "metadata": {
    "collapsed": false,
    "jupyter": {
     "outputs_hidden": false
    }
   },
   "outputs": [
    {
     "name": "stdout",
     "output_type": "stream",
     "text": [
      "Score is 4772.375624 mol H+-Eq for category acidification\n",
      "Score is 350608.426534 kg CO2-Eq for category climate change\n",
      "Score is 3983.071716 kg CO2-Eq for category climate change: biogenic\n",
      "Score is 346123.243694 kg CO2-Eq for category climate change: fossil\n",
      "Score is 502.111123 kg CO2-Eq for category climate change: land use and land use change\n",
      "Score is 28169348.588062 CTUe for category ecotoxicity: freshwater\n",
      "Score is 3764534.908634 CTUe for category ecotoxicity: freshwater, inorganics\n",
      "Score is 24281797.291717 CTUe for category ecotoxicity: freshwater, metals\n",
      "Score is 123016.387712 CTUe for category ecotoxicity: freshwater, organics\n",
      "Score is 3494676.475061 MJ, net calorific value for category energy resources: non-renewable\n",
      "Score is 254.242042 kg P-Eq for category eutrophication: freshwater\n",
      "Score is 547.162449 kg N-Eq for category eutrophication: marine\n",
      "Score is 9809.375972 mol N-Eq for category eutrophication: terrestrial\n",
      "Score is 0.000979 CTUh for category human toxicity: carcinogenic\n",
      "Score is 0.000000 CTUh for category human toxicity: carcinogenic, inorganics\n",
      "Score is 0.000640 CTUh for category human toxicity: carcinogenic, metals\n",
      "Score is 0.000339 CTUh for category human toxicity: carcinogenic, organics\n",
      "Score is 0.036586 CTUh for category human toxicity: non-carcinogenic\n",
      "Score is 0.002253 CTUh for category human toxicity: non-carcinogenic, inorganics\n",
      "Score is 0.032794 CTUh for category human toxicity: non-carcinogenic, metals\n",
      "Score is 0.001593 CTUh for category human toxicity: non-carcinogenic, organics\n",
      "Score is 12656.373532 kBq U235-Eq for category ionising radiation: human health\n",
      "Score is 20406966.840678 dimensionless for category land use\n",
      "Score is 33.156663 kg Sb-Eq for category material resources: metals/minerals\n",
      "Score is 0.004641 kg CFC-11-Eq for category ozone depletion\n",
      "Score is 0.048295 disease incidence for category particulate matter formation\n",
      "Score is 1864.778031 kg NMVOC-Eq for category photochemical oxidant formation: human health\n",
      "Score is 101910.931139 m3 world eq. deprived for category water use\n"
     ]
    }
   ],
   "source": [
    "myThirdLCA = bc.LCA({random_act:1}, list_methods[0]) # Do LCA with one impact category\n",
    "myThirdLCA.lci()\n",
    "myThirdLCA.lcia()\n",
    "for category in list_methods:\n",
    "    myThirdLCA.switch_method(category)\n",
    "    myThirdLCA.lcia()\n",
    "    print(\"Score is {:f} {} for category {}\".format(myThirdLCA.score, \n",
    "                                                 bd.Method(category).metadata['unit'],\n",
    "                                                 bd.Method(category).name[1])\n",
    "          )"
   ]
  },
  {
   "cell_type": "markdown",
   "metadata": {},
   "source": [
    "> if you are bored by these time-consuming syntax, you could turn it into a function, and use only the function. (you could also use already helpers from other libraries like ``lca_algebraic`` to find activities, parametrieze inventory, plot multi impact categories results...)\n",
    "\n",
    "one example of such function for multi impact categories, would be :"
   ]
  },
  {
   "cell_type": "code",
   "execution_count": 86,
   "metadata": {},
   "outputs": [],
   "source": [
    "def multiLCA(activity, list_methods):\n",
    "    results = {}\n",
    "    LCA = bc.LCA({activity:1}, list_methods[0]) # Do LCA with one impact category\n",
    "    LCA.lci()\n",
    "    LCA.lcia()\n",
    "    for category in list_methods:\n",
    "        LCA.switch_method(category)\n",
    "        LCA.lcia()\n",
    "        results[category[1]] = LCA.score\n",
    "    return results"
   ]
  },
  {
   "cell_type": "code",
   "execution_count": 87,
   "metadata": {},
   "outputs": [
    {
     "data": {
      "text/plain": [
       "{'acidification': 4772.37562416843,\n",
       " 'climate change': 350608.4265336436,\n",
       " 'climate change: biogenic': 3983.071716271147,\n",
       " 'climate change: fossil': 346123.243694201,\n",
       " 'climate change: land use and land use change': 502.11112317155704,\n",
       " 'ecotoxicity: freshwater': 28169348.58806248,\n",
       " 'ecotoxicity: freshwater, inorganics': 3764534.908633635,\n",
       " 'ecotoxicity: freshwater, metals': 24281797.291716643,\n",
       " 'ecotoxicity: freshwater, organics': 123016.38771219896,\n",
       " 'energy resources: non-renewable': 3494676.4750611586,\n",
       " 'eutrophication: freshwater': 254.2420420389038,\n",
       " 'eutrophication: marine': 547.1624491574399,\n",
       " 'eutrophication: terrestrial': 9809.375971888521,\n",
       " 'human toxicity: carcinogenic': 0.0009789763034651023,\n",
       " 'human toxicity: carcinogenic, inorganics': 0.0,\n",
       " 'human toxicity: carcinogenic, metals': 0.000640415734713904,\n",
       " 'human toxicity: carcinogenic, organics': 0.0003385605687511984,\n",
       " 'human toxicity: non-carcinogenic': 0.036586158855582404,\n",
       " 'human toxicity: non-carcinogenic, inorganics': 0.002253292396951217,\n",
       " 'human toxicity: non-carcinogenic, metals': 0.03279350415329246,\n",
       " 'human toxicity: non-carcinogenic, organics': 0.0015934389758148007,\n",
       " 'ionising radiation: human health': 12656.373532346424,\n",
       " 'land use': 20406966.840678215,\n",
       " 'material resources: metals/minerals': 33.15666326570129,\n",
       " 'ozone depletion': 0.004640909155854323,\n",
       " 'particulate matter formation': 0.04829464011551394,\n",
       " 'photochemical oxidant formation: human health': 1864.7780311727124,\n",
       " 'water use': 101910.93113877297}"
      ]
     },
     "execution_count": 87,
     "metadata": {},
     "output_type": "execute_result"
    }
   ],
   "source": [
    "multiLCA(random_act, list_methods)"
   ]
  },
  {
   "cell_type": "markdown",
   "metadata": {},
   "source": [
    "Now if we want to compare the steel and copper for all categories and put it into a nice panda Dataframe, we need at first to store the results with a dictionnary"
   ]
  },
  {
   "cell_type": "code",
   "execution_count": 88,
   "metadata": {},
   "outputs": [
    {
     "data": {
      "text/plain": [
       "{'wind': [0.00013822771566907244,\n",
       "  0.022918072345782668,\n",
       "  3.5729138404924236e-05,\n",
       "  0.02286271530658965,\n",
       "  1.9627900788091647e-05,\n",
       "  0.9439139984384176,\n",
       "  0.09336366168344173,\n",
       "  0.8427395210936801,\n",
       "  0.007810815661295968,\n",
       "  0.2628216740913375,\n",
       "  1.0303594935499372e-05,\n",
       "  2.719932976016048e-05,\n",
       "  0.00024923572656859245,\n",
       "  1.7378108044359685e-10,\n",
       "  0.0,\n",
       "  1.330214996583468e-10,\n",
       "  4.075958078525004e-11,\n",
       "  1.1601219897233804e-09,\n",
       "  2.4352336651356e-10,\n",
       "  8.854929502836908e-10,\n",
       "  3.4769957008969566e-11,\n",
       "  0.0010131317334081244,\n",
       "  0.737925096594787,\n",
       "  6.72635259796479e-07,\n",
       "  3.088590813373597e-10,\n",
       "  2.0183198999873376e-09,\n",
       "  9.796635996142986e-05,\n",
       "  0.01164493488242198],\n",
       " 'hydro': [1.565538771368376e-05,\n",
       "  0.003696950582575077,\n",
       "  4.476841337276129e-06,\n",
       "  0.0036911781820154546,\n",
       "  1.2955592223460293e-06,\n",
       "  0.07390803262230149,\n",
       "  0.009009538501610681,\n",
       "  0.0641427841893126,\n",
       "  0.0007557099313781953,\n",
       "  0.03222353660326234,\n",
       "  8.469111092056672e-07,\n",
       "  5.274468244238801e-06,\n",
       "  5.559449591365348e-05,\n",
       "  1.3114993339598862e-11,\n",
       "  0.0,\n",
       "  8.688365278723261e-12,\n",
       "  4.426628060875603e-12,\n",
       "  6.947199398829052e-11,\n",
       "  3.37227389643532e-11,\n",
       "  3.483633891878351e-11,\n",
       "  1.2845246091896592e-12,\n",
       "  0.00023384552168438796,\n",
       "  -0.007651015170149602,\n",
       "  1.6462385007736977e-08,\n",
       "  4.0350007328637596e-11,\n",
       "  4.6104969969165915e-10,\n",
       "  1.8914485155306105e-05,\n",
       "  0.001098020721988966]}"
      ]
     },
     "execution_count": 88,
     "metadata": {},
     "output_type": "execute_result"
    }
   ],
   "source": [
    "results_wind = multiLCA(wind, list_methods)\n",
    "results_hydro = multiLCA(hydro, list_methods)\n",
    "\n",
    "#Gather the results in one single dictionnary\n",
    "results = {\"wind\": list(results_wind.values()), 'hydro': list(results_hydro.values())}\n",
    "results"
   ]
  },
  {
   "cell_type": "code",
   "execution_count": 89,
   "metadata": {},
   "outputs": [],
   "source": [
    "# # the classic way\n",
    "# results = {'hydro':[], \"wind\":[]}\n",
    "# multiLCA_hydro = bc.LCA({hydro:1}, list_methods[0]) # Do LCA with one impact category\n",
    "# multiLCA_hydro.lci()\n",
    "# multiLCA_hydro.lcia()\n",
    "# multiLCA_wind = bc.LCA({wind:1}, list_methods[0]) # Do LCA with one impact category\n",
    "# multiLCA_wind.lci()\n",
    "# multiLCA_wind.lcia()\n",
    "# for category in list_methods:\n",
    "#     multiLCA_hydro.switch_method(category)\n",
    "#     multiLCA_hydro.lcia()\n",
    "#     multiLCA_wind.switch_method(category)\n",
    "#     multiLCA_wind.lcia()    \n",
    "#     results[\"hydro\"].append(multiLCA_hydro.score) #we add at each impact cateogry the score\n",
    "#     results[\"wind\"].append(multiLCA_wind.score) #we add at each impact cateogry the score\n",
    "    "
   ]
  },
  {
   "cell_type": "markdown",
   "metadata": {},
   "source": [
    "Put it in a nice Dataframe : but first, let's define also short names for the category, would be prettier !"
   ]
  },
  {
   "cell_type": "code",
   "execution_count": 90,
   "metadata": {},
   "outputs": [],
   "source": [
    "short_names =  ['AC','CC','CC (biogenic)','CC (fossil fuels)','CC(land use)','ECOTOX','ECOTOX, inorg','ECOTOX, metals','ECOTOX, org','ADP, fossil fuels','EP freshwater (P)','EP marine (N)','EP terrestrial','HTOX_c','HTOX_c inorg','HTOX_c, metals','HTOX_c, org','HTOX_nc','HTOX_nc, inorg','HTOX_nc, metals','HTOX_nc, org','IR','LU','ADP, ultimate reserves','ODP','PM','POF','WU']"
   ]
  },
  {
   "cell_type": "code",
   "execution_count": 91,
   "metadata": {},
   "outputs": [
    {
     "data": {
      "text/html": [
       "<div>\n",
       "<style scoped>\n",
       "    .dataframe tbody tr th:only-of-type {\n",
       "        vertical-align: middle;\n",
       "    }\n",
       "\n",
       "    .dataframe tbody tr th {\n",
       "        vertical-align: top;\n",
       "    }\n",
       "\n",
       "    .dataframe thead th {\n",
       "        text-align: right;\n",
       "    }\n",
       "</style>\n",
       "<table border=\"1\" class=\"dataframe\">\n",
       "  <thead>\n",
       "    <tr style=\"text-align: right;\">\n",
       "      <th></th>\n",
       "      <th>wind</th>\n",
       "      <th>hydro</th>\n",
       "    </tr>\n",
       "  </thead>\n",
       "  <tbody>\n",
       "    <tr>\n",
       "      <th>AC</th>\n",
       "      <td>1.382277e-04</td>\n",
       "      <td>1.565539e-05</td>\n",
       "    </tr>\n",
       "    <tr>\n",
       "      <th>CC</th>\n",
       "      <td>2.291807e-02</td>\n",
       "      <td>3.696951e-03</td>\n",
       "    </tr>\n",
       "    <tr>\n",
       "      <th>CC (biogenic)</th>\n",
       "      <td>3.572914e-05</td>\n",
       "      <td>4.476841e-06</td>\n",
       "    </tr>\n",
       "    <tr>\n",
       "      <th>CC (fossil fuels)</th>\n",
       "      <td>2.286272e-02</td>\n",
       "      <td>3.691178e-03</td>\n",
       "    </tr>\n",
       "    <tr>\n",
       "      <th>CC(land use)</th>\n",
       "      <td>1.962790e-05</td>\n",
       "      <td>1.295559e-06</td>\n",
       "    </tr>\n",
       "    <tr>\n",
       "      <th>ECOTOX</th>\n",
       "      <td>9.439140e-01</td>\n",
       "      <td>7.390803e-02</td>\n",
       "    </tr>\n",
       "    <tr>\n",
       "      <th>ECOTOX, inorg</th>\n",
       "      <td>9.336366e-02</td>\n",
       "      <td>9.009539e-03</td>\n",
       "    </tr>\n",
       "    <tr>\n",
       "      <th>ECOTOX, metals</th>\n",
       "      <td>8.427395e-01</td>\n",
       "      <td>6.414278e-02</td>\n",
       "    </tr>\n",
       "    <tr>\n",
       "      <th>ECOTOX, org</th>\n",
       "      <td>7.810816e-03</td>\n",
       "      <td>7.557099e-04</td>\n",
       "    </tr>\n",
       "    <tr>\n",
       "      <th>ADP, fossil fuels</th>\n",
       "      <td>2.628217e-01</td>\n",
       "      <td>3.222354e-02</td>\n",
       "    </tr>\n",
       "    <tr>\n",
       "      <th>EP freshwater (P)</th>\n",
       "      <td>1.030359e-05</td>\n",
       "      <td>8.469111e-07</td>\n",
       "    </tr>\n",
       "    <tr>\n",
       "      <th>EP marine (N)</th>\n",
       "      <td>2.719933e-05</td>\n",
       "      <td>5.274468e-06</td>\n",
       "    </tr>\n",
       "    <tr>\n",
       "      <th>EP terrestrial</th>\n",
       "      <td>2.492357e-04</td>\n",
       "      <td>5.559450e-05</td>\n",
       "    </tr>\n",
       "    <tr>\n",
       "      <th>HTOX_c</th>\n",
       "      <td>1.737811e-10</td>\n",
       "      <td>1.311499e-11</td>\n",
       "    </tr>\n",
       "    <tr>\n",
       "      <th>HTOX_c inorg</th>\n",
       "      <td>0.000000e+00</td>\n",
       "      <td>0.000000e+00</td>\n",
       "    </tr>\n",
       "    <tr>\n",
       "      <th>HTOX_c, metals</th>\n",
       "      <td>1.330215e-10</td>\n",
       "      <td>8.688365e-12</td>\n",
       "    </tr>\n",
       "    <tr>\n",
       "      <th>HTOX_c, org</th>\n",
       "      <td>4.075958e-11</td>\n",
       "      <td>4.426628e-12</td>\n",
       "    </tr>\n",
       "    <tr>\n",
       "      <th>HTOX_nc</th>\n",
       "      <td>1.160122e-09</td>\n",
       "      <td>6.947199e-11</td>\n",
       "    </tr>\n",
       "    <tr>\n",
       "      <th>HTOX_nc, inorg</th>\n",
       "      <td>2.435234e-10</td>\n",
       "      <td>3.372274e-11</td>\n",
       "    </tr>\n",
       "    <tr>\n",
       "      <th>HTOX_nc, metals</th>\n",
       "      <td>8.854930e-10</td>\n",
       "      <td>3.483634e-11</td>\n",
       "    </tr>\n",
       "    <tr>\n",
       "      <th>HTOX_nc, org</th>\n",
       "      <td>3.476996e-11</td>\n",
       "      <td>1.284525e-12</td>\n",
       "    </tr>\n",
       "    <tr>\n",
       "      <th>IR</th>\n",
       "      <td>1.013132e-03</td>\n",
       "      <td>2.338455e-04</td>\n",
       "    </tr>\n",
       "    <tr>\n",
       "      <th>LU</th>\n",
       "      <td>7.379251e-01</td>\n",
       "      <td>-7.651015e-03</td>\n",
       "    </tr>\n",
       "    <tr>\n",
       "      <th>ADP, ultimate reserves</th>\n",
       "      <td>6.726353e-07</td>\n",
       "      <td>1.646239e-08</td>\n",
       "    </tr>\n",
       "    <tr>\n",
       "      <th>ODP</th>\n",
       "      <td>3.088591e-10</td>\n",
       "      <td>4.035001e-11</td>\n",
       "    </tr>\n",
       "    <tr>\n",
       "      <th>PM</th>\n",
       "      <td>2.018320e-09</td>\n",
       "      <td>4.610497e-10</td>\n",
       "    </tr>\n",
       "    <tr>\n",
       "      <th>POF</th>\n",
       "      <td>9.796636e-05</td>\n",
       "      <td>1.891449e-05</td>\n",
       "    </tr>\n",
       "    <tr>\n",
       "      <th>WU</th>\n",
       "      <td>1.164493e-02</td>\n",
       "      <td>1.098021e-03</td>\n",
       "    </tr>\n",
       "  </tbody>\n",
       "</table>\n",
       "</div>"
      ],
      "text/plain": [
       "                                wind         hydro\n",
       "AC                      1.382277e-04  1.565539e-05\n",
       "CC                      2.291807e-02  3.696951e-03\n",
       "CC (biogenic)           3.572914e-05  4.476841e-06\n",
       "CC (fossil fuels)       2.286272e-02  3.691178e-03\n",
       "CC(land use)            1.962790e-05  1.295559e-06\n",
       "ECOTOX                  9.439140e-01  7.390803e-02\n",
       "ECOTOX, inorg           9.336366e-02  9.009539e-03\n",
       "ECOTOX, metals          8.427395e-01  6.414278e-02\n",
       "ECOTOX, org             7.810816e-03  7.557099e-04\n",
       "ADP, fossil fuels       2.628217e-01  3.222354e-02\n",
       "EP freshwater (P)       1.030359e-05  8.469111e-07\n",
       "EP marine (N)           2.719933e-05  5.274468e-06\n",
       "EP terrestrial          2.492357e-04  5.559450e-05\n",
       "HTOX_c                  1.737811e-10  1.311499e-11\n",
       "HTOX_c inorg            0.000000e+00  0.000000e+00\n",
       "HTOX_c, metals          1.330215e-10  8.688365e-12\n",
       "HTOX_c, org             4.075958e-11  4.426628e-12\n",
       "HTOX_nc                 1.160122e-09  6.947199e-11\n",
       "HTOX_nc, inorg          2.435234e-10  3.372274e-11\n",
       "HTOX_nc, metals         8.854930e-10  3.483634e-11\n",
       "HTOX_nc, org            3.476996e-11  1.284525e-12\n",
       "IR                      1.013132e-03  2.338455e-04\n",
       "LU                      7.379251e-01 -7.651015e-03\n",
       "ADP, ultimate reserves  6.726353e-07  1.646239e-08\n",
       "ODP                     3.088591e-10  4.035001e-11\n",
       "PM                      2.018320e-09  4.610497e-10\n",
       "POF                     9.796636e-05  1.891449e-05\n",
       "WU                      1.164493e-02  1.098021e-03"
      ]
     },
     "execution_count": 91,
     "metadata": {},
     "output_type": "execute_result"
    }
   ],
   "source": [
    "df_results = pd.DataFrame(index= short_names, data = results)\n",
    "df_results"
   ]
  },
  {
   "cell_type": "markdown",
   "metadata": {},
   "source": [
    "**Back to [table of contents](#section0)?**\n",
    "***"
   ]
  },
  {
   "cell_type": "markdown",
   "metadata": {
    "tags": []
   },
   "source": [
    "<a id='section6'></a>\n",
    "# 6. Basic contribution analysis\n",
    "\n",
    "Let's have a bit of a closer look at the inventory and the contributions of individual exchanges/activities!"
   ]
  },
  {
   "cell_type": "markdown",
   "metadata": {},
   "source": [
    "But before that, we recalculate our inventory:"
   ]
  },
  {
   "cell_type": "code",
   "execution_count": 92,
   "metadata": {},
   "outputs": [],
   "source": [
    "random_act = db_background.random()"
   ]
  },
  {
   "cell_type": "code",
   "execution_count": 93,
   "metadata": {},
   "outputs": [
    {
     "data": {
      "text/plain": [
       "'treatment of waste cooking oil, purified, esterification' (kilogram, FR, None)"
      ]
     },
     "execution_count": 93,
     "metadata": {},
     "output_type": "execute_result"
    }
   ],
   "source": [
    "random_act"
   ]
  },
  {
   "cell_type": "markdown",
   "metadata": {
    "tags": []
   },
   "source": [
    "## 6.1 Recalculation of the inventory"
   ]
  },
  {
   "cell_type": "code",
   "execution_count": 94,
   "metadata": {},
   "outputs": [],
   "source": [
    "functional_unit = {random_act:1}\n",
    "lca = bc.LCA(functional_unit, ipcc2021)\n",
    "lca.lci()\n",
    "lca.lcia()"
   ]
  },
  {
   "cell_type": "code",
   "execution_count": 95,
   "metadata": {},
   "outputs": [
    {
     "name": "stdout",
     "output_type": "stream",
     "text": [
      "The treatment of waste cooking oil, purified, esterification process accounts for 0.278357 kg CO2-Eq.\n"
     ]
    }
   ],
   "source": [
    "print(\"The {} process accounts for {:f} {}.\".format(\n",
    "    list(functional_unit.keys())[0]['name'],\n",
    "    lca.score,\n",
    "    bd.methods.get(ipcc2021).get('unit')\n",
    "    ))"
   ]
  },
  {
   "cell_type": "markdown",
   "metadata": {},
   "source": [
    "And now over to the contribution analysis. Let's find the most damaging activities and biosphere flows."
   ]
  },
  {
   "cell_type": "markdown",
   "metadata": {
    "tags": []
   },
   "source": [
    "## 6.2 Basic contribution analysis"
   ]
  },
  {
   "cell_type": "code",
   "execution_count": 96,
   "metadata": {},
   "outputs": [],
   "source": [
    "import bw2analyzer as bwa"
   ]
  },
  {
   "cell_type": "code",
   "execution_count": 97,
   "metadata": {},
   "outputs": [
    {
     "name": "stdout",
     "output_type": "stream",
     "text": [
      "(0, 10)\n"
     ]
    }
   ],
   "source": [
    "print(bwa.__version__)"
   ]
  },
  {
   "cell_type": "code",
   "execution_count": 98,
   "metadata": {},
   "outputs": [
    {
     "data": {
      "text/plain": [
       "[(0.03517237302754106,\n",
       "  0.5957496118990835,\n",
       "  'heat production, natural gas, at industrial furnace >100kW' (megajoule, Europe without Switzerland, None)),\n",
       " (0.030262358050930995,\n",
       "  0.0017345308610914507,\n",
       "  'natural gas venting from petroleum/natural gas production' (cubic meter, GLO, None)),\n",
       " (0.020204972114751255,\n",
       "  0.5948591969770979,\n",
       "  'heat and power co-generation, natural gas, conventional power plant, 100MW electrical' (megajoule, RU, None)),\n",
       " (0.0131159596178357,\n",
       "  0.19585340250848657,\n",
       "  'sweet gas, burned in gas turbine' (megajoule, GLO, None)),\n",
       " (0.010361373156471804,\n",
       "  0.3915824159022464,\n",
       "  'heat and power co-generation, natural gas, conventional power plant, 100MW electrical' (megajoule, RoW, None))]"
      ]
     },
     "execution_count": 98,
     "metadata": {},
     "output_type": "execute_result"
    }
   ],
   "source": [
    "ca = bwa.ContributionAnalysis()\n",
    "ca.annotated_top_processes(lca, limit=5) #returns a list of tuples: (lca score, supply amount, activity name)"
   ]
  },
  {
   "cell_type": "markdown",
   "metadata": {},
   "source": [
    "We can also set a limit below one, which will filter by fraction of impact instead of number of activities; we can also return activity keys instead of names."
   ]
  },
  {
   "cell_type": "code",
   "execution_count": 99,
   "metadata": {},
   "outputs": [
    {
     "data": {
      "text/plain": [
       "[(0.03517237302754106,\n",
       "  0.5957496118990835,\n",
       "  ('ecoinvent 3.9.1_cutoff', 'b74c8625e0adf3b76b6a1aafed10312b')),\n",
       " (0.030262358050930995,\n",
       "  0.0017345308610914507,\n",
       "  ('ecoinvent 3.9.1_cutoff', '5bd4d1d3ea2ad8b6f9288db105968f92')),\n",
       " (0.020204972114751255,\n",
       "  0.5948591969770979,\n",
       "  ('ecoinvent 3.9.1_cutoff', '97e6f8d1bb196a311c0562f913b4e356'))]"
      ]
     },
     "execution_count": 99,
     "metadata": {},
     "output_type": "execute_result"
    }
   ],
   "source": [
    "#change \"False\" to \"True\" and this command will give a similar result as the following one, only that we set a limit here\n",
    "ca.annotated_top_processes(lca, names=False, limit=0.05, limit_type='percent')"
   ]
  },
  {
   "cell_type": "markdown",
   "metadata": {},
   "source": [
    "One very useful method to quickly analyze the contribution is the 'bwa.print_recursive_calculation()' which is really easy-to-use : "
   ]
  },
  {
   "cell_type": "code",
   "execution_count": 100,
   "metadata": {},
   "outputs": [
    {
     "name": "stdout",
     "output_type": "stream",
     "text": [
      "Fraction of score | Absolute score | Amount | Activity\n",
      "0001 | 0.2784 |     1 | 'treatment of waste cooking oil, purified, esterification' (kilogram, \n",
      "  0.0107 | 0.002972 | 0.03825 | 'market for electricity, medium voltage' (kilowatt hour, FR, None)\n",
      "    0.0103 | 0.002855 | 0.03821 | 'electricity voltage transformation from high to medium voltage' (kilo\n",
      "      0.0103 | 0.002855 | 0.03847 | 'market for electricity, high voltage' (kilowatt hour, FR, None)\n",
      "  0.166 | 0.04617 | 0.8354 | 'market for heat, district or industrial, natural gas' (megajoule, Eur\n",
      "    0.118 | 0.03294 | 0.4354 | 'heat production, natural gas, at industrial furnace >100kW' (megajoul\n",
      "      0.0253 | 0.007034 | 0.01185 | 'market group for natural gas, high pressure' (cubic meter, Europe wit\n",
      "  0.282 | 0.07854 | 0.1027 | 'market for methanol' (kilogram, GLO, None)\n",
      "    0.266 | 0.07403 | 0.1024 | 'methanol production' (kilogram, GLO, None)\n",
      "      0.0193 | 0.005364 | 0.007575 | 'market group for electricity, medium voltage' (kilowatt hour, GLO, No\n",
      "      0.11 | 0.03054 | 0.7094 | 'market group for heat, district or industrial, natural gas' (megajoul\n",
      "      0.125 | 0.0348 | 0.06672 | 'market group for natural gas, high pressure' (cubic meter, GLO, None)\n",
      "  0.0205 | 0.005715 | 0.004162 | 'market for phosphoric acid, industrial grade, without water, in 85% s\n",
      "    0.0163 | 0.004548 | 0.003438 | 'purification of wet-process phosphoric acid to industrial grade, prod\n",
      "      0.0106 | 0.002963 | 0.003507 | 'market for phosphoric acid, fertiliser grade, without water, in 70% s\n",
      "  0.0989 | 0.02753 | 0.01027 | 'market for potassium hydroxide' (kilogram, GLO, None)\n",
      "    0.0831 | 0.02312 | 0.008483 | 'potassium hydroxide production' (kilogram, RoW, None)\n",
      "      0.036 | 0.01001 | 0.01085 | 'market group for electricity, medium voltage' (kilowatt hour, RAS, No\n",
      "      0.0195 | 0.005427 | 0.01165 | 'market for potassium chloride' (kilogram, RoW, None)\n",
      "    0.0138 | 0.003846 | 0.001787 | 'potassium hydroxide production' (kilogram, RER, None)\n",
      "  0.413 | 0.1149 | 0.9298 | 'market for used vegetable cooking oil, purified' (kilogram, GLO, None\n",
      "    0.39 | 0.1086 | 0.9066 | 'treatment of used vegetable cooking oil, purification' (kilogram, RoW\n",
      "      0.085 | 0.02367 | 0.02565 | 'market group for electricity, medium voltage' (kilowatt hour, RAS, No\n",
      "      0.0135 | 0.003748 | 0.007928 | 'market group for electricity, medium voltage' (kilowatt hour, US, Non\n",
      "      0.0963 | 0.02681 | 0.09573 | 'treatment of waste cooking oil, purified, esterification' (kilogram, \n",
      "      0.0959 | 0.02669 | 0.7008 | 'market for heat, district or industrial, natural gas' (megajoule, RoW\n",
      "      0.067 | 0.01864 | 0.02439 | 'market for methanol' (kilogram, GLO, None)\n"
     ]
    }
   ],
   "source": [
    "bwa.print_recursive_calculation(random_act,ipcc2021,max_level=3,cutoff=0.01)"
   ]
  },
  {
   "cell_type": "markdown",
   "metadata": {},
   "source": [
    "Another way of listing the most contributing activities is this:"
   ]
  },
  {
   "cell_type": "code",
   "execution_count": 101,
   "metadata": {
    "scrolled": true
   },
   "outputs": [
    {
     "data": {
      "text/plain": [
       "[(0.03517237302754106,\n",
       "  0.5957496118990835,\n",
       "  'heat production, natural gas, at industrial furnace >100kW' (megajoule, Europe without Switzerland, None)),\n",
       " (0.030262358050930995,\n",
       "  0.0017345308610914507,\n",
       "  'natural gas venting from petroleum/natural gas production' (cubic meter, GLO, None)),\n",
       " (0.020204972114751255,\n",
       "  0.5948591969770979,\n",
       "  'heat and power co-generation, natural gas, conventional power plant, 100MW electrical' (megajoule, RU, None)),\n",
       " (0.0131159596178357,\n",
       "  0.19585340250848657,\n",
       "  'sweet gas, burned in gas turbine' (megajoule, GLO, None)),\n",
       " (0.010361373156471804,\n",
       "  0.3915824159022464,\n",
       "  'heat and power co-generation, natural gas, conventional power plant, 100MW electrical' (megajoule, RoW, None)),\n",
       " (0.005990143267671677,\n",
       "  0.08796099044163655,\n",
       "  'treatment of waste natural gas, sweet, burned in production flare' (megajoule, GLO, None)),\n",
       " (0.005575084784721076,\n",
       "  0.013775411277582169,\n",
       "  'hard coal mine operation and hard coal preparation' (kilogram, CN, None)),\n",
       " (0.004106855600799607,\n",
       "  0.1406264777850827,\n",
       "  'methanol production' (kilogram, GLO, None)),\n",
       " (0.0039026230687797857,\n",
       "  0.03390943377597364,\n",
       "  'heat production, at hard coal industrial furnace 1-10MW' (megajoule, RoW, None)),\n",
       " (0.0036509664942876124,\n",
       "  0.16430983091362117,\n",
       "  'heat and power co-generation, natural gas, 1MW electrical, lean burn' (megajoule, RoW, None)),\n",
       " (0.003191834259491329,\n",
       "  0.05658568090977715,\n",
       "  'natural gas, burned in gas turbine' (megajoule, RU, None)),\n",
       " (0.003074706101658965,\n",
       "  0.0022742756340684636,\n",
       "  'electricity production, hard coal' (kilowatt hour, CN-NM, None)),\n",
       " (0.002747996242328766,\n",
       "  0.05045871174415991,\n",
       "  'transport, pipeline, onshore, long distance, natural gas' (ton kilometer, RU, None)),\n",
       " (0.0026170331277667047,\n",
       "  0.0030821984349743096,\n",
       "  'pig iron production' (kilogram, RoW, None)),\n",
       " (0.0022778607941627785,\n",
       "  0.0023900143914266448,\n",
       "  'electricity production, hard coal' (kilowatt hour, CN-SD, None)),\n",
       " (0.0020623311858765404,\n",
       "  0.08510315784948125,\n",
       "  'heat and power co-generation, natural gas, 200kW electrical, lean burn' (megajoule, RoW, None)),\n",
       " (0.0020354969411190116,\n",
       "  0.02755282958345603,\n",
       "  'diesel, burned in building machine' (megajoule, GLO, None)),\n",
       " (0.002007079731145388,\n",
       "  0.03399591406425998,\n",
       "  'heat production, natural gas, at industrial furnace >100kW' (megajoule, RoW, None)),\n",
       " (0.001861730651881435,\n",
       "  0.03300525279282612,\n",
       "  'natural gas, burned in gas turbine' (megajoule, QA, None)),\n",
       " (0.001797018506605489,\n",
       "  0.07927959142257611,\n",
       "  'heat and power co-generation, natural gas, conventional power plant, 100MW electrical' (megajoule, DE, None)),\n",
       " (0.0017881770336316445,\n",
       "  0.003339420103837334,\n",
       "  'electricity production, natural gas, conventional power plant' (kilowatt hour, RoW, None)),\n",
       " (0.00173974975627512,\n",
       "  0.0021509217954540443,\n",
       "  'clinker production' (kilogram, RoW, None)),\n",
       " (0.0016798492103883794,\n",
       "  0.026955742459235252,\n",
       "  'heat production, natural gas, at industrial furnace low-NOx >100kW' (megajoule, RoW, None)),\n",
       " (0.0016015470351323422,\n",
       "  0.0692006419778902,\n",
       "  'heat and power co-generation, natural gas, 500kW electrical, lean burn' (megajoule, RoW, None)),\n",
       " (0.001590197351759593,\n",
       "  0.027165394545857518,\n",
       "  'heat production, natural gas, at boiler modulating >100kW' (megajoule, RoW, None))]"
      ]
     },
     "execution_count": 101,
     "metadata": {},
     "output_type": "execute_result"
    }
   ],
   "source": [
    "lca.top_activities() #this command essentially relies on the annotated_top_process command from above. Hence, the output is given as (lca score, supply amount, activity name)"
   ]
  },
  {
   "cell_type": "markdown",
   "metadata": {},
   "source": [
    "This is where `lca_algebraic` becomes very useful, for its helping functions. Here is an example of a function to explore the impacts of an activity, and gather all the data in one nice dataframe, that we can plot easily.\n",
    "\n",
    "> **MAJ : this function has been removed in the new update (lca_algebraic, version 1.1, April 2024). Why ???**"
   ]
  },
  {
   "cell_type": "code",
   "execution_count": 102,
   "metadata": {},
   "outputs": [],
   "source": [
    "from lca_algebraic import *"
   ]
  },
  {
   "cell_type": "code",
   "execution_count": 103,
   "metadata": {},
   "outputs": [
    {
     "data": {
      "text/html": [
       "<div>\n",
       "<style scoped>\n",
       "    .dataframe tbody tr th:only-of-type {\n",
       "        vertical-align: middle;\n",
       "    }\n",
       "\n",
       "    .dataframe tbody tr th {\n",
       "        vertical-align: top;\n",
       "    }\n",
       "\n",
       "    .dataframe thead tr th {\n",
       "        text-align: left;\n",
       "    }\n",
       "</style>\n",
       "<table border=\"1\" class=\"dataframe\">\n",
       "  <thead>\n",
       "    <tr>\n",
       "      <th></th>\n",
       "      <th colspan=\"3\" halign=\"left\">treatment of waste cooking oil, purified, esterification[FR] (1.000000 kilogram)</th>\n",
       "    </tr>\n",
       "    <tr>\n",
       "      <th></th>\n",
       "      <th>input</th>\n",
       "      <th>amount</th>\n",
       "      <th>unit</th>\n",
       "    </tr>\n",
       "  </thead>\n",
       "  <tbody>\n",
       "    <tr>\n",
       "      <th>Carbon dioxide, in air</th>\n",
       "      <td>Carbon dioxide, in air</td>\n",
       "      <td>0.126056</td>\n",
       "      <td>kilogram</td>\n",
       "    </tr>\n",
       "    <tr>\n",
       "      <th>Carbon dioxide, non-fossil</th>\n",
       "      <td>Carbon dioxide, non-fossil</td>\n",
       "      <td>0.200362</td>\n",
       "      <td>kilogram</td>\n",
       "    </tr>\n",
       "    <tr>\n",
       "      <th>Water</th>\n",
       "      <td>Water</td>\n",
       "      <td>0.000114</td>\n",
       "      <td>cubic meter</td>\n",
       "    </tr>\n",
       "    <tr>\n",
       "      <th>Water#1</th>\n",
       "      <td>Water</td>\n",
       "      <td>0.000188</td>\n",
       "      <td>cubic meter</td>\n",
       "    </tr>\n",
       "    <tr>\n",
       "      <th>Water, cooling, unspecified natural origin</th>\n",
       "      <td>Water, cooling, unspecified natural origin</td>\n",
       "      <td>0.000287</td>\n",
       "      <td>cubic meter</td>\n",
       "    </tr>\n",
       "    <tr>\n",
       "      <th>electricity, medium voltage</th>\n",
       "      <td>market for electricity, medium voltage[FR]</td>\n",
       "      <td>0.038251</td>\n",
       "      <td>kilowatt hour</td>\n",
       "    </tr>\n",
       "    <tr>\n",
       "      <th>heat, district or industrial, natural gas</th>\n",
       "      <td>market for heat, district or industrial, natur...</td>\n",
       "      <td>0.83544</td>\n",
       "      <td>megajoule</td>\n",
       "    </tr>\n",
       "    <tr>\n",
       "      <th>methanol</th>\n",
       "      <td>market for methanol</td>\n",
       "      <td>0.102738</td>\n",
       "      <td>kilogram</td>\n",
       "    </tr>\n",
       "    <tr>\n",
       "      <th>phosphoric acid, industrial grade, without water, in 85% solution state</th>\n",
       "      <td>market for phosphoric acid, industrial grade, ...</td>\n",
       "      <td>0.004162</td>\n",
       "      <td>kilogram</td>\n",
       "    </tr>\n",
       "    <tr>\n",
       "      <th>potassium hydroxide</th>\n",
       "      <td>market for potassium hydroxide</td>\n",
       "      <td>0.01027</td>\n",
       "      <td>kilogram</td>\n",
       "    </tr>\n",
       "    <tr>\n",
       "      <th>tap water</th>\n",
       "      <td>market for tap water[Europe without Switzerland]</td>\n",
       "      <td>0.015117</td>\n",
       "      <td>kilogram</td>\n",
       "    </tr>\n",
       "    <tr>\n",
       "      <th>used vegetable cooking oil, purified</th>\n",
       "      <td>market for used vegetable cooking oil, purified</td>\n",
       "      <td>0.929754</td>\n",
       "      <td>kilogram</td>\n",
       "    </tr>\n",
       "    <tr>\n",
       "      <th>vegetable oil esterification facility</th>\n",
       "      <td>market for vegetable oil esterification facility</td>\n",
       "      <td>0.0</td>\n",
       "      <td>unit</td>\n",
       "    </tr>\n",
       "    <tr>\n",
       "      <th>wastewater, average</th>\n",
       "      <td>market for wastewater, average[Europe without ...</td>\n",
       "      <td>-0.000057</td>\n",
       "      <td>cubic meter</td>\n",
       "    </tr>\n",
       "  </tbody>\n",
       "</table>\n",
       "</div>"
      ],
      "text/plain": [
       "                                                   treatment of waste cooking oil, purified, esterification[FR] (1.000000 kilogram)  \\\n",
       "                                                                                                                              input   \n",
       "Carbon dioxide, in air                                                         Carbon dioxide, in air                                 \n",
       "Carbon dioxide, non-fossil                                                 Carbon dioxide, non-fossil                                 \n",
       "Water                                                                                           Water                                 \n",
       "Water#1                                                                                         Water                                 \n",
       "Water, cooling, unspecified natural origin                 Water, cooling, unspecified natural origin                                 \n",
       "electricity, medium voltage                                market for electricity, medium voltage[FR]                                 \n",
       "heat, district or industrial, natural gas           market for heat, district or industrial, natur...                                 \n",
       "methanol                                                                          market for methanol                                 \n",
       "phosphoric acid, industrial grade, without wate...  market for phosphoric acid, industrial grade, ...                                 \n",
       "potassium hydroxide                                                    market for potassium hydroxide                                 \n",
       "tap water                                            market for tap water[Europe without Switzerland]                                 \n",
       "used vegetable cooking oil, purified                  market for used vegetable cooking oil, purified                                 \n",
       "vegetable oil esterification facility                market for vegetable oil esterification facility                                 \n",
       "wastewater, average                                 market for wastewater, average[Europe without ...                                 \n",
       "\n",
       "                                                                             \n",
       "                                                      amount           unit  \n",
       "Carbon dioxide, in air                              0.126056       kilogram  \n",
       "Carbon dioxide, non-fossil                          0.200362       kilogram  \n",
       "Water                                               0.000114    cubic meter  \n",
       "Water#1                                             0.000188    cubic meter  \n",
       "Water, cooling, unspecified natural origin          0.000287    cubic meter  \n",
       "electricity, medium voltage                         0.038251  kilowatt hour  \n",
       "heat, district or industrial, natural gas            0.83544      megajoule  \n",
       "methanol                                            0.102738       kilogram  \n",
       "phosphoric acid, industrial grade, without wate...  0.004162       kilogram  \n",
       "potassium hydroxide                                  0.01027       kilogram  \n",
       "tap water                                           0.015117       kilogram  \n",
       "used vegetable cooking oil, purified                0.929754       kilogram  \n",
       "vegetable oil esterification facility                    0.0           unit  \n",
       "wastewater, average                                -0.000057    cubic meter  "
      ]
     },
     "metadata": {},
     "output_type": "display_data"
    }
   ],
   "source": [
    "printAct(random_act)"
   ]
  },
  {
   "cell_type": "markdown",
   "metadata": {},
   "source": [
    "This is better to clean up the whole foreground model each time, and redefine it in the notebook instead of relying on a state or previous run.\n",
    "Any persistent state is prone to errors.\n"
   ]
  },
  {
   "cell_type": "code",
   "execution_count": 107,
   "metadata": {},
   "outputs": [],
   "source": [
    "db_user = 'Foreground DB'\n",
    "resetDb(db_user)"
   ]
  },
  {
   "cell_type": "code",
   "execution_count": 109,
   "metadata": {},
   "outputs": [
    {
     "data": {
      "text/html": [
       "<div>\n",
       "<style scoped>\n",
       "    .dataframe tbody tr th:only-of-type {\n",
       "        vertical-align: middle;\n",
       "    }\n",
       "\n",
       "    .dataframe tbody tr th {\n",
       "        vertical-align: top;\n",
       "    }\n",
       "\n",
       "    .dataframe thead tr th {\n",
       "        text-align: left;\n",
       "    }\n",
       "</style>\n",
       "<table border=\"1\" class=\"dataframe\">\n",
       "  <thead>\n",
       "    <tr>\n",
       "      <th></th>\n",
       "      <th colspan=\"3\" halign=\"left\">treatment of waste cooking oil, purified, esterification[FR] (1.000000 kilogram)</th>\n",
       "    </tr>\n",
       "    <tr>\n",
       "      <th></th>\n",
       "      <th>input</th>\n",
       "      <th>amount</th>\n",
       "      <th>impact</th>\n",
       "    </tr>\n",
       "  </thead>\n",
       "  <tbody>\n",
       "    <tr>\n",
       "      <th>Carbon dioxide, in air</th>\n",
       "      <td>Carbon dioxide, in air</td>\n",
       "      <td>0.126056</td>\n",
       "      <td>0.0</td>\n",
       "    </tr>\n",
       "    <tr>\n",
       "      <th>Carbon dioxide, non-fossil</th>\n",
       "      <td>Carbon dioxide, non-fossil</td>\n",
       "      <td>0.200362</td>\n",
       "      <td>0.0</td>\n",
       "    </tr>\n",
       "    <tr>\n",
       "      <th>Water</th>\n",
       "      <td>Water</td>\n",
       "      <td>0.000114</td>\n",
       "      <td>0.0</td>\n",
       "    </tr>\n",
       "    <tr>\n",
       "      <th>Water#1</th>\n",
       "      <td>Water</td>\n",
       "      <td>0.000188</td>\n",
       "      <td>0.0</td>\n",
       "    </tr>\n",
       "    <tr>\n",
       "      <th>Water, cooling, unspecified natural origin</th>\n",
       "      <td>Water, cooling, unspecified natural origin</td>\n",
       "      <td>0.000287</td>\n",
       "      <td>0.0</td>\n",
       "    </tr>\n",
       "    <tr>\n",
       "      <th>electricity, medium voltage</th>\n",
       "      <td>market for electricity, medium voltage[FR]</td>\n",
       "      <td>0.038251</td>\n",
       "      <td>0.002972</td>\n",
       "    </tr>\n",
       "    <tr>\n",
       "      <th>heat, district or industrial, natural gas</th>\n",
       "      <td>market for heat, district or industrial, natur...</td>\n",
       "      <td>0.83544</td>\n",
       "      <td>0.046166</td>\n",
       "    </tr>\n",
       "    <tr>\n",
       "      <th>methanol</th>\n",
       "      <td>market for methanol</td>\n",
       "      <td>0.102738</td>\n",
       "      <td>0.078536</td>\n",
       "    </tr>\n",
       "    <tr>\n",
       "      <th>phosphoric acid, industrial grade, without water, in 85% solution state</th>\n",
       "      <td>market for phosphoric acid, industrial grade, ...</td>\n",
       "      <td>0.004162</td>\n",
       "      <td>0.005715</td>\n",
       "    </tr>\n",
       "    <tr>\n",
       "      <th>potassium hydroxide</th>\n",
       "      <td>market for potassium hydroxide</td>\n",
       "      <td>0.01027</td>\n",
       "      <td>0.027527</td>\n",
       "    </tr>\n",
       "    <tr>\n",
       "      <th>tap water</th>\n",
       "      <td>market for tap water[Europe without Switzerland]</td>\n",
       "      <td>0.015117</td>\n",
       "      <td>0.000005</td>\n",
       "    </tr>\n",
       "    <tr>\n",
       "      <th>used vegetable cooking oil, purified</th>\n",
       "      <td>market for used vegetable cooking oil, purified</td>\n",
       "      <td>0.929754</td>\n",
       "      <td>0.114921</td>\n",
       "    </tr>\n",
       "    <tr>\n",
       "      <th>vegetable oil esterification facility</th>\n",
       "      <td>market for vegetable oil esterification facility</td>\n",
       "      <td>0.0</td>\n",
       "      <td>0.002495</td>\n",
       "    </tr>\n",
       "    <tr>\n",
       "      <th>wastewater, average</th>\n",
       "      <td>market for wastewater, average[Europe without ...</td>\n",
       "      <td>-0.000057</td>\n",
       "      <td>0.000021</td>\n",
       "    </tr>\n",
       "  </tbody>\n",
       "</table>\n",
       "</div>"
      ],
      "text/plain": [
       "                                                   treatment of waste cooking oil, purified, esterification[FR] (1.000000 kilogram)  \\\n",
       "                                                                                                                              input   \n",
       "Carbon dioxide, in air                                                         Carbon dioxide, in air                                 \n",
       "Carbon dioxide, non-fossil                                                 Carbon dioxide, non-fossil                                 \n",
       "Water                                                                                           Water                                 \n",
       "Water#1                                                                                         Water                                 \n",
       "Water, cooling, unspecified natural origin                 Water, cooling, unspecified natural origin                                 \n",
       "electricity, medium voltage                                market for electricity, medium voltage[FR]                                 \n",
       "heat, district or industrial, natural gas           market for heat, district or industrial, natur...                                 \n",
       "methanol                                                                          market for methanol                                 \n",
       "phosphoric acid, industrial grade, without wate...  market for phosphoric acid, industrial grade, ...                                 \n",
       "potassium hydroxide                                                    market for potassium hydroxide                                 \n",
       "tap water                                            market for tap water[Europe without Switzerland]                                 \n",
       "used vegetable cooking oil, purified                  market for used vegetable cooking oil, purified                                 \n",
       "vegetable oil esterification facility                market for vegetable oil esterification facility                                 \n",
       "wastewater, average                                 market for wastewater, average[Europe without ...                                 \n",
       "\n",
       "                                                                        \n",
       "                                                      amount    impact  \n",
       "Carbon dioxide, in air                              0.126056       0.0  \n",
       "Carbon dioxide, non-fossil                          0.200362       0.0  \n",
       "Water                                               0.000114       0.0  \n",
       "Water#1                                             0.000188       0.0  \n",
       "Water, cooling, unspecified natural origin          0.000287       0.0  \n",
       "electricity, medium voltage                         0.038251  0.002972  \n",
       "heat, district or industrial, natural gas            0.83544  0.046166  \n",
       "methanol                                            0.102738  0.078536  \n",
       "phosphoric acid, industrial grade, without wate...  0.004162  0.005715  \n",
       "potassium hydroxide                                  0.01027  0.027527  \n",
       "tap water                                           0.015117  0.000005  \n",
       "used vegetable cooking oil, purified                0.929754  0.114921  \n",
       "vegetable oil esterification facility                    0.0  0.002495  \n",
       "wastewater, average                                -0.000057  0.000021  "
      ]
     },
     "execution_count": 109,
     "metadata": {},
     "output_type": "execute_result"
    }
   ],
   "source": [
    "df_contribution = exploreImpacts(ipcc2021, random_act)\n",
    "df_contribution"
   ]
  },
  {
   "cell_type": "code",
   "execution_count": 110,
   "metadata": {},
   "outputs": [
    {
     "data": {
      "text/html": [
       "<div>\n",
       "<style scoped>\n",
       "    .dataframe tbody tr th:only-of-type {\n",
       "        vertical-align: middle;\n",
       "    }\n",
       "\n",
       "    .dataframe tbody tr th {\n",
       "        vertical-align: top;\n",
       "    }\n",
       "\n",
       "    .dataframe thead th {\n",
       "        text-align: right;\n",
       "    }\n",
       "</style>\n",
       "<table border=\"1\" class=\"dataframe\">\n",
       "  <thead>\n",
       "    <tr style=\"text-align: right;\">\n",
       "      <th></th>\n",
       "      <th>treatment of waste cooking oil, purified, esterification</th>\n",
       "    </tr>\n",
       "  </thead>\n",
       "  <tbody>\n",
       "    <tr>\n",
       "      <th>Carbon dioxide, in air</th>\n",
       "      <td>0.0</td>\n",
       "    </tr>\n",
       "    <tr>\n",
       "      <th>Carbon dioxide, non-fossil</th>\n",
       "      <td>0.0</td>\n",
       "    </tr>\n",
       "    <tr>\n",
       "      <th>Water</th>\n",
       "      <td>0.0</td>\n",
       "    </tr>\n",
       "    <tr>\n",
       "      <th>Water#1</th>\n",
       "      <td>0.0</td>\n",
       "    </tr>\n",
       "    <tr>\n",
       "      <th>Water, cooling, unspecified natural origin</th>\n",
       "      <td>0.0</td>\n",
       "    </tr>\n",
       "    <tr>\n",
       "      <th>electricity, medium voltage</th>\n",
       "      <td>0.002972</td>\n",
       "    </tr>\n",
       "    <tr>\n",
       "      <th>heat, district or industrial, natural gas</th>\n",
       "      <td>0.046166</td>\n",
       "    </tr>\n",
       "    <tr>\n",
       "      <th>methanol</th>\n",
       "      <td>0.078536</td>\n",
       "    </tr>\n",
       "    <tr>\n",
       "      <th>phosphoric acid, industrial grade, without water, in 85% solution state</th>\n",
       "      <td>0.005715</td>\n",
       "    </tr>\n",
       "    <tr>\n",
       "      <th>potassium hydroxide</th>\n",
       "      <td>0.027527</td>\n",
       "    </tr>\n",
       "    <tr>\n",
       "      <th>tap water</th>\n",
       "      <td>0.000005</td>\n",
       "    </tr>\n",
       "    <tr>\n",
       "      <th>used vegetable cooking oil, purified</th>\n",
       "      <td>0.114921</td>\n",
       "    </tr>\n",
       "    <tr>\n",
       "      <th>vegetable oil esterification facility</th>\n",
       "      <td>0.002495</td>\n",
       "    </tr>\n",
       "    <tr>\n",
       "      <th>wastewater, average</th>\n",
       "      <td>0.000021</td>\n",
       "    </tr>\n",
       "  </tbody>\n",
       "</table>\n",
       "</div>"
      ],
      "text/plain": [
       "                                                   treatment of waste cooking oil, purified, esterification\n",
       "Carbon dioxide, in air                                                                            0.0      \n",
       "Carbon dioxide, non-fossil                                                                        0.0      \n",
       "Water                                                                                             0.0      \n",
       "Water#1                                                                                           0.0      \n",
       "Water, cooling, unspecified natural origin                                                        0.0      \n",
       "electricity, medium voltage                                                                  0.002972      \n",
       "heat, district or industrial, natural gas                                                    0.046166      \n",
       "methanol                                                                                     0.078536      \n",
       "phosphoric acid, industrial grade, without wate...                                           0.005715      \n",
       "potassium hydroxide                                                                          0.027527      \n",
       "tap water                                                                                    0.000005      \n",
       "used vegetable cooking oil, purified                                                         0.114921      \n",
       "vegetable oil esterification facility                                                        0.002495      \n",
       "wastewater, average                                                                          0.000021      "
      ]
     },
     "execution_count": 110,
     "metadata": {},
     "output_type": "execute_result"
    }
   ],
   "source": [
    "share=pd.DataFrame(index=df_contribution.index, data={random_act['name']:df_contribution.iloc[:,2].values})\n",
    "share"
   ]
  },
  {
   "cell_type": "code",
   "execution_count": 111,
   "metadata": {
    "scrolled": true
   },
   "outputs": [
    {
     "name": "stderr",
     "output_type": "stream",
     "text": [
      "C:\\Users\\TL268686\\AppData\\Local\\Temp\\ipykernel_17260\\167749206.py:16: FutureWarning: Series.__getitem__ treating keys as positions is deprecated. In a future version, integer keys will always be treated as labels (consistent with DataFrame behavior). To access a value by position, use `ser.iloc[pos]`\n",
      "  np.round(share.sum()[0],3),\n"
     ]
    },
    {
     "data": {
      "image/png": "[encoded data removed]",
      "text/plain": [
       "<Figure size 400x600 with 1 Axes>"
      ]
     },
     "metadata": {},
     "output_type": "display_data"
    }
   ],
   "source": [
    "figure,ax1=plt.subplots(figsize=(4,6))\n",
    "plt.subplots_adjust(wspace=0.3,hspace=0.3)\n",
    "sns.set()\n",
    "sns.set_style('darkgrid')\n",
    "# ax1.boxplot(result_mc.T['CC'], whis=[0,100],showmeans=False,positions=[0],showfliers=False) #for uncertainty analysis\n",
    "share.sort_values(by=random_act['name'], ascending=False).T.plot.bar(stacked=True,rot=0,color=colors,alpha=0.5,ax=ax1,fontsize=12, legend=None)\n",
    "ax1.set_ylabel('GWP (kg CO$_2$ eq/kWh)', fontsize=15)\n",
    "ax1.set_xticklabels(['GWP'])\n",
    "\n",
    "bar_height1=[] ; bar_height2=[] \n",
    "for bar1 in ax1.patches:\n",
    "    bar_height1.append(bar1.get_height())\n",
    "ax1.text(\n",
    "    ax1.patch.get_x(),\n",
    "    ax1.patch.get_y() + sum(bar_height1),\n",
    "    np.round(share.sum()[0],3),\n",
    "    ha='center',\n",
    "    color='b',\n",
    "    weight='bold',\n",
    "    alpha=0.7,\n",
    "    size=13\n",
    ")\n",
    "\n",
    "ax1.legend(fontsize=15,bbox_to_anchor=(1,1))\n",
    "# plt.savefig('Cradle-to-Gate_LCA_Contribution_GWP.png', dpi=600, bbox_inches='tight')#save it in png\n",
    "# plt.savefig('Cradle-to-Gate_LCA_Contribution_GWP.png.pdf', format='pdf', bbox_inches='tight') #save it in higher quality (in a vectorial pdf)\n",
    "\n",
    "plt.show()"
   ]
  },
  {
   "cell_type": "markdown",
   "metadata": {
    "tags": []
   },
   "source": [
    "## 6.3 Top emissions and processes by name"
   ]
  },
  {
   "cell_type": "markdown",
   "metadata": {},
   "source": [
    "In addition to the basic contribution analysis, we can also look at individual activities (columns) or flows (rows).\n",
    "\n",
    "What if we want to group names together, i.e. to get the total impact for all \"phosphates\"? There isn't a built-in function for this, but it is relatively easy to do. Let's start with creating different lists:"
   ]
  },
  {
   "cell_type": "code",
   "execution_count": 114,
   "metadata": {
    "scrolled": true
   },
   "outputs": [
    {
     "data": {
      "text/plain": [
       "{'Carfentrazone-ethyl': [0.0, 0.0, 0.0, 0.0, 0.0],\n",
       " '2,4-D': [0.0, 0.0, 0.0, 0.0, 0.0],\n",
       " 'Tin ion': [0.0, 0.0, 0.0, 0.0, 0.0, 0.0, 0.0, 0.0, 0.0, 0.0, 0.0, 0.0],\n",
       " 'Toluene, 2-chloro': [0.0, 0.0],\n",
       " 'Arsenic ion': [0.0, 0.0, 0.0, 0.0, 0.0, 0.0, 0.0, 0.0, 0.0, 0.0, 0.0, 0.0],\n",
       " 'Metalaxyl-M': [0.0, 0.0, 0.0, 0.0, 0.0, 0.0],\n",
       " 'Copper oxychloride': [0.0, 0.0, 0.0, 0.0],\n",
       " 'Silicon': [0.0, 0.0, 0.0, 0.0, 0.0, 0.0, 0.0, 0.0, 0.0, 0.0, 0.0, 0.0, 0.0],\n",
       " 'Methomyl': [0.0, 0.0, 0.0, 0.0, 0.0, 0.0],\n",
       " 'Water, cooling, unspecified natural origin': [0.0],\n",
       " 'Diquat dibromide': [0.0, 0.0, 0.0, 0.0, 0.0, 0.0],\n",
       " 'Fluorine': [0.0, 0.0, 0.0, 0.0, 0.0, 0.0],\n",
       " 'Zinc II': [0.0,\n",
       "  0.0,\n",
       "  0.0,\n",
       "  0.0,\n",
       "  0.0,\n",
       "  0.0,\n",
       "  0.0,\n",
       "  0.0,\n",
       "  0.0,\n",
       "  0.0,\n",
       "  0.0,\n",
       "  0.0,\n",
       "  0.0,\n",
       "  0.0],\n",
       " 'Phosphate': [0.0, 0.0, 0.0, 0.0, 0.0],\n",
       " 'Dimethylamine': [0.0, 0.0, 0.0],\n",
       " 'Benzovindiflupyr': [0.0, 0.0, 0.0, 0.0],\n",
       " 'Fluazinam': [0.0, 0.0, 0.0, 0.0, 0.0, 0.0, 0.0],\n",
       " 'Benzaldehyde': [0.0, 0.0, 0.0, 0.0],\n",
       " 'Haloxyfop-ethoxyethyl': [0.0, 0.0, 0.0],\n",
       " 'Occupation, permanent crop, irrigated': [0.0],\n",
       " 'Dissolved solids': [0.0, 0.0, 0.0],\n",
       " 'Fipronil': [0.0, 0.0, 0.0, 0.0, 0.0],\n",
       " 'Chromium VI': [0.0, 0.0, 0.0, 0.0, 0.0, 0.0, 0.0, 0.0, 0.0],\n",
       " 'Chromium III': [0.0,\n",
       "  0.0,\n",
       "  0.0,\n",
       "  0.0,\n",
       "  0.0,\n",
       "  0.0,\n",
       "  0.0,\n",
       "  0.0,\n",
       "  0.0,\n",
       "  0.0,\n",
       "  0.0,\n",
       "  0.0,\n",
       "  0.0],\n",
       " 'Thiobencarb': [0.0],\n",
       " 'Triethylene glycol': [0.0, 0.0],\n",
       " 'Fluxapyroxad': [0.0, 0.0, 0.0, 0.0, 0.0],\n",
       " 'Sulfite': [0.0, 0.0],\n",
       " 'Nitrogen oxides': [0.0, 0.0, 0.0, 0.0, 0.0],\n",
       " 'PAH, polycyclic aromatic hydrocarbons': [0.0,\n",
       "  0.0,\n",
       "  0.0,\n",
       "  0.0,\n",
       "  0.0,\n",
       "  0.0,\n",
       "  0.0,\n",
       "  0.0],\n",
       " 'Carbon': [0.0, 0.0, 0.0],\n",
       " 'Carbaryl': [0.0, 0.0, 0.0, 0.0],\n",
       " 'Ethylamine': [0.0, 0.0],\n",
       " 'Chloroethylene': [0.0, 0.0, 0.0, 0.0],\n",
       " 'Aluminium III': [0.0, 0.0, 0.0, 0.0, 0.0, 0.0, 0.0, 0.0, 0.0, 0.0, 0.0, 0.0],\n",
       " 'Fluroxypyr': [0.0],\n",
       " 'Naphthalene': [0.0, 0.0],\n",
       " 'Propanal': [0.0, 0.0, 0.0, 0.0],\n",
       " 'Occupation, traffic area, rail network': [0.0],\n",
       " 'Radon-220': [0.0, 0.0, 0.0],\n",
       " 'Pentane': [0.0, 0.0, 0.0, 0.0],\n",
       " 'Isobutane': [0.0],\n",
       " 'Mercury II': [0.0,\n",
       "  0.0,\n",
       "  0.0,\n",
       "  0.0,\n",
       "  0.0,\n",
       "  0.0,\n",
       "  0.0,\n",
       "  0.0,\n",
       "  0.0,\n",
       "  0.0,\n",
       "  0.0,\n",
       "  0.0,\n",
       "  0.0],\n",
       " 'Nitric oxide': [0.0],\n",
       " 'Barium II': [0.0, 0.0, 0.0, 0.0, 0.0, 0.0, 0.0, 0.0, 0.0, 0.0, 0.0, 0.0],\n",
       " 'Propionic acid': [0.0, 0.0, 0.0, 0.0],\n",
       " 'Selenium IV': [0.0, 0.0, 0.0, 0.0, 0.0, 0.0, 0.0, 0.0, 0.0, 0.0, 0.0, 0.0],\n",
       " 'Occupation, traffic area, road network': [0.0],\n",
       " 'Chlorosulfonic acid': [0.0, 0.0, 0.0],\n",
       " 'Ethylene glycol monoethyl ether': [0.0, 0.0, 0.0],\n",
       " 'Occupation, annual crop, non-irrigated': [0.0],\n",
       " 'Trifloxystrobin': [0.0, 0.0, 0.0, 0.0, 0.0, 0.0],\n",
       " '2-Propanol': [0.0, 0.0, 0.0, 0.0, 0.0],\n",
       " 'Mesotrione': [0.0, 0.0, 0.0, 0.0],\n",
       " 'Teflubenzuron': [0.0, 0.0, 0.0, 0.0],\n",
       " 'Iodine': [0.0, 0.0, 0.0, 0.0, 0.0],\n",
       " 'Phenol, 2,4-dichloro': [0.0, 0.0],\n",
       " 'Aldehydes, unspecified': [0.0, 0.0, 0.0],\n",
       " 'Orbencarb': [0.0],\n",
       " 'Tembotrione': [0.0, 0.0],\n",
       " 'Acetamide': [0.0, 0.0],\n",
       " 'Dichlorprop-P': [0.0],\n",
       " 'Thiamethoxam': [0.0, 0.0, 0.0, 0.0, 0.0, 0.0],\n",
       " 'Cadmium II': [0.0,\n",
       "  0.0,\n",
       "  0.0,\n",
       "  0.0,\n",
       "  0.0,\n",
       "  0.0,\n",
       "  0.0,\n",
       "  0.0,\n",
       "  0.0,\n",
       "  0.0,\n",
       "  0.0,\n",
       "  0.0,\n",
       "  0.0,\n",
       "  0.0],\n",
       " 'Radium-226': [0.0, 0.0, 0.0, 0.0, 0.0, 0.0, 0.0],\n",
       " 'Simazine': [0.0, 0.0, 0.0, 0.0, 0.0],\n",
       " 'Radioactive species, Nuclides, unspecified': [0.0, 0.0],\n",
       " 'Dimethyldichlorosilane': [0.0, 0.0],\n",
       " 'NMVOC, non-methane volatile organic compounds': [0.0, 0.0, 0.0, 0.0],\n",
       " 'Lithium I': [0.0, 0.0, 0.0, 0.0, 0.0, 0.0],\n",
       " 'Octaethylene glycol monododecyl ether': [0.0],\n",
       " 'Methanol': [0.0, 0.0, 0.0, 0.0, 0.0, 0.0],\n",
       " 'Strontium': [0.0,\n",
       "  0.0,\n",
       "  0.0,\n",
       "  0.0,\n",
       "  0.0,\n",
       "  0.0,\n",
       "  0.0,\n",
       "  0.0,\n",
       "  0.0,\n",
       "  0.0,\n",
       "  0.0,\n",
       "  0.0,\n",
       "  0.0],\n",
       " 'Hydrocarbons, aliphatic, alkanes, cyclic': [0.0, 0.0],\n",
       " 'DOC, Dissolved Organic Carbon': [0.0, 0.0, 0.0, 0.0, 0.0],\n",
       " 'Suspended solids, unspecified': [0.0, 0.0, 0.0, 0.0],\n",
       " '4-Methyl-2-pentanol': [0.0],\n",
       " 'Cerium': [0.0],\n",
       " 'Chloramine': [0.0, 0.0],\n",
       " 'Occupation, annual crop, irrigated': [0.0],\n",
       " 'Acetone': [0.0, 0.0, 0.0, 0.0, 0.0],\n",
       " 'Vanadium V': [0.0, 0.0, 0.0, 0.0, 0.0, 0.0, 0.0, 0.0, 0.0, 0.0, 0.0, 0.0],\n",
       " 'Fluoride': [0.0, 0.0, 0.0, 0.0, 0.0, 0.0, 0.0],\n",
       " 'Potassium I': [0.0, 0.0, 0.0, 0.0, 0.0, 0.0, 0.0, 0.0, 0.0, 0.0, 0.0, 0.0],\n",
       " 'Procymidone': [0.0],\n",
       " 'Carbonate': [0.0, 0.0, 0.0],\n",
       " 'Protactinium-234': [0.0, 0.0],\n",
       " 'Pyrite': [0.0],\n",
       " 'Trifluralin': [0.0, 0.0, 0.0, 0.0, 0.0],\n",
       " 'Dichlorprop': [0.0, 0.0, 0.0, 0.0],\n",
       " 'Tebuthiuron': [0.0, 0.0, 0.0, 0.0, 0.0],\n",
       " 'Phosphorus': [0.0, 0.0, 0.0, 0.0, 0.0, 0.0, 0.0, 0.0, 0.0, 0.0, 0.0, 0.0],\n",
       " 'Lead II': [0.0,\n",
       "  0.0,\n",
       "  0.0,\n",
       "  0.0,\n",
       "  0.0,\n",
       "  0.0,\n",
       "  0.0,\n",
       "  0.0,\n",
       "  0.0,\n",
       "  0.0,\n",
       "  0.0,\n",
       "  0.0,\n",
       "  0.0,\n",
       "  0.0],\n",
       " 'Fluquinconazole': [0.0],\n",
       " 'Cerium-141': [0.0, 0.0],\n",
       " 'Nitrogen, organic bound': [0.0, 0.0, 0.0, 0.0],\n",
       " 'Calcium II': [0.0, 0.0, 0.0, 0.0, 0.0],\n",
       " 'Occupation, urban, discontinuously built': [0.0],\n",
       " 't-Butyl methyl ether': [0.0, 0.0, 0.0],\n",
       " 'Oils, non-fossil': [0.0, 0.0, 0.0, 0.0, 0.0],\n",
       " 'Flutriafol': [0.0],\n",
       " 'Malathion': [0.0],\n",
       " 'Kaolinite': [0.0],\n",
       " 'Transformation, from annual crop, greenhouse': [0.0],\n",
       " 'Thorium-228': [0.0, 0.0, 0.0, 0.0, 0.0, 0.0],\n",
       " 'Hydrocarbons, chlorinated': [0.0, 0.0, 0.0],\n",
       " 'Ethane, 1,1,1-trichloro-, HCFC-140': [1.166100099516357e-08,\n",
       "  5.241090739173475e-12,\n",
       "  0.0],\n",
       " 'Molybdenum VI': [0.0, 0.0, 0.0, 0.0, 0.0, 0.0, 0.0, 0.0, 0.0, 0.0, 0.0, 0.0],\n",
       " 'Pyraclostrobin': [0.0, 0.0, 0.0, 0.0, 0.0, 0.0, 0.0],\n",
       " 'Carbon monoxide, non-fossil': [0.0, 0.0, 0.0],\n",
       " 'Dicamba': [0.0, 0.0, 0.0, 0.0],\n",
       " 'Transformation, to shrub land, sclerophyllous': [0.0],\n",
       " 'Iron ion': [0.0, 0.0, 0.0, 0.0, 0.0, 0.0, 0.0, 0.0, 0.0, 0.0, 0.0, 0.0],\n",
       " 'Transformation, to pasture, man made': [0.0],\n",
       " 'Thorium': [0.0, 0.0, 0.0],\n",
       " 'Calcium': [0.0, 0.0, 0.0, 0.0, 0.0, 0.0, 0.0, 0.0],\n",
       " 'Thiram': [0.0, 0.0, 0.0, 0.0, 0.0, 0.0],\n",
       " 'Endosulfan': [0.0],\n",
       " 'Bromoxynil': [0.0, 0.0, 0.0, 0.0],\n",
       " 'Titanium ion': [0.0, 0.0, 0.0, 0.0, 0.0, 0.0, 0.0, 0.0, 0.0, 0.0, 0.0, 0.0],\n",
       " 'Fenamiphos': [0.0],\n",
       " 'Nitrate': [0.0, 0.0, 0.0, 0.0, 0.0, 0.0, 0.0, 0.0, 0.0, 0.0],\n",
       " 'Esfenvalerate': [0.0, 0.0],\n",
       " 'Cypermethrin': [0.0, 0.0, 0.0, 0.0, 0.0],\n",
       " 'Chloride': [0.0, 0.0, 0.0, 0.0, 0.0, 0.0, 0.0, 0.0],\n",
       " 'Formaldehyde': [0.0, 0.0, 0.0, 0.0, 0.0],\n",
       " 'Nickel II': [0.0,\n",
       "  0.0,\n",
       "  0.0,\n",
       "  0.0,\n",
       "  0.0,\n",
       "  0.0,\n",
       "  0.0,\n",
       "  0.0,\n",
       "  0.0,\n",
       "  0.0,\n",
       "  0.0,\n",
       "  0.0,\n",
       "  0.0,\n",
       "  0.0],\n",
       " 'Nicosulfuron': [0.0, 0.0, 0.0, 0.0, 0.0],\n",
       " 'Thallium I': [0.0, 0.0, 0.0, 0.0, 0.0, 0.0, 0.0, 0.0, 0.0, 0.0, 0.0, 0.0],\n",
       " 'Occupation, permanent crop': [0.0],\n",
       " 'Thiophanate-methyl': [0.0, 0.0, 0.0, 0.0, 0.0],\n",
       " 'Methoxyfenozide': [0.0, 0.0, 0.0, 0.0, 0.0],\n",
       " 'Paraquat': [0.0, 0.0],\n",
       " 'Hydrogen': [0.0, 0.0, 0.0, 0.0],\n",
       " 'Isoproturon': [0.0],\n",
       " 'Methane, dichloro-, HCC-30': [2.9890999661060335e-10,\n",
       "  1.4871396951598685e-09,\n",
       "  1.1752361504737974e-08,\n",
       "  0.0],\n",
       " 'Imazethapyr': [0.0, 0.0, 0.0, 0.0, 0.0],\n",
       " 'Cu-HDO': [0.0],\n",
       " 'Water, well, in ground': [0.0],\n",
       " 'Methanesulfonic acid': [0.0],\n",
       " 'Transformation, from annual crop, non-irrigated': [0.0],\n",
       " 'Cinidon-ethyl': [0.0],\n",
       " 'Difenoconazole': [0.0, 0.0, 0.0, 0.0, 0.0],\n",
       " 'Bromopropane': [0.0, 0.0],\n",
       " 'Sulfate': [0.0, 0.0, 0.0, 0.0, 0.0, 0.0, 0.0, 0.0, 0.0, 0.0],\n",
       " 'Uranium-238': [0.0, 0.0, 0.0, 0.0, 0.0, 0.0, 0.0],\n",
       " 'Niobium-95': [0.0, 0.0],\n",
       " 'Iodide': [0.0, 0.0, 0.0, 0.0, 0.0],\n",
       " 'Copper ion': [0.0,\n",
       "  0.0,\n",
       "  0.0,\n",
       "  0.0,\n",
       "  0.0,\n",
       "  0.0,\n",
       "  0.0,\n",
       "  0.0,\n",
       "  0.0,\n",
       "  0.0,\n",
       "  0.0,\n",
       "  0.0,\n",
       "  0.0,\n",
       "  0.0],\n",
       " 'Tefluthrin': [0.0, 0.0, 0.0, 0.0],\n",
       " 'Tungsten': [0.0, 0.0, 0.0, 0.0, 0.0, 0.0, 0.0],\n",
       " 'Sodium': [0.0, 0.0, 0.0, 0.0, 0.0, 0.0, 0.0, 0.0, 0.0, 0.0],\n",
       " 'Styrene': [0.0, 0.0, 0.0],\n",
       " 'Sulfadiazine': [0.0],\n",
       " 'Butanol': [0.0, 0.0, 0.0],\n",
       " 'Iron-59': [0.0],\n",
       " 'MCPA': [0.0, 0.0, 0.0, 0.0],\n",
       " 'Fentin hydroxide': [0.0],\n",
       " 'Iodine-131': [0.0, 0.0],\n",
       " 'Beta-cyfluthrin': [0.0, 0.0, 0.0, 0.0, 0.0],\n",
       " 'Dioxins, measured as 2,3,7,8-tetrachlorodibenzo-p-dioxin': [0.0,\n",
       "  0.0,\n",
       "  0.0,\n",
       "  0.0,\n",
       "  0.0,\n",
       "  0.0,\n",
       "  0.0],\n",
       " 'Hydrocarbons, unspecified': [0.0, 0.0, 0.0, 0.0, 0.0, 0.0, 0.0],\n",
       " 'Phenol': [0.0, 0.0, 0.0, 0.0, 0.0, 0.0, 0.0],\n",
       " 'Methane, tetrachloro-, R-10': [3.3887412223841384e-06,\n",
       "  2.142653585804487e-08,\n",
       "  0.0],\n",
       " 'Sand, unspecified': [0.0],\n",
       " 'Imazaquin': [0.0, 0.0],\n",
       " 'Sulfur': [0.0, 0.0, 0.0, 0.0, 0.0, 0.0, 0.0, 0.0],\n",
       " 'Ethylene oxide': [0.0, 0.0, 0.0, 0.0, 0.0],\n",
       " 'Caesium': [0.0, 0.0],\n",
       " 'EPTC': [0.0, 0.0, 0.0],\n",
       " 'Diethylamine': [0.0, 0.0],\n",
       " 'Fungicides, unspecified': [0.0, 0.0],\n",
       " 'Silver-110': [0.0, 0.0],\n",
       " 'Magnesium': [0.0,\n",
       "  0.0,\n",
       "  0.0,\n",
       "  0.0,\n",
       "  0.0,\n",
       "  0.0,\n",
       "  0.0,\n",
       "  0.0,\n",
       "  0.0,\n",
       "  0.0,\n",
       "  0.0,\n",
       "  0.0,\n",
       "  0.0],\n",
       " 'Thiabendazole': [0.0, 0.0, 0.0, 0.0, 0.0, 0.0],\n",
       " 'Occupation, forest, extensive': [0.0],\n",
       " 'Ethyl acetate': [0.0, 0.0],\n",
       " 'Non-hazardous waste disposed': [0.0],\n",
       " 'Radium-228': [0.0, 0.0, 0.0, 0.0, 0.0, 0.0],\n",
       " 'Molybdenum-99': [0.0],\n",
       " 'COD, Chemical Oxygen Demand': [0.0, 0.0, 0.0, 0.0, 0.0],\n",
       " '1,4-Butanediol': [0.0, 0.0, 0.0],\n",
       " 'Butane': [7.900617815754693e-12,\n",
       "  2.4904933452915626e-08,\n",
       "  3.589762148821568e-09],\n",
       " 'Imidacloprid': [0.0, 0.0, 0.0, 0.0, 0.0, 0.0],\n",
       " 'Transformation, from annual crop, non-irrigated, extensive': [0.0],\n",
       " 'Occupation, urban, continuously built': [0.0],\n",
       " 'Cobalt-60': [0.0, 0.0],\n",
       " 'Acrylonitrile': [0.0, 0.0],\n",
       " 'Gas, mine, off-gas, process, coal mining': [0.0],\n",
       " 'Particulate Matter, < 2.5 um': [0.0, 0.0, 0.0, 0.0, 0.0],\n",
       " 'Methyl ethyl ketone': [0.0, 0.0, 0.0, 0.0],\n",
       " 'Sodium hydroxide': [0.0, 0.0],\n",
       " 'Boron': [0.0, 0.0, 0.0, 0.0, 0.0, 0.0, 0.0, 0.0, 0.0, 0.0, 0.0, 0.0, 0.0],\n",
       " 'Transformation, from unspecified, natural (non-use)': [0.0],\n",
       " 'TOC, Total Organic Carbon': [0.0, 0.0, 0.0, 0.0, 0.0],\n",
       " 'Dichromate': [0.0, 0.0],\n",
       " 'Chloropicrin': [0.0],\n",
       " 'Glyphosate': [0.0, 0.0, 0.0, 0.0, 0.0, 0.0, 0.0],\n",
       " 'Benz(a)anthracene': [0.0, 0.0],\n",
       " '3-Methyl-1-butanol': [0.0, 0.0],\n",
       " 'Dimethachlor': [0.0],\n",
       " 'Antimony ion': [0.0, 0.0, 0.0, 0.0, 0.0, 0.0, 0.0, 0.0, 0.0, 0.0, 0.0],\n",
       " 'Transformation, from seabed, infrastructure': [0.0],\n",
       " 'Acrolein': [0.0, 0.0, 0.0, 0.0],\n",
       " 'Methyl acrylate': [0.0, 0.0],\n",
       " 'Methane, fossil': [0.0,\n",
       "  0.0006038011252825215,\n",
       "  2.5798293009633947e-05,\n",
       "  0.04829542967583578],\n",
       " 'Triallate': [0.0, 0.0, 0.0],\n",
       " 'Phosphoric acid': [0.0, 0.0, 0.0],\n",
       " 'Bromine': [0.0, 0.0, 0.0, 0.0, 0.0, 0.0, 0.0, 0.0, 0.0, 0.0, 0.0, 0.0],\n",
       " 'Occupation, annual crop, non-irrigated, intensive': [0.0],\n",
       " 'Europium': [0.0],\n",
       " 'Phosphorus trichloride': [0.0, 0.0, 0.0],\n",
       " 'Thifensulfuron-methyl': [0.0],\n",
       " 'Xylene': [0.0, 0.0, 0.0, 0.0, 0.0, 0.0],\n",
       " 'Chlorpyrifos methyl': [0.0],\n",
       " 'Water': [0.0, 0.0, 0.0, 0.0, 0.0, 0.0, 0.0, 0.0, 0.0],\n",
       " 'Aluminium': [0.0],\n",
       " 'Acetic acid': [0.0, 0.0, 0.0, 0.0, 0.0],\n",
       " 'Quizalofop-p-ethyl': [0.0, 0.0, 0.0, 0.0, 0.0, 0.0],\n",
       " 'Quinclorac': [0.0],\n",
       " 'Chloroform': [0.0,\n",
       "  3.930915870157041e-10,\n",
       "  7.307247642792962e-09,\n",
       "  1.503834726944917e-08,\n",
       "  0.0],\n",
       " 'Cumene': [0.0, 0.0, 0.0],\n",
       " 'Chromium-51': [0.0, 0.0],\n",
       " 'Wood, unspecified, standing': [0.0],\n",
       " 'Clethodim': [0.0, 0.0, 0.0, 0.0, 0.0],\n",
       " 'Cobalt II': [0.0, 0.0, 0.0, 0.0, 0.0, 0.0, 0.0, 0.0, 0.0, 0.0, 0.0, 0.0],\n",
       " 'Methane, dichlorodifluoro-, CFC-12': [0.0, 9.20913532402887e-08],\n",
       " 'Glufosinate': [0.0],\n",
       " 'Krypton-89': [0.0],\n",
       " 'Polychlorinated biphenyls': [0.0, 0.0, 0.0, 0.0],\n",
       " 'S-Metolachlor': [0.0, 0.0, 0.0, 0.0, 0.0, 0.0, 0.0],\n",
       " 'Spiroxamine': [0.0],\n",
       " 'Ethane': [9.25500579481173e-08,\n",
       "  1.4077932157582322e-10,\n",
       "  9.245181150791213e-06],\n",
       " 'Transformation, to forest, secondary (non-use)': [0.0],\n",
       " 'Sulfur hexafluoride': [0.0, 0.0004593830019982215, 2.321273011256772e-13],\n",
       " 'Dinitrogen tetroxide': [0.0],\n",
       " 'Xenon': [0.0],\n",
       " 'Deltamethrin': [0.0, 0.0, 0.0],\n",
       " 'Gibberellic acid': [0.0, 0.0, 0.0, 0.0],\n",
       " 'Abamectin': [0.0, 0.0, 0.0, 0.0, 0.0],\n",
       " 'Hydrocarbons, aliphatic, unsaturated': [0.0, 0.0, 0.0, 0.0, 0.0, 0.0],\n",
       " 'Ethyl cellulose': [0.0],\n",
       " 'Hydrocarbons, aliphatic, alkanes, unspecified': [0.0, 0.0, 0.0, 0.0, 0.0],\n",
       " 'Dibenz(a,h)anthracene': [0.0, 0.0],\n",
       " 'Ethane, hexafluoro-, HFC-116': [3.59288406101663e-06, 4.312240448612891e-06],\n",
       " 'Transformation, to annual crop, irrigated, extensive': [0.0],\n",
       " 'Occupation, unspecified': [0.0],\n",
       " 'Arsine': [0.0],\n",
       " 'Mecoprop-P': [0.0],\n",
       " 'Rhenium': [0.0],\n",
       " 'Metolachlor': [0.0, 0.0, 0.0, 0.0, 0.0, 0.0],\n",
       " 'Pesticides, unspecified': [0.0, 0.0, 0.0, 0.0, 0.0, 0.0],\n",
       " 'Sulfosate': [0.0],\n",
       " 'Transformation, to permanent crop, non-irrigated': [0.0],\n",
       " 'Atrazine': [0.0, 0.0, 0.0, 0.0, 0.0, 0.0],\n",
       " 'Pendimethalin': [0.0, 0.0, 0.0, 0.0],\n",
       " 'Pyriproxyfen': [0.0, 0.0, 0.0, 0.0, 0.0],\n",
       " 'Transformation, to grassland, natural, for livestock grazing': [0.0],\n",
       " 'Flumioxazin': [0.0, 0.0, 0.0, 0.0, 0.0],\n",
       " 'Scandium': [0.0, 0.0, 0.0, 0.0, 0.0, 0.0, 0.0, 0.0, 0.0, 0.0],\n",
       " 'Uranium': [0.0, 0.0, 0.0, 0.0],\n",
       " 'Nitrogen': [0.0, 0.0, 0.0, 0.0, 0.0, 0.0, 0.0, 0.0],\n",
       " 'Propargite': [0.0],\n",
       " 'Thorium-234': [0.0, 0.0],\n",
       " 'Lufenuron': [0.0, 0.0],\n",
       " 'Triflumuron': [0.0, 0.0, 0.0, 0.0, 0.0],\n",
       " 'Ethyne': [0.0, 0.0, 0.0],\n",
       " 'Transformation, to mineral extraction site': [0.0],\n",
       " 'Methane, bromochlorodifluoro-, Halon 1211': [4.5056205140855883e-07],\n",
       " 'N-methyl-2-pyrrolidone': [0.0],\n",
       " 'Glufosinate ammonium': [0.0, 0.0, 0.0],\n",
       " 'Methane, trifluoro-, HFC-23': [0.0001314678347030228,\n",
       "  3.1422230339933025e-07],\n",
       " 'Bentazone': [0.0, 0.0, 0.0, 0.0],\n",
       " '2,4-D ester': [0.0, 0.0, 0.0, 0.0],\n",
       " 'Thorium-232': [0.0, 0.0, 0.0, 0.0, 0.0, 0.0],\n",
       " 'Manganese-54': [0.0, 0.0],\n",
       " 'Carboxylic acids, unspecified': [0.0, 0.0, 0.0],\n",
       " 'Sulfide': [0.0, 0.0, 0.0, 0.0],\n",
       " 'Transformation, to permanent crop, irrigated': [0.0],\n",
       " 'Indoxacarb': [0.0, 0.0, 0.0],\n",
       " 'Metconazole': [0.0, 0.0, 0.0],\n",
       " '2,4-DB': [0.0, 0.0, 0.0, 0.0],\n",
       " 'Carbon dioxide, to soil or biomass stock': [-5.124333492635793e-07,\n",
       "  -4.738007669950072e-06],\n",
       " 'Iodosulfuron-methyl-sodium': [0.0],\n",
       " 'Alpha-cypermethrin': [0.0, 0.0, 0.0, 0.0],\n",
       " 'Butene': [0.0, 0.0, 0.0],\n",
       " 'Lambda-cyhalothrin': [0.0, 0.0, 0.0, 0.0, 0.0, 0.0],\n",
       " 'Silver': [0.0],\n",
       " 'VOC, volatile organic compounds': [0.0, 0.0, 0.0, 0.0],\n",
       " 'Gold': [0.0],\n",
       " 'Transformation, to unspecified, natural (non-use)': [0.0],\n",
       " 'Methane, non-fossil': [0.00022175590919869858,\n",
       "  4.752379339357474e-06,\n",
       "  4.2550533071843265e-06],\n",
       " 'Chlorantraniliprole': [0.0, 0.0, 0.0, 0.0, 0.0, 0.0],\n",
       " 'Carbon dioxide, fossil': [0.07060793514146248,\n",
       "  1.922655852338805e-09,\n",
       "  0.0,\n",
       "  0.13758179329543857,\n",
       "  0.01842507805538861],\n",
       " 'Manganese II': [0.0, 0.0, 0.0, 0.0, 0.0, 0.0, 0.0, 0.0, 0.0, 0.0, 0.0, 0.0],\n",
       " 'Hydrogen-3, Tritium': [0.0, 0.0, 0.0],\n",
       " 'Oxygen': [0.0, 0.0, 0.0, 0.0],\n",
       " 'Triclopyr': [0.0],\n",
       " 'Cerium-144': [0.0],\n",
       " 'Fish, demersal, in ocean': [0.0],\n",
       " 'Sulfosulfuron': [0.0],\n",
       " 'Beryllium II': [0.0, 0.0, 0.0, 0.0, 0.0, 0.0, 0.0, 0.0, 0.0, 0.0, 0.0],\n",
       " 'Fluosilicic acid': [0.0, 0.0, 0.0],\n",
       " 'Borate': [0.0, 0.0],\n",
       " 'Transformation, from heterogeneous, agricultural': [0.0],\n",
       " 'Choline chloride': [0.0],\n",
       " 'Folpet': [0.0],\n",
       " 'Nitrite': [0.0, 0.0, 0.0, 0.0, 0.0],\n",
       " 'Propane': [1.1118131912292023e-07,\n",
       "  5.9689680126394745e-09,\n",
       "  1.8147899255734175e-11],\n",
       " 'Energy, geothermal, converted': [0.0],\n",
       " 'Ethane, 1,2-dichloro-': [1.8779025624724296e-10,\n",
       "  1.1505824504732045e-10,\n",
       "  0.0,\n",
       "  0.0,\n",
       "  2.412844871485895e-08],\n",
       " 'Hypochlorite': [0.0, 0.0, 0.0],\n",
       " 'Fenpropidin': [0.0],\n",
       " 'Diethanolamine': [0.0],\n",
       " 'Oils, unspecified': [0.0, 0.0, 0.0, 0.0, 0.0, 0.0],\n",
       " 'm-Xylene': [0.0, 0.0, 0.0, 0.0, 0.0],\n",
       " 'Acrylic acid': [0.0],\n",
       " 'Permethrin': [0.0, 0.0, 0.0],\n",
       " 'Transformation, to annual crop, non-irrigated': [0.0],\n",
       " 'Hydroxide': [0.0, 0.0],\n",
       " 't-Butylamine': [0.0, 0.0],\n",
       " 'Tralkoxydim': [0.0],\n",
       " 'Aniline': [0.0, 0.0, 0.0, 0.0],\n",
       " 'Mancozeb': [0.0, 0.0, 0.0, 0.0, 0.0],\n",
       " 'Transformation, to annual crop, irrigated': [0.0],\n",
       " 'Metsulfuron-methyl': [0.0, 0.0, 0.0, 0.0, 0.0],\n",
       " 'Bromacil': [0.0],\n",
       " 'Ammonium': [0.0, 0.0, 0.0, 0.0, 0.0],\n",
       " 'Wood, hard, standing': [0.0],\n",
       " 'Lactic acid': [0.0, 0.0],\n",
       " 'Fenoxaprop ethyl ester': [0.0],\n",
       " 'Azinphos-methyl': [0.0],\n",
       " 'Silver I': [0.0, 0.0, 0.0, 0.0, 0.0, 0.0, 0.0, 0.0, 0.0, 0.0, 0.0, 0.0],\n",
       " 'Phosphorus pentachloride': [0.0],\n",
       " 'Krypton-88': [0.0],\n",
       " 'Zineb': [0.0],\n",
       " 'Transformation, from cropland fallow (non-use)': [0.0],\n",
       " 'Occupation, permanent crop, non-irrigated': [0.0],\n",
       " 'Dimethoate': [0.0, 0.0, 0.0],\n",
       " 'Lead': [0.0],\n",
       " 'Acetamiprid': [0.0, 0.0, 0.0, 0.0, 0.0],\n",
       " 'Occupation, mineral extraction site': [0.0],\n",
       " 'Transformation, to cropland fallow (non-use)': [0.0],\n",
       " 'Fluoranthene': [0.0, 0.0],\n",
       " 'Molybdenum': [0.0],\n",
       " 'Phorate': [0.0],\n",
       " 'Discarded fish, pelagic, to ocean': [0.0],\n",
       " 'Occupation, river, artificial': [0.0],\n",
       " 'Thiodicarb': [0.0, 0.0, 0.0, 0.0, 0.0],\n",
       " 'Metazachlor': [0.0],\n",
       " 'Chlorsulfuron': [0.0],\n",
       " 'Transformation, from mineral extraction site': [0.0],\n",
       " '1,2-Dichlorobenzene': [0.0, 0.0],\n",
       " 'Formic acid': [0.0, 0.0, 0.0],\n",
       " 'Occupation, urban, green area': [0.0],\n",
       " 'BOD5, Biological Oxygen Demand': [0.0, 0.0, 0.0, 0.0, 0.0],\n",
       " 'Carbendazim': [0.0, 0.0, 0.0, 0.0, 0.0],\n",
       " 'Transformation, from annual crop, non-irrigated, intensive': [0.0],\n",
       " 'Propiconazole': [0.0, 0.0, 0.0, 0.0, 0.0, 0.0],\n",
       " 'Ethanol': [0.0, 0.0, 0.0, 0.0, 0.0],\n",
       " 'Calcite': [0.0],\n",
       " 'Transformation, from urban, continuously built': [0.0],\n",
       " 'Rotenone': [0.0],\n",
       " 'Radioactive species, alpha emitters': [0.0],\n",
       " 'Bifenthrin': [0.0, 0.0, 0.0, 0.0, 0.0],\n",
       " 'Transformation, to traffic area, road network': [0.0],\n",
       " 'Primisulfuron': [0.0],\n",
       " 'Dimethyl ether': [0.0, 0.0],\n",
       " 'Bitertanol': [0.0],\n",
       " 'Transformation, to permanent crop, non-irrigated, intensive': [0.0],\n",
       " 'Hydrochloric acid': [0.0, 0.0, 0.0, 0.0, 0.0],\n",
       " 'Glutaraldehyde': [0.0],\n",
       " 'Propoxycarbazone-sodium (prop)': [0.0],\n",
       " 'Carboxin': [0.0, 0.0, 0.0, 0.0, 0.0],\n",
       " 'Monobutyltin (III)': [0.0],\n",
       " 'Noble gases, radioactive, unspecified': [0.0],\n",
       " 'Platinum': [0.0, 0.0, 0.0, 0.0],\n",
       " 'Diflubenzuron': [0.0, 0.0, 0.0, 0.0, 0.0],\n",
       " 'Chlorinated solvents, unspecified': [0.0, 0.0],\n",
       " 'Chlorothalonil': [0.0, 0.0, 0.0, 0.0, 0.0],\n",
       " 'Trioctyltin': [0.0],\n",
       " 'Picloram': [0.0],\n",
       " 'Occupation, annual crop, irrigated, intensive': [0.0],\n",
       " 'Argon-40': [0.0, 0.0],\n",
       " 'Transformation, from permanent crop, non-irrigated': [0.0],\n",
       " 'Hexane': [0.0, 0.0, 0.0, 0.0],\n",
       " 'Spodumene': [0.0],\n",
       " 'Acenaphthene': [0.0, 0.0, 0.0, 0.0, 0.0],\n",
       " 'Thorium-230': [0.0, 0.0],\n",
       " 'Sulfur trioxide': [0.0, 0.0],\n",
       " 'Methane, monochloro-, R-40': [1.0627176514847336e-08, 2.372331382809034e-13],\n",
       " 'Novaluron': [0.0],\n",
       " 'Beryllium': [0.0],\n",
       " 'Energy, solar, converted': [0.0],\n",
       " 'Chloroacetic acid': [0.0, 0.0, 0.0],\n",
       " 'Methyl parathion': [0.0, 0.0],\n",
       " 'Carbon-14': [0.0, 0.0],\n",
       " 'Transformation, to seabed, unspecified': [0.0],\n",
       " 'Diflufenzopyr': [0.0, 0.0],\n",
       " 'Quinmerac': [0.0],\n",
       " 'Dinitrogen monoxide': [0.0,\n",
       "  0.00041722453947218963,\n",
       "  0.0007910881593711632,\n",
       "  0.0004796224393959339],\n",
       " 'Pyrethrin': [0.0],\n",
       " 'Heat, waste': [0.0, 0.0, 0.0, 0.0, 0.0, 0.0, 0.0, 0.0],\n",
       " 'Transformation, from forest, secondary (non-use)': [0.0],\n",
       " 'Transformation, to forest, intensive': [0.0],\n",
       " 'Chlorimuron-ethyl': [0.0, 0.0, 0.0, 0.0, 0.0],\n",
       " 'Water, turbine use, unspecified natural origin': [0.0],\n",
       " 'Xenon-133m': [0.0],\n",
       " 'Mercury': [0.0],\n",
       " 'Transformation, to dump site, sanitary landfill': [0.0],\n",
       " 'AOX, Adsorbable Organic Halogen': [0.0, 0.0, 0.0, 0.0],\n",
       " 'Hydrogen sulfide': [0.0, 0.0, 0.0, 0.0, 0.0, 0.0],\n",
       " 'Sulfentrazone': [0.0, 0.0, 0.0, 0.0, 0.0],\n",
       " 'Zinc': [0.0],\n",
       " '2,4-D dimethylamine salt': [0.0, 0.0, 0.0],\n",
       " 'Copper': [0.0],\n",
       " 'Vermiculite': [0.0],\n",
       " 'Ozone': [0.0, 0.0],\n",
       " 'Diatomite': [0.0],\n",
       " 'Methylamine': [0.0, 0.0, 0.0],\n",
       " 'Krypton-85m': [0.0],\n",
       " 'Methyl formate': [0.0, 0.0, 0.0],\n",
       " 'Propanol': [0.0, 0.0, 0.0, 0.0],\n",
       " 'Ethylene': [0.0, 0.0, 0.0, 0.0],\n",
       " 'Dimethomorph': [0.0],\n",
       " 'Particulate Matter, > 10 um': [0.0, 0.0, 0.0, 0.0],\n",
       " 'Water, river': [0.0],\n",
       " 'Barium-140': [0.0, 0.0],\n",
       " 'Pronamide': [0.0],\n",
       " 'Pydiflumetofen': [0.0, 0.0],\n",
       " 'Allyl chloride': [0.0],\n",
       " 'Toluene': [0.0, 0.0, 0.0, 0.0, 0.0, 0.0],\n",
       " 'Dimethenamid-P': [0.0, 0.0, 0.0],\n",
       " 'Lactofen': [0.0, 0.0],\n",
       " 'Diazinon': [0.0],\n",
       " 'Propineb': [0.0],\n",
       " 'Benzene, chloro-': [0.0],\n",
       " 'Dimethenamid': [0.0, 0.0, 0.0, 0.0],\n",
       " 'Sulfur dioxide': [0.0, 0.0, 0.0, 0.0],\n",
       " 'Cloransulam-methyl': [0.0, 0.0],\n",
       " 'Energy, potential (in hydropower reservoir), converted': [0.0],\n",
       " 'Chrysene': [0.0, 0.0],\n",
       " 'Benzo(ghi)perylene': [0.0, 0.0],\n",
       " 'Phenanthrene': [0.0, 0.0],\n",
       " 'Methane, chlorodifluoro-, HCFC-22': [8.813554817379756e-06,\n",
       "  1.6278836760863248e-21,\n",
       "  1.5101128610453216e-07],\n",
       " 'Occupation, shrub land, sclerophyllous': [0.0],\n",
       " 'Mineral oil': [0.0],\n",
       " 'Pymetrozine': [0.0],\n",
       " 'Diethylene glycol': [0.0, 0.0, 0.0, 0.0],\n",
       " 'Fomesafen': [0.0, 0.0, 0.0],\n",
       " 'Sulfuric acid': [0.0, 0.0, 0.0, 0.0, 0.0, 0.0],\n",
       " 'Diuron': [0.0, 0.0, 0.0, 0.0],\n",
       " 'Elemental carbon': [0.0, 0.0, 0.0, 0.0],\n",
       " 'Sodium I': [0.0, 0.0, 0.0, 0.0, 0.0],\n",
       " 'Ethane, 1,1,1,2-tetrafluoro-, HFC-134a': [4.6668154467234244e-07,\n",
       "  3.889040653355407e-07,\n",
       "  3.841573096698528e-09],\n",
       " 'Acephate': [0.0, 0.0, 0.0, 0.0, 0.0],\n",
       " 'Lead-210': [0.0, 0.0, 0.0, 0.0, 0.0, 0.0, 0.0],\n",
       " 'Lanthanum': [0.0],\n",
       " 'Radium-224': [0.0, 0.0],\n",
       " 'Kaolin': [0.0],\n",
       " 'Nickel': [0.0],\n",
       " 'Uranium alpha': [0.0, 0.0],\n",
       " 'Xenon-135': [0.0],\n",
       " 'Propylamine': [0.0, 0.0],\n",
       " 'Transformation, to arable land, unspecified use': [0.0],\n",
       " 'Fluazifop': [0.0],\n",
       " 'Benzene': [0.0, 0.0, 0.0, 0.0, 0.0, 0.0],\n",
       " 'Thiocyanate': [0.0],\n",
       " 'Transformation, to dump site, inert material landfill': [0.0],\n",
       " 'Occupation, traffic area, rail/road embankment': [0.0],\n",
       " 'Lanthanum-140': [0.0, 0.0],\n",
       " 'Perlite': [0.0],\n",
       " 'Halosulfuron': [0.0, 0.0],\n",
       " 'Tetramethyl ammonium hydroxide': [0.0],\n",
       " 'Tribenuron-methyl': [0.0, 0.0, 0.0],\n",
       " '2,4-D amines': [0.0, 0.0, 0.0, 0.0],\n",
       " 'Ethylene diamine': [0.0, 0.0],\n",
       " 'Strontium-90': [0.0, 0.0],\n",
       " '2-Methyl-2-butene': [0.0, 0.0],\n",
       " 'MCPB': [0.0, 0.0, 0.0, 0.0],\n",
       " 'Xenon-135m': [0.0],\n",
       " 'Chlorine': [0.0, 0.0, 0.0, 0.0, 0.0, 0.0, 0.0, 0.0],\n",
       " 'Borax': [0.0],\n",
       " 'Cyhalothrin': [0.0],\n",
       " 'Transformation, to urban/industrial fallow (non-use)': [0.0],\n",
       " 'Transformation, from dump site, residual material landfill': [0.0],\n",
       " 'o-Xylene': [0.0, 0.0, 0.0],\n",
       " 'Methyl borate': [0.0],\n",
       " 'Rhodium III': [0.0],\n",
       " 'Fludioxonil': [0.0, 0.0, 0.0, 0.0, 0.0, 0.0],\n",
       " 'Isocyanic acid': [0.0],\n",
       " 'Occupation, grassland, natural, for livestock grazing': [0.0],\n",
       " 'Fluorene': [0.0, 0.0],\n",
       " 'Cyclohexane': [0.0, 0.0, 0.0],\n",
       " 'Transformation, from permanent crop, non-irrigated, intensive': [0.0],\n",
       " 'Potassium-40': [0.0, 0.0, 0.0, 0.0, 0.0, 0.0],\n",
       " 'Sodium chlorate': [0.0],\n",
       " 'Radioactive species, other beta emitters': [0.0, 0.0, 0.0],\n",
       " '2-Aminopropanol': [0.0, 0.0],\n",
       " 'Isoprene': [0.0],\n",
       " 'Azoxystrobin': [0.0, 0.0, 0.0, 0.0, 0.0],\n",
       " 'Occupation, unspecified, natural (non-use)': [0.0],\n",
       " 'Energy, gross calorific value, in biomass, primary forest': [0.0],\n",
       " 'Nitrobenzene': [0.0, 0.0, 0.0],\n",
       " 'Water, salt, ocean': [0.0],\n",
       " 'Benzal chloride': [0.0, 0.0],\n",
       " 'Feldspar': [0.0],\n",
       " 'Cobalt-57': [0.0],\n",
       " 'Uranium-235': [0.0, 0.0],\n",
       " 'Solids, inorganic': [0.0, 0.0, 0.0, 0.0],\n",
       " 'Cyclopentane': [0.0],\n",
       " 'Butadiene': [0.0, 0.0],\n",
       " 'Terbufos': [0.0],\n",
       " 'Occupation, pasture, man made': [0.0],\n",
       " 'Tributyltin compounds': [0.0],\n",
       " 'Prothioconazole': [0.0, 0.0, 0.0, 0.0, 0.0, 0.0],\n",
       " 'Coal, brown': [0.0],\n",
       " 'Dipropylamine': [0.0, 0.0],\n",
       " 'Hafnium': [0.0],\n",
       " 'Carbon disulfide': [0.0, 0.0, 0.0, 0.0],\n",
       " 'Carbon dioxide, non-fossil': [0.0, 0.0, 0.0],\n",
       " 'Sedaxane': [0.0, 0.0],\n",
       " 'Ametryn': [0.0],\n",
       " 'Trimethylamine': [0.0, 0.0, 0.0],\n",
       " 'Transformation, to wetland, inland (non-use)': [0.0],\n",
       " 'Benzo(k)fluoranthene': [0.0, 0.0],\n",
       " 'Fenbuconazole': [0.0],\n",
       " 'Acetaldehyde': [0.0, 0.0, 0.0, 0.0],\n",
       " 'Sodium chloride': [0.0],\n",
       " 'Dibutyltin': [0.0],\n",
       " 'Boron trifluoride': [0.0],\n",
       " 'Tetrachloroethylene': [9.346720953177628e-10,\n",
       "  9.853807356344515e-10,\n",
       "  2.631796914933139e-12],\n",
       " 'Rhodium': [0.0],\n",
       " 'Benzo(b)fluoranthene': [0.0, 0.0],\n",
       " 'Cyproconazole': [0.0, 0.0, 0.0, 0.0, 0.0],\n",
       " 'Benzene, hexachloro-': [0.0, 0.0, 0.0, 0.0],\n",
       " 'Cyanide': [0.0, 0.0, 0.0, 0.0, 0.0, 0.0, 0.0],\n",
       " 'Cyclohexane (for all cycloalkanes)': [0.0],\n",
       " 'Krypton': [0.0],\n",
       " 'Ethephon': [0.0, 0.0, 0.0, 0.0],\n",
       " 'Aerosols, radioactive, unspecified': [0.0],\n",
       " 'Niobium': [0.0],\n",
       " 'Fenpiclonil': [0.0],\n",
       " 'Thifensulfuron': [0.0],\n",
       " 'Flumetsulam': [0.0, 0.0],\n",
       " '4-Methyl-2-pentanone': [0.0, 0.0, 0.0, 0.0],\n",
       " 'Polonium-210': [0.0, 0.0, 0.0, 0.0, 0.0, 0.0],\n",
       " 'Chlorides, unspecified': [0.0],\n",
       " 'Chrysotile': [0.0],\n",
       " 'Chlorosilane, trimethyl-': [0.0],\n",
       " 'Epoxiconazole': [0.0, 0.0, 0.0, 0.0, 0.0],\n",
       " 'Organic carbon': [0.0, 0.0, 0.0],\n",
       " 'EDTA, Ethylenediaminetetraacetic Acid': [0.0],\n",
       " 'Penflufen': [0.0, 0.0],\n",
       " 'Benzene, pentachloro-': [0.0, 0.0, 0.0],\n",
       " 'Ethane, 2-chloro-1,1,1,2-tetrafluoro-, HCFC-124': [6.465267459233139e-09],\n",
       " 'Magnesite': [0.0],\n",
       " 'Pyraflufen-ethyl': [0.0, 0.0, 0.0],\n",
       " 'Clothianidin': [0.0],\n",
       " 'Sylvite': [0.0],\n",
       " 'Ethofumesate': [0.0],\n",
       " 'Transformation, to annual crop, greenhouse': [0.0],\n",
       " 'Gallium': [0.0],\n",
       " 'Antimony': [0.0],\n",
       " 'Methyl acetate': [0.0, 0.0, 0.0],\n",
       " 'Triforine': [0.0],\n",
       " 'Lauric acid': [0.0, 0.0],\n",
       " 'Ethaboxam': [0.0, 0.0],\n",
       " 'Ziram': [0.0],\n",
       " 'Methyl lactate': [0.0],\n",
       " 'Coal, hard, unspecified': [0.0],\n",
       " 'Chlormequat': [0.0],\n",
       " 'Carbon dioxide, non-fossil, resource correction': [0.0],\n",
       " 'Alkylbenzene (c10-c15)': [0.0, 0.0, 0.0],\n",
       " 'Transformation, to dump site, residual material landfill': [0.0],\n",
       " 'Emamectin benzoate': [0.0, 0.0, 0.0, 0.0],\n",
       " 'Hydrocarbons, aromatic': [0.0, 0.0, 0.0, 0.0, 0.0],\n",
       " 'Carbofuran': [0.0],\n",
       " 'Carbetamide': [0.0],\n",
       " 'Zirconium': [0.0, 0.0],\n",
       " 'Surfactant blend': [0.0, 0.0, 0.0],\n",
       " 'Isopropylamine': [0.0, 0.0],\n",
       " 'Transformation, from industrial area': [0.0],\n",
       " 'Acifluorfen': [0.0, 0.0],\n",
       " 'Cyanoacetic acid': [0.0],\n",
       " 'Propene': [0.0, 0.0, 0.0, 0.0],\n",
       " 'Hydramethylnon': [0.0],\n",
       " 'Foramsulfuron': [0.0],\n",
       " 'Dolomite': [0.0],\n",
       " 'Formamide': [0.0, 0.0],\n",
       " 'Metalaxil': [0.0],\n",
       " 'Acetochlor': [0.0],\n",
       " 'Tebuconazole': [0.0, 0.0, 0.0, 0.0, 0.0, 0.0],\n",
       " 'Cloquintocet-mexyl': [0.0],\n",
       " 'Iron': [0.0],\n",
       " 'Flutolanil': [0.0],\n",
       " 'Ammonia': [0.0, 0.0, 0.0, 0.0, 0.0],\n",
       " 'Methane, tetrafluoro-, R-14': [5.1304960187264845e-08,\n",
       "  3.741498925634532e-05],\n",
       " 'Occupation, inland waterbody, unspecified': [0.0],\n",
       " 'Profenofos': [0.0],\n",
       " 'Picoxystrobin': [0.0, 0.0],\n",
       " '2,4-di-tert-butylphenol': [0.0],\n",
       " 'Zirconium-95': [0.0, 0.0],\n",
       " 'Acrylate': [0.0],\n",
       " 'Transformation, to dump site': [0.0],\n",
       " '2-Methyl-1-propanol': [0.0, 0.0, 0.0],\n",
       " 'Praseodymium': [0.0],\n",
       " 'Volume occupied, final repository for low-active radioactive waste': [0.0],\n",
       " 'Radon-222': [0.0, 0.0, 0.0, 0.0],\n",
       " 'Uranium-234': [0.0, 0.0],\n",
       " 'Quizalofop-ethyl': [0.0, 0.0, 0.0],\n",
       " 'Phosmet': [0.0],\n",
       " 'Transformation, to annual crop': [0.0],\n",
       " 'Transformation, to annual crop, irrigated, intensive': [0.0],\n",
       " 'Aluminium hydroxide': [0.0],\n",
       " 'Sethoxydim': [0.0, 0.0, 0.0],\n",
       " 'Flucarbazone sodium salt': [0.0],\n",
       " 'Occupation, seabed, infrastructure': [0.0],\n",
       " 'Aclonifen': [0.0],\n",
       " 'Caesium-134': [0.0, 0.0],\n",
       " 'Methane, bromo-, Halon 1001': [4.1771039297219515e-25,\n",
       "  5.401646155440854e-10],\n",
       " 'Insecticides, unspecified': [0.0],\n",
       " 'Antimony-124': [0.0, 0.0],\n",
       " '2-Methylpentane': [0.0, 0.0],\n",
       " 'Transformation, to permanent crop': [0.0],\n",
       " 'Barite': [0.0, 0.0],\n",
       " 'Phenmedipham': [0.0],\n",
       " 'Oxamyl': [0.0],\n",
       " 'Nitrogen dioxide': [0.0],\n",
       " 'Butylcarbamate, iodopropynyl': [0.0, 0.0],\n",
       " 'Carbon dioxide, in air': [0.0],\n",
       " 'Benzo(a)pyrene': [0.0, 0.0, 0.0, 0.0],\n",
       " 'Occupation, dump site': [0.0],\n",
       " 'Transformation, to urban, discontinuously built': [0.0],\n",
       " 'Vinclozolin': [0.0],\n",
       " 'Flufenacet': [0.0, 0.0],\n",
       " 'Imazamox': [0.0, 0.0, 0.0],\n",
       " 'Transformation, to industrial area': [0.0],\n",
       " 'Xenon-131m': [0.0],\n",
       " 'Dimethyl malonate': [0.0],\n",
       " 'Benzene, ethyl-': [0.0, 0.0, 0.0, 0.0, 0.0, 0.0],\n",
       " 'Propylene glycol': [0.0],\n",
       " 'Ruthenium-103': [0.0, 0.0],\n",
       " 'Monochloroethane': [7.36493680230612e-12, 0.0, 0.0],\n",
       " 'Maleic hydrazide': [0.0],\n",
       " 'Plutonium-alpha': [0.0],\n",
       " 'Cymoxanil': [0.0],\n",
       " 'Gypsum': [0.0],\n",
       " 'Water, lake': [0.0],\n",
       " 'Fosetyl': [0.0],\n",
       " 'Methane, from soil or biomass stock': [1.196178535697314e-06],\n",
       " 'Cobalt-58': [0.0, 0.0],\n",
       " 'Clay, bentonite': [0.0],\n",
       " 'Transformation, to traffic area, rail network': [0.0],\n",
       " 'Halosulfuron-methyl': [0.0],\n",
       " 'Urea': [0.0, 0.0],\n",
       " 'o-Nitrotoluene': [0.0],\n",
       " 'Ethane, 1,1,2-trichloro-1,2,2-trifluoro-, CFC-113': [0.0,\n",
       "  3.258538483203524e-08,\n",
       "  7.060895114606375e-08],\n",
       " 'Actinides, radioactive, unspecified': [0.0, 0.0],\n",
       " 'Dimethyl carbonate': [0.0],\n",
       " 'Butyl acetate': [0.0],\n",
       " 'Rubidium': [0.0, 0.0],\n",
       " 'Peat': [0.0],\n",
       " 'Chlorpyrifos': [0.0, 0.0, 0.0, 0.0, 0.0],\n",
       " 'Fish, pelagic, in ocean': [0.0],\n",
       " 'Transformation, to forest, unspecified': [0.0],\n",
       " 'Carbon dioxide, from soil or biomass stock': [1.689865292733897e-05,\n",
       "  0.00022105464121584988],\n",
       " 'Argon-41': [0.0],\n",
       " 'Methane, bromotrifluoro-, Halon 1301': [1.7420103450023466e-12,\n",
       "  3.6736191025323364e-06],\n",
       " 'Occupation, annual crop': [0.0],\n",
       " 'Hazardous waste disposed': [0.0],\n",
       " 'Ulexite': [0.0],\n",
       " 'Triphenyltin': [0.0],\n",
       " 'Furathiocarb': [0.0],\n",
       " 'Boric acid': [0.0],\n",
       " 'Carbon monoxide, from soil or biomass stock': [0.0],\n",
       " 'Barium': [0.0],\n",
       " 'Transformation, to annual crop, non-irrigated, extensive': [0.0],\n",
       " 'Water, unspecified natural origin': [0.0, 0.0, 0.0],\n",
       " 'Trichlorfon': [0.0],\n",
       " 'Nitric acid': [0.0, 0.0, 0.0],\n",
       " 'Transformation, to unspecified': [0.0],\n",
       " 'Iodosulfuron': [0.0],\n",
       " 'Particulate Matter, > 2.5 um and < 10um': [0.0, 0.0, 0.0, 0.0],\n",
       " 'Wood, soft, standing': [0.0],\n",
       " 'Phosgene': [0.0],\n",
       " 'Hydrogen fluoride': [0.0, 0.0, 0.0, 0.0],\n",
       " 'Phosphine': [0.0],\n",
       " 'Napropamide': [0.0],\n",
       " 'Zeta-cypermethrin': [0.0, 0.0],\n",
       " 'Bifenox': [0.0],\n",
       " '1,3-Dioxolan-2-one': [0.0],\n",
       " 'Organic carbon, placed in landfill': [0.0],\n",
       " 'Carbon monoxide, fossil': [0.0, 0.0, 0.0, 0.0],\n",
       " 'Steatite': [0.0],\n",
       " 'Fluopyram': [0.0, 0.0, 0.0],\n",
       " 'Transformation, from pasture, man made, intensive': [0.0],\n",
       " 'Krypton-87': [0.0],\n",
       " 'Propachlor': [0.0],\n",
       " 'Occupation, annual crop, greenhouse': [0.0],\n",
       " 'tau-Fluvalinate': [0.0],\n",
       " 'Azadirachtin': [0.0],\n",
       " 'Diphenyltin': [0.0],\n",
       " 'Kieserite': [0.0],\n",
       " 'Diquat': [0.0],\n",
       " 'Pyroxasulfone': [0.0, 0.0],\n",
       " 'Fenoxaprop': [0.0, 0.0],\n",
       " 'Propamocarb HCl': [0.0],\n",
       " 'TCMTB': [0.0],\n",
       " 'Phenol, pentachloro-': [0.0, 0.0, 0.0, 0.0],\n",
       " 'Transformation, from grassland, natural (non-use)': [0.0],\n",
       " 'Gravel': [0.0],\n",
       " 'Terbacil': [0.0],\n",
       " 'Mandipropamid': [0.0],\n",
       " 'Isoxaflutole': [0.0],\n",
       " 'Antimony-122': [0.0],\n",
       " 'Cycloxydim': [0.0],\n",
       " 'Sodium formate': [0.0, 0.0],\n",
       " 'Occupation, pasture, man made, intensive': [0.0],\n",
       " 'Benzyl alcohol': [0.0],\n",
       " 'Yttrium': [0.0],\n",
       " 'Heptane': [0.0, 0.0],\n",
       " 'Alachlor': [0.0, 0.0],\n",
       " 'Ethalfluralin': [0.0, 0.0, 0.0],\n",
       " 'Helium': [0.0, 0.0, 0.0],\n",
       " 'Transformation, from river, natural (non-use)': [0.0],\n",
       " 'Hydrogen peroxide': [0.0, 0.0, 0.0],\n",
       " 'Saflufenacil': [0.0, 0.0, 0.0],\n",
       " 'Carnallite': [0.0],\n",
       " 'Occupation, seabed, drilling and mining': [0.0],\n",
       " 'Pyrene': [0.0, 0.0],\n",
       " 'Aldicarb': [0.0],\n",
       " 'Transformation, from permanent crop, irrigated, intensive': [0.0],\n",
       " 'Fluorspar': [0.0],\n",
       " 'Iodine-133': [0.0, 0.0],\n",
       " 'Caesium-137': [0.0, 0.0, 0.0],\n",
       " 'Anthraquinone': [0.0],\n",
       " 'Volume occupied, final repository for radioactive waste': [0.0],\n",
       " 'Anthracene': [0.0, 0.0],\n",
       " 'Transformation, from grassland, natural, for livestock grazing': [0.0],\n",
       " 'Gas, natural': [0.0],\n",
       " 'Fluazifop-P-butyl': [0.0, 0.0, 0.0, 0.0, 0.0],\n",
       " 'Tellurium-123m': [0.0],\n",
       " 'Flusilazole': [0.0],\n",
       " 'Metribuzin': [0.0, 0.0, 0.0],\n",
       " 'Gadolinium': [0.0],\n",
       " 'Clay, unspecified': [0.0],\n",
       " 'Sodium sulphate, various forms': [0.0],\n",
       " 'Cyhalothrin, gamma-': [0.0, 0.0],\n",
       " 'Fenpropimorph': [0.0],\n",
       " 'Cyprodinil': [0.0],\n",
       " 'Ammonium sulfate': [0.0],\n",
       " 'Silicon dioxide': [0.0],\n",
       " 'Caesium-136': [0.0],\n",
       " 'Tellurium-132': [0.0],\n",
       " 'Zinc-65': [0.0, 0.0],\n",
       " 'Diafenthiuron': [0.0, 0.0],\n",
       " 'Transformation, from forest, primary (non-use)': [0.0],\n",
       " 'Transformation, from traffic area, road network': [0.0],\n",
       " 'Occupation, forest, intensive': [0.0],\n",
       " 'Ethoprop': [0.0],\n",
       " 'Kresoxim-methyl': [0.0],\n",
       " 'Butyrolactone': [0.0],\n",
       " 'Decanoic acid': [0.0],\n",
       " 'Indeno(1,2,3-cd)pyrene': [0.0, 0.0],\n",
       " 'Transformation, from forest, unspecified': [0.0],\n",
       " 'Occupation, permanent crop, irrigated, intensive': [0.0],\n",
       " 'Sodium nitrate': [0.0],\n",
       " 'Monoethanolamine': [0.0, 0.0, 0.0],\n",
       " 'Chlorfenvinphos': [0.0],\n",
       " 'Oryzalin': [0.0],\n",
       " 'Technetium-99m': [0.0],\n",
       " 'Transformation, from forest, extensive': [0.0],\n",
       " 'Glucose': [0.0],\n",
       " 'Triadimenol': [0.0],\n",
       " 'Trisodium phosphate': [0.0],\n",
       " 'Sodium-24': [0.0],\n",
       " 'Oxydemeton-methyl': [0.0],\n",
       " 'Transformation, from seabed, unspecified': [0.0],\n",
       " 'Chlorfenapyr': [0.0],\n",
       " 'Bromide': [0.0],\n",
       " 'Acetyl chloride': [0.0],\n",
       " 'Acrinathrin': [0.0],\n",
       " 'Furan': [0.0],\n",
       " 'Diclofop': [0.0],\n",
       " 'Occupation, urban/industrial fallow (non-use)': [0.0],\n",
       " 'Occupation, annual crop, non-irrigated, extensive': [0.0],\n",
       " 'Transformation, from wetland, inland (non-use)': [0.0],\n",
       " 'Endothall': [0.0],\n",
       " 'Antimony-125': [0.0, 0.0],\n",
       " 'Occupation, arable land, unspecified use': [0.0],\n",
       " 'Transformation, to inland waterbody, unspecified': [0.0],\n",
       " 'Metaldehyde': [0.0],\n",
       " 'Transformation, to lake, artificial': [0.0],\n",
       " 'Terbuthylazin': [0.0],\n",
       " 'Occupation, lake, artificial': [0.0],\n",
       " 'Buprofezin': [0.0],\n",
       " 'Carbonyl sulfide': [0.0],\n",
       " 'Anhydrite': [0.0],\n",
       " 'Laterite': [0.0],\n",
       " '1-Pentene': [0.0, 0.0],\n",
       " 'Monocrotophos': [0.0],\n",
       " 'Selenium': [0.0],\n",
       " 'Sodium dichromate': [0.0],\n",
       " 'Amine oxides': [0.0],\n",
       " 'Discarded fish, demersal, to ocean': [0.0],\n",
       " 'Herbicides, unspecified': [0.0],\n",
       " 'Chlortoluron': [0.0],\n",
       " 'Acetonitrile': [0.0, 0.0],\n",
       " 'Ethane, 1,1-difluoro-, HFC-152a': [5.529480998662004e-07,\n",
       "  4.035938527143199e-10],\n",
       " 'Diisobutyl ketone': [0.0],\n",
       " 'Iodine-129': [0.0],\n",
       " 'Mefenpyr-diethyl': [0.0],\n",
       " 'Methiocarb': [0.0],\n",
       " 'Bromate': [0.0],\n",
       " 'Xenon-133': [0.0],\n",
       " 'Terpenes': [0.0],\n",
       " 'Transformation, from permanent crop': [0.0],\n",
       " 'Bicarbonate': [0.0, 0.0],\n",
       " 'Transformation, from permanent crop, irrigated': [0.0],\n",
       " 'Pumice': [0.0],\n",
       " 'Trichloroethylene': [1.3515638864604476e-11],\n",
       " 'Metam-sodium': [0.0],\n",
       " 'Lenacil': [0.0],\n",
       " 'Formate': [0.0],\n",
       " 'Clopyralid': [0.0],\n",
       " 'Molinate': [0.0],\n",
       " 'Ammonium carbonate': [0.0],\n",
       " 'Triethylammonium': [0.0],\n",
       " 'Clodinafop-propargyl': [0.0],\n",
       " 'Transformation, to grassland, natural (non-use)': [0.0],\n",
       " 'Spinosad': [0.0],\n",
       " 'Maleic anhydride': [0.0],\n",
       " 'Pirimiphos methyl': [0.0],\n",
       " 'Tebutam': [0.0],\n",
       " 'Tellurium': [0.0, 0.0],\n",
       " 'Desmedipham': [0.0],\n",
       " 'Krypton-85': [0.0],\n",
       " 'Quizalofop-P': [0.0],\n",
       " 'Hydrazine': [0.0],\n",
       " 'Methane, trichlorofluoro-, CFC-11': [4.648067955891523e-10],\n",
       " 'Cobalt': [0.0],\n",
       " 'Potassium': [0.0],\n",
       " '2,2,4-Trimethyl pentane': [0.0],\n",
       " 'Transformation, from forest, intensive': [0.0],\n",
       " 'Oil, crude': [0.0],\n",
       " 'Propylene oxide': [0.0, 0.0, 0.0],\n",
       " 'Flumiclorac-pentyl': [0.0, 0.0],\n",
       " 'Paraffins': [0.0, 0.0, 0.0],\n",
       " 'Trinexapac-ethyl': [0.0],\n",
       " 'Copper oxide': [0.0],\n",
       " 'Hexazinone': [0.0],\n",
       " 'Maneb': [0.0],\n",
       " 'Norflurazon': [0.0],\n",
       " 'Clomazone': [0.0],\n",
       " 'Parathion': [0.0],\n",
       " 'Tebupirimfos': [0.0],\n",
       " 'Prochloraz': [0.0],\n",
       " 'Acidity, unspecified': [0.0, 0.0],\n",
       " 'Talc': [0.0],\n",
       " 'Cadmium': [0.0],\n",
       " 'Transformation, from arable land, unspecified use': [0.0],\n",
       " 'Silthiofam': [0.0],\n",
       " 'Transformation, from urban, green area': [0.0],\n",
       " 'Neodymium': [0.0],\n",
       " 'Triasulfuron': [0.0],\n",
       " 'Shale': [0.0],\n",
       " 'Transformation, to pasture, man made, extensive': [0.0],\n",
       " 'Occupation, construction site': [0.0],\n",
       " 'Tantalum': [0.0],\n",
       " 'Volume occupied, reservoir': [0.0],\n",
       " 'Quintozene': [0.0],\n",
       " 'Prosulfuron': [0.0],\n",
       " 'Dodecanol': [0.0],\n",
       " 'Flupyrsulfuron-methyl': [0.0],\n",
       " 'Furfural': [0.0],\n",
       " 'Tribenuron': [0.0],\n",
       " 'Dichlorvos': [0.0],\n",
       " 'Diflufenzopyr-sodium': [0.0],\n",
       " 'Lithium': [0.0],\n",
       " 'Transformation, from traffic area, rail/road embankment': [0.0],\n",
       " 'Transformation, from annual crop, irrigated': [0.0],\n",
       " 'Acenaphthylene': [0.0, 0.0, 0.0],\n",
       " 'Palladium II': [0.0],\n",
       " 'Diethyl ether': [0.0],\n",
       " 'Energy, kinetic (in wind), converted': [0.0],\n",
       " 'Pirimicarb': [0.0],\n",
       " '1-Pentanol': [0.0, 0.0],\n",
       " 'Transformation, from annual crop, irrigated, intensive': [0.0],\n",
       " 'Volume occupied, underground deposit': [0.0],\n",
       " 'Strontium-89': [0.0],\n",
       " 'Transformation, to permanent crop, irrigated, intensive': [0.0],\n",
       " 'Ethane, pentafluoro-, HFC-125': [2.535325119371996e-32],\n",
       " 'Flurtamone': [0.0],\n",
       " 'Monophenyltin': [0.0],\n",
       " 'Transformation, to river, artificial': [0.0],\n",
       " 'Water, salt, sole': [0.0],\n",
       " 'Transformation, to pasture, man made, intensive': [0.0],\n",
       " 'Palladium': [0.0],\n",
       " 'Terbium': [0.0],\n",
       " 'Phosphorus oxychloride': [0.0],\n",
       " 'Benomyl': [0.0],\n",
       " 'Dimethyl hexynediol': [0.0],\n",
       " 'Silicon tetrafluoride': [0.0],\n",
       " 'Boscalid': [0.0],\n",
       " 'Granite': [0.0],\n",
       " 'Water, in air': [0.0],\n",
       " 'Diphenylether compounds': [0.0],\n",
       " 'Transformation, to dump site, slag compartment': [0.0],\n",
       " 'Quinoxyfen': [0.0],\n",
       " 'Sodium tetrahydridoborate': [0.0],\n",
       " 'Chromium': [0.0],\n",
       " 'Tin': [0.0],\n",
       " 'Transformation, to traffic area, rail/road embankment': [0.0],\n",
       " 'Ethane, 1,1,1-trifluoro-, HFC-143a': [3.0335407360170576e-33],\n",
       " 'Transformation, to seabed, infrastructure': [0.0],\n",
       " 'Titanium': [0.0],\n",
       " 'Plutonium-238': [0.0],\n",
       " 'Transformation, to seabed, drilling and mining': [0.0],\n",
       " 'Olivine': [0.0],\n",
       " 'Transformation, from unspecified': [0.0],\n",
       " 'Amidosulfuron': [0.0],\n",
       " 'Nitrogen fluoride': [4.007587126367954e-14],\n",
       " 'Transformation, from annual crop': [0.0],\n",
       " 'Bromuconazole': [0.0],\n",
       " 'Methane, dichlorofluoro-, HCFC-21': [1.0822496300818036e-11],\n",
       " 'Mepiquat chloride': [0.0],\n",
       " 'Bensulfuron methyl ester': [0.0],\n",
       " 'Transformation, from dump site, inert material landfill': [0.0],\n",
       " 'Chloroacetyl chloride': [0.0],\n",
       " 'Propanil': [0.0],\n",
       " 'Piperonyl butoxide': [0.0],\n",
       " 'Transformation, from dump site, slag compartment': [0.0],\n",
       " 'Gangue': [0.0],\n",
       " 'Carbon, organic, in soil or biomass stock': [0.0],\n",
       " 'Metosulam': [0.0],\n",
       " 'Captan': [0.0],\n",
       " 'Perchlorate': [0.0],\n",
       " 'Metamitron': [0.0],\n",
       " 'Manganese': [0.0],\n",
       " 'Iprodione': [0.0],\n",
       " 'Occupation, industrial area': [0.0],\n",
       " '2-Nitrobenzoic acid': [0.0],\n",
       " 'Myclobutanil': [0.0],\n",
       " 'Dimethyl hexanediol': [0.0],\n",
       " 'Mefenpyr': [0.0],\n",
       " 'Xenon-137': [0.0],\n",
       " 'Xenon-138': [0.0],\n",
       " 'Fosetyl-aluminium': [0.0],\n",
       " 'Asulam': [0.0],\n",
       " '2-chlorobenzaldehyde': [0.0],\n",
       " 'Transformation, to urban, continuously built': [0.0],\n",
       " 'Dithianon': [0.0],\n",
       " 'Oxyfluorfen': [0.0],\n",
       " 'Occupation, permanent crop, non-irrigated, intensive': [0.0],\n",
       " 'Energy, gross calorific value, in biomass': [0.0],\n",
       " 'Occupation, grassland, natural (non-use)': [0.0],\n",
       " 'Transformation, from pasture, man made, extensive': [0.0],\n",
       " 'Ethane, 1,2-dichloro-1,1,2,2-tetrafluoro-, CFC-114': [0.0],\n",
       " 'Prohexadione-calcium': [0.0],\n",
       " 'Pyrimethanil': [0.0],\n",
       " 'Transformation, from dump site, sanitary landfill': [0.0],\n",
       " 'Chlorate': [0.0],\n",
       " 'Diclofop-methyl': [0.0],\n",
       " 'Arsenic': [0.0],\n",
       " 'Basalt': [0.0],\n",
       " 'Anthranilic acid': [0.0],\n",
       " 'Hexaconazole': [0.0],\n",
       " 'Imazapyr': [0.0],\n",
       " 'Occupation, seabed, unspecified': [0.0],\n",
       " 'Dysprosium': [0.0],\n",
       " 'Florasulam': [0.0],\n",
       " 'Aldrin': [0.0],\n",
       " 'Ioxynil': [0.0],\n",
       " 'Transformation, to annual crop, non-irrigated, intensive': [0.0],\n",
       " 'Samarium': [0.0],\n",
       " 'Carbosulfan': [0.0],\n",
       " 'Transformation, to heterogeneous, agricultural': [0.0],\n",
       " 'Flurochloridone': [0.0],\n",
       " 'Mecoprop': [0.0],\n",
       " 'Occupation, pasture, man made, extensive': [0.0],\n",
       " 'Chloridazon': [0.0],\n",
       " 'Rimsulfuron': [0.0],\n",
       " 'Vanadium': [0.0],\n",
       " 'Diflufenican': [0.0],\n",
       " 'Waste mass, total, placed in landfill': [0.0],\n",
       " 'Linuron': [0.0],\n",
       " 'Transformation, from shrub land, sclerophyllous': [0.0],\n",
       " 'Sulfur oxides': [0.0],\n",
       " 'Graphite': [0.0],\n",
       " 'Transformation, to forest, extensive': [0.0],\n",
       " 'Fenoxaprop-P ethyl ester': [0.0],\n",
       " 'Transformation, from pasture, man made': [0.0],\n",
       " 'Mesosulfuron-methyl (prop)': [0.0],\n",
       " 'Silicon tetrachloride': [0.0],\n",
       " 'Benfluralin': [0.0]}"
      ]
     },
     "execution_count": 114,
     "metadata": {},
     "output_type": "execute_result"
    }
   ],
   "source": [
    "from collections import defaultdict\n",
    "\n",
    "functional_unit = {random_act:1}\n",
    "lca = bc.LCA(functional_unit, ipcc2021)\n",
    "lca.lci()\n",
    "lca.lcia()\n",
    "\n",
    "#get the keys for each biosphere flow of the same name\n",
    "all_unique_names_and_their_keys = defaultdict(list)\n",
    "\n",
    "for flow in bw.Database(\"biosphere3\"):\n",
    "    if flow.key in lca.biosphere_dict:\n",
    "        all_unique_names_and_their_keys[flow['name']].append(flow.key)\n",
    "\n",
    "#get the rows for all biosphere flows of the same name\n",
    "all_unique_names_and_their_rows = {\n",
    "    name: [lca.biosphere_dict[key] for key in keys] \n",
    "    for name, keys in all_unique_names_and_their_keys.items()\n",
    "}\n",
    "\n",
    "#get the scores for all biosphere flows of the same name\n",
    "all_unique_names_and_their_scores = {\n",
    "    name: [lca.characterized_inventory[row, :].sum() for row in rows]\n",
    "    for name, rows in all_unique_names_and_their_rows.items()\n",
    "}\n",
    "\n",
    "all_unique_names_and_their_scores"
   ]
  },
  {
   "cell_type": "markdown",
   "metadata": {},
   "source": [
    "Now, let's sort this list by the score and only display the first 10 results."
   ]
  },
  {
   "cell_type": "code",
   "execution_count": 115,
   "metadata": {},
   "outputs": [
    {
     "data": {
      "text/plain": [
       "[(0.22661480841494552, 'Carbon dioxide, fossil'),\n",
       " (0.04892502909412793, 'Methane, fossil'),\n",
       " (0.0016879351382392866, 'Dinitrogen monoxide'),\n",
       " (0.00045938300223034883, 'Sulfur hexafluoride'),\n",
       " (0.00023795329414318884, 'Carbon dioxide, from soil or biomass stock'),\n",
       " (0.00023076334184524036, 'Methane, non-fossil'),\n",
       " (0.00013178205700642215, 'Methane, trifluoro-, HFC-23'),\n",
       " (3.746629421653259e-05, 'Methane, tetrafluoro-, R-14'),\n",
       " (9.337871988060906e-06, 'Ethane'),\n",
       " (8.96456610348429e-06, 'Methane, chlorodifluoro-, HCFC-22')]"
      ]
     },
     "execution_count": 115,
     "metadata": {},
     "output_type": "execute_result"
    }
   ],
   "source": [
    "#get the first 10 scores of the most contributing biosphere flows\n",
    "sorted_scores = sorted(\n",
    "    [(sum(scores), name) for name, scores in all_unique_names_and_their_scores.items()], \n",
    "    reverse=True\n",
    ")\n",
    "\n",
    "sorted_scores[:10]"
   ]
  },
  {
   "cell_type": "markdown",
   "metadata": {},
   "source": [
    "We can also encapsulate all this functionality in a single function."
   ]
  },
  {
   "cell_type": "code",
   "execution_count": 116,
   "metadata": {},
   "outputs": [],
   "source": [
    "from collections import defaultdict\n",
    "\n",
    "def top_emissions_by_name(lca, biosphere_database='biosphere3'):\n",
    "    names = defaultdict(list)\n",
    "\n",
    "    for flow in bd.Database(\"biosphere3\"):\n",
    "        if flow.key in lca.biosphere_dict:\n",
    "            names[flow['name']].append(\n",
    "                lca.characterized_inventory[lca.biosphere_dict[flow.key], :].sum()\n",
    "            )\n",
    "    \n",
    "    return sorted(\n",
    "        [(sum(scores), name) for name, scores in names.items()], \n",
    "        reverse=True\n",
    "    )"
   ]
  },
  {
   "cell_type": "code",
   "execution_count": 117,
   "metadata": {},
   "outputs": [
    {
     "data": {
      "text/plain": [
       "[(0.22661480841494552, 'Carbon dioxide, fossil'),\n",
       " (0.04892502909412793, 'Methane, fossil'),\n",
       " (0.0016879351382392866, 'Dinitrogen monoxide'),\n",
       " (0.00045938300223034883, 'Sulfur hexafluoride'),\n",
       " (0.00023795329414318884, 'Carbon dioxide, from soil or biomass stock')]"
      ]
     },
     "execution_count": 117,
     "metadata": {},
     "output_type": "execute_result"
    }
   ],
   "source": [
    "top_emissions_by_name(lca)[:5]"
   ]
  },
  {
   "cell_type": "markdown",
   "metadata": {},
   "source": [
    "We can see that this function also groups emissions according to their type, e.g. all fossil carbon dioxide emissions are summed to \"Carbon dioxide, fossil\", as compared to the command in the top `ca.annotated_top_emissions`."
   ]
  },
  {
   "cell_type": "markdown",
   "metadata": {},
   "source": [
    "---\n",
    "\n",
    "At this point, it's worth pointing again at the **[Activity browser](https://github.com/LCA-ActivityBrowser/activity-browser)** and **[lca_algebraic](https://github.com/oie-mines-paristech/lca_algebraic/)**. These two Brightway2-extensions serve different purposes and require different settings, so check them out if you're curious.\n",
    "\n",
    "---"
   ]
  },
  {
   "cell_type": "markdown",
   "metadata": {},
   "source": [
    "**Back to [table of contents](#section0)?**\n",
    "***"
   ]
  }
 ],
 "metadata": {
  "kernelspec": {
   "display_name": "Python 3 (ipykernel)",
   "language": "python",
   "name": "python3"
  },
  "language_info": {
   "codemirror_mode": {
    "name": "ipython",
    "version": 3
   },
   "file_extension": ".py",
   "mimetype": "text/x-python",
   "name": "python",
   "nbconvert_exporter": "python",
   "pygments_lexer": "ipython3",
   "version": "3.10.0"
  },
  "vscode": {
   "interpreter": {
    "hash": "6b7e606647c440a9f1c98ba7db5e62890ad5f79e431ee970c06274943fef0c4a"
   }
  }
 },
 "nbformat": 4,
 "nbformat_minor": 4
}
